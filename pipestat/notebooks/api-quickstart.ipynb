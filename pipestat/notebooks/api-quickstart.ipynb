{
 "cells": [
  {
   "cell_type": "markdown",
   "id": "52cf5f9c",
   "metadata": {},
   "source": [
    "# Pipestat API Quickstart Guide\n",
    "\n",
    "This example is for quickly reporting results to a results.yaml filebackend."
   ]
  },
  {
   "cell_type": "code",
   "execution_count": 15,
   "id": "426c0155",
   "metadata": {},
   "outputs": [],
   "source": [
    "from pipestat import PipestatManager\n",
    "\n",
    "#File Backend requires a results.yaml file\n",
    "result_file = \"../tests/data/results_docs_example.yaml\"\n",
    "\n",
    "#Every pipestat manager requires an output schema to know the format of results\n",
    "schema_file = \"../tests/data/sample_output_schema.yaml\"\n",
    "\n",
    "# With these two files, we can initialize a PipestatManager object and begin reporting results"
   ]
  },
  {
   "cell_type": "code",
   "execution_count": 16,
   "id": "3b2f3ad2",
   "metadata": {},
   "outputs": [
    {
     "name": "stderr",
     "output_type": "stream",
     "text": [
      "Initialize FileBackend\n"
     ]
    }
   ],
   "source": [
    "psm = PipestatManager(results_file_path=result_file, schema_path=schema_file)"
   ]
  },
  {
   "cell_type": "code",
   "execution_count": 17,
   "id": "d886a2c9",
   "metadata": {},
   "outputs": [
    {
     "name": "stdout",
     "output_type": "stream",
     "text": [
      "ParsedSchema (default_pipeline_name)\n",
      " Project-level properties:\n",
      " - None\n",
      " Sample-level properties:\n",
      " - number_of_things : {'type': 'integer', 'description': 'Number of things'}\n",
      " - percentage_of_things : {'type': 'number', 'description': 'Percentage of things'}\n",
      " - name_of_something : {'type': 'string', 'description': 'Name of something'}\n",
      " - switch_value : {'type': 'boolean', 'description': 'Is the switch on or off'}\n",
      " - output_file : {'description': 'This a path to the output file', 'type': 'object', 'object_type': 'file', 'properties': {'path': {'type': 'string'}, 'title': {'type': 'string'}}, 'required': ['path', 'title']}\n",
      " - output_image : {'description': 'This a path to the output image', 'type': 'object', 'object_type': 'image', 'properties': {'path': {'type': 'string'}, 'thumbnail_path': {'type': 'string'}, 'title': {'type': 'string'}}, 'required': ['path', 'thumbnail_path', 'title']}\n",
      " - md5sum : {'type': 'string', 'description': 'MD5SUM of an object', 'highlight': True}\n",
      " Status properties:\n",
      " - None\n"
     ]
    }
   ],
   "source": [
    "# Let's look at our output schema. Notice that the schema is only for reporting sample-level results\n",
    "print(psm.schema)"
   ]
  },
  {
   "cell_type": "code",
   "execution_count": 18,
   "id": "1900c74f",
   "metadata": {},
   "outputs": [
    {
     "data": {
      "text/plain": [
       "[\"Reported records for 'my_sample_name_1' in 'default_pipeline_name' :\\n - percentage_of_things: 100\"]"
      ]
     },
     "execution_count": 18,
     "metadata": {},
     "output_type": "execute_result"
    }
   ],
   "source": [
    "# Let's report a result. The result_identifier (e.g. percentage_of_things) must be in the output schema.\n",
    "# When reporting a result, a record_identifier must be provided either at the time of reporting \n",
    "# or upon PipestatManager creation.\n",
    "\n",
    "psm.report(record_identifier=\"my_sample_name_1\", values={\"percentage_of_things\": 100})"
   ]
  },
  {
   "cell_type": "code",
   "execution_count": 19,
   "id": "7f63b386",
   "metadata": {},
   "outputs": [
    {
     "name": "stderr",
     "output_type": "stream",
     "text": [
      "These results exist for 'my_sample_name_1': percentage_of_things\n",
      "Overwriting existing results: percentage_of_things\n"
     ]
    },
    {
     "data": {
      "text/plain": [
       "[\"Reported records for 'my_sample_name_1' in 'default_pipeline_name' :\\n - percentage_of_things: 50\"]"
      ]
     },
     "execution_count": 19,
     "metadata": {},
     "output_type": "execute_result"
    }
   ],
   "source": [
    "# Pipestat reports the result as well as a created time and a modified time.\n",
    "# We can overwrite the modified time by reporting a new result. This is because force_overwrite defualts to True\n",
    "psm.report(record_identifier=\"my_sample_name_1\", values={\"percentage_of_things\": 50})"
   ]
  },
  {
   "cell_type": "code",
   "execution_count": 20,
   "id": "46562a15-13c8-4246-86f0-5f24d12339f7",
   "metadata": {},
   "outputs": [
    {
     "name": "stderr",
     "output_type": "stream",
     "text": [
      "These results exist for 'my_sample_name_1': percentage_of_things\n"
     ]
    },
    {
     "data": {
      "text/plain": [
       "False"
      ]
     },
     "execution_count": 20,
     "metadata": {},
     "output_type": "execute_result"
    }
   ],
   "source": [
    "# If you set the flag to false and attempt to report results for a result that already exists...\n",
    "psm.report(record_identifier=\"my_sample_name_1\", values={\"percentage_of_things\": 50}, force_overwrite=False)"
   ]
  },
  {
   "cell_type": "code",
   "execution_count": 22,
   "id": "330c4447",
   "metadata": {},
   "outputs": [
    {
     "data": {
      "text/plain": [
       "default_pipeline_name:\n",
       "  project: {}\n",
       "  sample:\n",
       "    my_sample_name_1:\n",
       "      meta:\n",
       "        pipestat_modified_time: '2024-04-18 14:17:08'\n",
       "        pipestat_created_time: '2024-04-18 14:17:07'\n",
       "        history:\n",
       "          percentage_of_things:\n",
       "            '2024-04-18 14:17:08': 100\n",
       "      percentage_of_things: 50\n"
      ]
     },
     "execution_count": 22,
     "metadata": {},
     "output_type": "execute_result"
    }
   ],
   "source": [
    "# Let's look at the reported data\n",
    "# Note that history recording is turned on by default and lives under meta -> history keys\n",
    "psm.data"
   ]
  },
  {
   "cell_type": "code",
   "execution_count": 23,
   "id": "762eec6f",
   "metadata": {},
   "outputs": [
    {
     "name": "stdout",
     "output_type": "stream",
     "text": [
      "{'percentage_of_things': 50, 'record_identifier': 'my_sample_name_1'}\n"
     ]
    }
   ],
   "source": [
    "# You can also retrieve a result:\n",
    "result = psm.retrieve_one(record_identifier=\"my_sample_name_1\")\n",
    "print(result)"
   ]
  },
  {
   "cell_type": "code",
   "execution_count": 27,
   "id": "4eddc225",
   "metadata": {},
   "outputs": [
    {
     "name": "stdout",
     "output_type": "stream",
     "text": [
      "{'percentage_of_things': {'2024-04-18 14:17:08': 100}}\n"
     ]
    }
   ],
   "source": [
    "# Similarly you can retrieve historical results as well\n",
    "result = psm.retrieve_history(record_identifier=\"my_sample_name_1\")\n",
    "print(result)"
   ]
  },
  {
   "cell_type": "code",
   "execution_count": null,
   "id": "8b9bdddb",
   "metadata": {},
   "outputs": [],
   "source": []
  }
 ],
 "metadata": {
  "kernelspec": {
   "display_name": ".venv",
   "language": "python",
   "name": ".venv"
  },
  "language_info": {
   "codemirror_mode": {
    "name": "ipython",
    "version": 3
   },
   "file_extension": ".py",
   "mimetype": "text/x-python",
   "name": "python",
   "nbconvert_exporter": "python",
   "pygments_lexer": "ipython3",
   "version": "3.10.12"
  }
 },
 "nbformat": 4,
 "nbformat_minor": 5
}
