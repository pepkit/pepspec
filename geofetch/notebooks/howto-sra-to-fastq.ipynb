{
 "cells": [
  {
   "cell_type": "markdown",
   "id": "b5093d6d",
   "metadata": {},
   "source": [
    "## How to extract fastq files from SRA"
   ]
  },
  {
   "cell_type": "markdown",
   "id": "e9f15e8e35494e0b",
   "metadata": {},
   "source": [
    "1. Install geofetch"
   ]
  },
  {
   "cell_type": "code",
   "execution_count": 1,
   "id": "4baa57aa54695983",
   "metadata": {
    "ExecuteTime": {
     "end_time": "2025-07-10T04:29:46.304220Z",
     "start_time": "2025-07-10T04:29:46.117835Z"
    }
   },
   "outputs": [
    {
     "name": "stdout",
     "output_type": "stream",
     "text": [
      "Defaulting to user installation because normal site-packages is not writeable\n",
      "Requirement already satisfied: geofetch in /home/bnt4me/.local/lib/python3.10/site-packages (0.12.7)\n",
      "Requirement already satisfied: colorama>=0.3.9 in /usr/lib/python3/dist-packages (from geofetch) (0.4.4)\n",
      "Requirement already satisfied: coloredlogs>=15.0.1 in /home/bnt4me/.local/lib/python3.10/site-packages (from geofetch) (15.0.1)\n",
      "Requirement already satisfied: logmuse>=0.2.6 in /home/bnt4me/.local/lib/python3.10/site-packages (from geofetch) (0.2.7)\n",
      "Requirement already satisfied: pandas>=1.5.3 in /home/bnt4me/.local/lib/python3.10/site-packages (from geofetch) (2.2.2)\n",
      "Requirement already satisfied: peppy>=0.40.6 in /home/bnt4me/.local/lib/python3.10/site-packages (from geofetch) (0.40.7)\n",
      "Requirement already satisfied: piper>=0.14.4 in /home/bnt4me/.local/lib/python3.10/site-packages (from geofetch) (0.14.4)\n",
      "Requirement already satisfied: requests>=2.28.1 in /home/bnt4me/.local/lib/python3.10/site-packages (from geofetch) (2.31.0)\n",
      "Requirement already satisfied: rich>=12.5.1 in /home/bnt4me/.local/lib/python3.10/site-packages (from geofetch) (13.7.1)\n",
      "Requirement already satisfied: ubiquerg>=0.6.2 in /home/bnt4me/.local/lib/python3.10/site-packages (from geofetch) (0.8.1)\n",
      "Requirement already satisfied: xmltodict>=0.13.0 in /home/bnt4me/.local/lib/python3.10/site-packages (from geofetch) (0.13.0)\n",
      "Requirement already satisfied: humanfriendly>=9.1 in /home/bnt4me/.local/lib/python3.10/site-packages (from coloredlogs>=15.0.1->geofetch) (10.0)\n",
      "Requirement already satisfied: numpy>=1.22.4 in /home/bnt4me/.local/lib/python3.10/site-packages (from pandas>=1.5.3->geofetch) (1.25.2)\n",
      "Requirement already satisfied: python-dateutil>=2.8.2 in /home/bnt4me/.local/lib/python3.10/site-packages (from pandas>=1.5.3->geofetch) (2.8.2)\n",
      "Requirement already satisfied: pytz>=2020.1 in /usr/lib/python3/dist-packages (from pandas>=1.5.3->geofetch) (2022.1)\n",
      "Requirement already satisfied: tzdata>=2022.7 in /home/bnt4me/.local/lib/python3.10/site-packages (from pandas>=1.5.3->geofetch) (2023.3)\n",
      "Requirement already satisfied: pyyaml in /usr/lib/python3/dist-packages (from peppy>=0.40.6->geofetch) (5.4.1)\n",
      "Requirement already satisfied: pephubclient>=0.4.2 in /home/bnt4me/.local/lib/python3.10/site-packages (from peppy>=0.40.6->geofetch) (0.4.2)\n",
      "Requirement already satisfied: psutil in /home/bnt4me/.local/lib/python3.10/site-packages (from piper>=0.14.4->geofetch) (5.9.4)\n",
      "Requirement already satisfied: yacman>=0.9.3 in /home/bnt4me/.local/lib/python3.10/site-packages (from piper>=0.14.4->geofetch) (0.9.3)\n",
      "Requirement already satisfied: pipestat>=0.11.0 in /home/bnt4me/.local/lib/python3.10/site-packages (from piper>=0.14.4->geofetch) (0.12.1)\n",
      "Requirement already satisfied: charset-normalizer<4,>=2 in /home/bnt4me/.local/lib/python3.10/site-packages (from requests>=2.28.1->geofetch) (3.0.1)\n",
      "Requirement already satisfied: idna<4,>=2.5 in /usr/lib/python3/dist-packages (from requests>=2.28.1->geofetch) (3.3)\n",
      "Requirement already satisfied: urllib3<3,>=1.21.1 in /home/bnt4me/.local/lib/python3.10/site-packages (from requests>=2.28.1->geofetch) (1.26.18)\n",
      "Requirement already satisfied: certifi>=2017.4.17 in /usr/lib/python3/dist-packages (from requests>=2.28.1->geofetch) (2020.6.20)\n",
      "Requirement already satisfied: markdown-it-py>=2.2.0 in /home/bnt4me/.local/lib/python3.10/site-packages (from rich>=12.5.1->geofetch) (3.0.0)\n",
      "Requirement already satisfied: pygments<3.0.0,>=2.13.0 in /home/bnt4me/.local/lib/python3.10/site-packages (from rich>=12.5.1->geofetch) (2.17.2)\n",
      "Requirement already satisfied: mdurl~=0.1 in /home/bnt4me/.local/lib/python3.10/site-packages (from markdown-it-py>=2.2.0->rich>=12.5.1->geofetch) (0.1.2)\n",
      "Requirement already satisfied: typer>=0.7.0 in /home/bnt4me/.local/lib/python3.10/site-packages (from pephubclient>=0.4.2->peppy>=0.40.6->geofetch) (0.9.4)\n",
      "Requirement already satisfied: pydantic>2.5.0 in /home/bnt4me/.local/lib/python3.10/site-packages (from pephubclient>=0.4.2->peppy>=0.40.6->geofetch) (2.7.3)\n",
      "Requirement already satisfied: jsonschema in /home/bnt4me/.local/lib/python3.10/site-packages (from pipestat>=0.11.0->piper>=0.14.4->geofetch) (4.23.0)\n",
      "Requirement already satisfied: eido in /home/bnt4me/.local/lib/python3.10/site-packages (from pipestat>=0.11.0->piper>=0.14.4->geofetch) (0.2.4)\n",
      "Requirement already satisfied: jinja2 in /usr/lib/python3/dist-packages (from pipestat>=0.11.0->piper>=0.14.4->geofetch) (3.0.3)\n",
      "Requirement already satisfied: six>=1.5 in /usr/lib/python3/dist-packages (from python-dateutil>=2.8.2->pandas>=1.5.3->geofetch) (1.16.0)\n",
      "Requirement already satisfied: attmap>=0.13.0 in /home/bnt4me/.local/lib/python3.10/site-packages (from yacman>=0.9.3->piper>=0.14.4->geofetch) (0.13.2)\n",
      "Requirement already satisfied: oyaml in /home/bnt4me/.local/lib/python3.10/site-packages (from yacman>=0.9.3->piper>=0.14.4->geofetch) (1.0)\n",
      "Requirement already satisfied: attrs>=22.2.0 in /home/bnt4me/.local/lib/python3.10/site-packages (from jsonschema->pipestat>=0.11.0->piper>=0.14.4->geofetch) (25.3.0)\n",
      "Requirement already satisfied: jsonschema-specifications>=2023.03.6 in /home/bnt4me/.local/lib/python3.10/site-packages (from jsonschema->pipestat>=0.11.0->piper>=0.14.4->geofetch) (2025.4.1)\n",
      "Requirement already satisfied: referencing>=0.28.4 in /home/bnt4me/.local/lib/python3.10/site-packages (from jsonschema->pipestat>=0.11.0->piper>=0.14.4->geofetch) (0.36.2)\n",
      "Requirement already satisfied: rpds-py>=0.7.1 in /home/bnt4me/.local/lib/python3.10/site-packages (from jsonschema->pipestat>=0.11.0->piper>=0.14.4->geofetch) (0.24.0)\n",
      "Requirement already satisfied: annotated-types>=0.4.0 in /home/bnt4me/.local/lib/python3.10/site-packages (from pydantic>2.5.0->pephubclient>=0.4.2->peppy>=0.40.6->geofetch) (0.6.0)\n",
      "Requirement already satisfied: pydantic-core==2.18.4 in /home/bnt4me/.local/lib/python3.10/site-packages (from pydantic>2.5.0->pephubclient>=0.4.2->peppy>=0.40.6->geofetch) (2.18.4)\n",
      "Requirement already satisfied: typing-extensions>=4.6.1 in /home/bnt4me/.local/lib/python3.10/site-packages (from pydantic>2.5.0->pephubclient>=0.4.2->peppy>=0.40.6->geofetch) (4.8.0)\n",
      "Requirement already satisfied: click<9.0.0,>=7.1.1 in /usr/lib/python3/dist-packages (from typer>=0.7.0->pephubclient>=0.4.2->peppy>=0.40.6->geofetch) (8.0.3)\n",
      "\n",
      "\u001b[1m[\u001b[0m\u001b[34;49mnotice\u001b[0m\u001b[1;39;49m]\u001b[0m\u001b[39;49m A new release of pip is available: \u001b[0m\u001b[31;49m23.2.1\u001b[0m\u001b[39;49m -> \u001b[0m\u001b[32;49m25.1.1\u001b[0m\n",
      "\u001b[1m[\u001b[0m\u001b[34;49mnotice\u001b[0m\u001b[1;39;49m]\u001b[0m\u001b[39;49m To update, run: \u001b[0m\u001b[32;49mpython3 -m pip install --upgrade pip\u001b[0m\n"
     ]
    }
   ],
   "source": [
    "pip install geofetch"
   ]
  },
  {
   "cell_type": "code",
   "execution_count": 24,
   "id": "5d04aca7",
   "metadata": {
    "ExecuteTime": {
     "end_time": "2025-07-10T04:29:51.896318Z",
     "start_time": "2025-07-10T04:29:51.884023Z"
    }
   },
   "outputs": [
    {
     "name": "stdout",
     "output_type": "stream",
     "text": [
      "geofetch 0.12.8\n"
     ]
    }
   ],
   "source": [
    "geofetch --version"
   ]
  },
  {
   "cell_type": "markdown",
   "id": "51be28fa",
   "metadata": {},
   "source": [
    "1) Download SRA files and PEP using GEOfetch\n",
    "\n",
    "Add flags:\n",
    "1) `--add-convert-modifier` (To add looper configurations for conversion)\n",
    "2) `--discard-soft` (To delete soft files. We don't need them :D)"
   ]
  },
  {
   "cell_type": "code",
   "execution_count": 25,
   "id": "5d1d2a6a",
   "metadata": {
    "scrolled": true
   },
   "outputs": [
    {
     "name": "stdout",
     "output_type": "stream",
     "text": [
      "\u001b[1;30m[INFO]\u001b[0m \u001b[32m[00:54:23]\u001b[0m Metadata folder: /home/bnt4me/virginia/repos/pepspec/docs/geofetch/notebooks/red_algae\n",
      "\u001b[1;30m[INFO]\u001b[0m \u001b[32m[00:54:24]\u001b[0m Trying GSE67303 (not a file) as accession...\n",
      "\u001b[1;30m[INFO]\u001b[0m \u001b[32m[00:54:24]\u001b[0m Skipped 0 accessions. Starting now.\n",
      "\u001b[1;30m[INFO]\u001b[0m \u001b[32m[00:54:24]\u001b[0m \u001b[38;5;200mProcessing accession 1 of 1: 'GSE67303'\u001b[0m\n",
      "\u001b[1;30m[INFO]\u001b[0m \u001b[32m[00:54:24]\u001b[0m Processed 4 samples.\n",
      "\u001b[1;30m[INFO]\u001b[0m \u001b[32m[00:54:24]\u001b[0m Expanding metadata list...\n",
      "\u001b[1;30m[INFO]\u001b[0m \u001b[32m[00:54:24]\u001b[0m Found SRA Project accession: SRP056574\n",
      "\u001b[1;30m[INFO]\u001b[0m \u001b[32m[00:54:24]\u001b[0m Downloading SRP056574 sra metadata\n",
      "\u001b[1;30m[INFO]\u001b[0m \u001b[32m[00:54:25]\u001b[0m Parsing SRA file to download SRR records\n",
      "\u001b[1;30m[INFO]\u001b[0m \u001b[32m[00:54:25]\u001b[0m Getting SRR: SRR1930183  in (GSE67303)\n",
      "\n",
      "2025-07-10T04:54:26 prefetch.2.11.3: Current preference is set to retrieve SRA Normalized Format files with full base quality scores.\n",
      "2025-07-10T04:54:26 prefetch.2.11.3: 1) Downloading 'SRR1930183'...\n",
      "2025-07-10T04:54:26 prefetch.2.11.3: SRA Normalized Format file is being retrieved, if this is different from your preference, it may be due to current file availability.\n",
      "2025-07-10T04:54:26 prefetch.2.11.3:  Downloading via HTTPS...\n",
      "2025-07-10T04:54:31 prefetch.2.11.3:  HTTPS download succeed\n",
      "2025-07-10T04:54:31 prefetch.2.11.3:  'SRR1930183' is valid\n",
      "2025-07-10T04:54:31 prefetch.2.11.3: 1) 'SRR1930183' was downloaded successfully\n",
      "2025-07-10T04:54:31 prefetch.2.11.3: 'SRR1930183' has 0 unresolved dependencies\n",
      "\u001b[1;30m[INFO]\u001b[0m \u001b[32m[00:54:31]\u001b[0m Getting SRR: SRR1930184  in (GSE67303)\n",
      "\n",
      "2025-07-10T04:54:32 prefetch.2.11.3: Current preference is set to retrieve SRA Normalized Format files with full base quality scores.\n",
      "2025-07-10T04:54:32 prefetch.2.11.3: 1) Downloading 'SRR1930184'...\n",
      "2025-07-10T04:54:32 prefetch.2.11.3: SRA Normalized Format file is being retrieved, if this is different from your preference, it may be due to current file availability.\n",
      "2025-07-10T04:54:32 prefetch.2.11.3:  Downloading via HTTPS...\n",
      "2025-07-10T04:54:36 prefetch.2.11.3:  HTTPS download succeed\n",
      "2025-07-10T04:54:36 prefetch.2.11.3:  'SRR1930184' is valid\n",
      "2025-07-10T04:54:36 prefetch.2.11.3: 1) 'SRR1930184' was downloaded successfully\n",
      "2025-07-10T04:54:36 prefetch.2.11.3: 'SRR1930184' has 0 unresolved dependencies\n",
      "\u001b[1;30m[INFO]\u001b[0m \u001b[32m[00:54:36]\u001b[0m Getting SRR: SRR1930185  in (GSE67303)\n",
      "\n",
      "2025-07-10T04:54:37 prefetch.2.11.3: Current preference is set to retrieve SRA Normalized Format files with full base quality scores.\n",
      "2025-07-10T04:54:37 prefetch.2.11.3: 1) Downloading 'SRR1930185'...\n",
      "2025-07-10T04:54:37 prefetch.2.11.3: SRA Normalized Format file is being retrieved, if this is different from your preference, it may be due to current file availability.\n",
      "2025-07-10T04:54:37 prefetch.2.11.3:  Downloading via HTTPS...\n",
      "2025-07-10T04:54:45 prefetch.2.11.3:  HTTPS download succeed\n",
      "2025-07-10T04:54:45 prefetch.2.11.3:  'SRR1930185' is valid\n",
      "2025-07-10T04:54:45 prefetch.2.11.3: 1) 'SRR1930185' was downloaded successfully\n",
      "2025-07-10T04:54:45 prefetch.2.11.3: 'SRR1930185' has 0 unresolved dependencies\n",
      "\u001b[1;30m[INFO]\u001b[0m \u001b[32m[00:54:45]\u001b[0m Getting SRR: SRR1930186  in (GSE67303)\n",
      "\n",
      "2025-07-10T04:54:46 prefetch.2.11.3: Current preference is set to retrieve SRA Normalized Format files with full base quality scores.\n",
      "2025-07-10T04:54:46 prefetch.2.11.3: 1) Downloading 'SRR1930186'...\n",
      "2025-07-10T04:54:46 prefetch.2.11.3: SRA Normalized Format file is being retrieved, if this is different from your preference, it may be due to current file availability.\n",
      "2025-07-10T04:54:46 prefetch.2.11.3:  Downloading via HTTPS...\n",
      "2025-07-10T04:54:52 prefetch.2.11.3:  HTTPS download succeed\n",
      "2025-07-10T04:54:52 prefetch.2.11.3:  'SRR1930186' is valid\n",
      "2025-07-10T04:54:52 prefetch.2.11.3: 1) 'SRR1930186' was downloaded successfully\n",
      "2025-07-10T04:54:52 prefetch.2.11.3: 'SRR1930186' has 0 unresolved dependencies\n",
      "\u001b[1;30m[INFO]\u001b[0m \u001b[32m[00:54:52]\u001b[0m Finished processing 1 accession(s)\n",
      "\u001b[1;30m[INFO]\u001b[0m \u001b[32m[00:54:52]\u001b[0m Cleaning soft files ...\n",
      "\u001b[1;30m[INFO]\u001b[0m \u001b[32m[00:54:52]\u001b[0m Creating complete project annotation sheets and config file...\n",
      "\u001b[1;30m[INFO]\u001b[0m \u001b[32m[00:54:52]\u001b[0m \u001b[92mSample annotation sheet: /home/bnt4me/virginia/repos/pepspec/docs/geofetch/notebooks/red_algae/GSE67303_PEP/GSE67303_PEP_raw.csv . Saved!\u001b[0m\n",
      "\u001b[1;30m[INFO]\u001b[0m \u001b[32m[00:54:52]\u001b[0m \u001b[92mFile has been saved successfully\u001b[0m\n",
      "\u001b[1;30m[INFO]\u001b[0m \u001b[32m[00:54:52]\u001b[0m Config file: /home/bnt4me/virginia/repos/pepspec/docs/geofetch/notebooks/red_algae/GSE67303_PEP/GSE67303_PEP.yaml\n",
      "\u001b[1;30m[INFO]\u001b[0m \u001b[32m[00:54:52]\u001b[0m Looper config file: /home/bnt4me/virginia/repos/pepspec/docs/geofetch/notebooks/red_algae/looper_config.yaml\n"
     ]
    }
   ],
   "source": [
    "geofetch -i GSE67303 -n red_algae -m `pwd` --add-convert-modifier --discard-soft"
   ]
  },
  {
   "cell_type": "markdown",
   "id": "a6b24693",
   "metadata": {},
   "source": [
    "Let's see if files were downloaded:"
   ]
  },
  {
   "cell_type": "code",
   "execution_count": 34,
   "id": "37def9a3",
   "metadata": {},
   "outputs": [
    {
     "name": "stdout",
     "output_type": "stream",
     "text": [
      "\u001b[0m\u001b[01;34mfq_folder\u001b[0m                         raw-data-downloading.ipynb  \u001b[01;34mSRR1930185\u001b[0m\n",
      "howto-sra-to-fastq.ipynb          \u001b[01;34mred_algae\u001b[0m                   \u001b[01;34mSRR1930186\u001b[0m\n",
      "processed-data-downloading.ipynb  \u001b[01;34mSRR1930183\u001b[0m\n",
      "python-usage.ipynb                \u001b[01;34mSRR1930184\u001b[0m\n"
     ]
    }
   ],
   "source": [
    "ls"
   ]
  },
  {
   "cell_type": "markdown",
   "id": "6831883b",
   "metadata": {},
   "source": [
    "now let's check how does our config file looks like:"
   ]
  },
  {
   "cell_type": "code",
   "execution_count": 27,
   "id": "c13991dd",
   "metadata": {},
   "outputs": [
    {
     "name": "stdout",
     "output_type": "stream",
     "text": [
      "# Autogenerated by geofetch\n",
      "\n",
      "name: GSE67303\n",
      "pep_version: 2.1.0\n",
      "sample_table: GSE67303_PEP_raw.csv\n",
      "\n",
      "\"experiment_metadata\":\n",
      "  \"series_contact_address\": \"930 N University Ave\"\n",
      "  \"series_contact_city\": \"Ann Arbor\"\n",
      "  \"series_contact_country\": \"USA\"\n",
      "  \"series_contact_department\": \"Chemistry\"\n",
      "  \"series_contact_email\": \"mtardu@umich.edu\"\n",
      "  \"series_contact_institute\": \"University of Michigan\"\n",
      "  \"series_contact_laboratory\": \"Koutmou Lab\"\n",
      "  \"series_contact_name\": \"mehmet,,tardu\"\n",
      "  \"series_contact_state\": \"MI\"\n",
      "  \"series_contact_zip_postal_code\": \"48109\"\n",
      "  \"series_contributor\": \"Mehmet,,Tardu + Ugur,M,Dikbas + Ibrahim,,Baris + Ibrahim,H,Kavakli\"\n",
      "  \"series_geo_accession\": \"GSE67303\"\n",
      "  \"series_last_update_date\": \"May 15 2019\"\n",
      "  \"series_overall_design\": \"Identification of blue light and red light regulated genes\\\n",
      "    \\ by deep sequencing in biological duplicates. qRT-PCR was performed to verify\\\n",
      "    \\ the RNA-seq results.\"\n",
      "  \"series_platform_id\": \"GPL19949\"\n",
      "  \"series_platform_organism\": \"Cyanidioschyzon merolae strain 10D\"\n",
      "  \"series_platform_taxid\": \"280699\"\n",
      "  \"series_pubmed_id\": \"27614431\"\n",
      "  \"series_relation\": \"BioProject: https://www.ncbi.nlm.nih.gov/bioproject/PRJNA279462\\\n",
      "    \\ + SRA: https://www.ncbi.nlm.nih.gov/sra?term=SRP056574\"\n",
      "  \"series_sample_id\": \"GSM1644066 + GSM1644067 + GSM1644068 + GSM1644069\"\n",
      "  \"series_sample_organism\": \"Cyanidioschyzon merolae strain 10D\"\n",
      "  \"series_sample_taxid\": \"280699\"\n",
      "  \"series_status\": \"Public on Sep 01 2016\"\n",
      "  \"series_submission_date\": \"Mar 26 2015\"\n",
      "  \"series_summary\": \"Light is one of the main environmental cues that affects the\\\n",
      "    \\ physiology and behavior of many organisms. The effect of light on genome-wide\\\n",
      "    \\ transcriptional regulation has been well-studied in green algae and plants,\\\n",
      "    \\ but not in red algae. Cyanidioschyzon merolae is used as a model red algae,\\\n",
      "    \\ and is suitable for studies on transcriptomics because of its compact genome\\\n",
      "    \\ with a relatively small number of genes. In addition, complete genome sequences\\\n",
      "    \\ of the nucleus, mitochondrion, and chloroplast of this organism have been determined.\\\n",
      "    \\ Together, these attributes make C. merolae an ideal model organism to study\\\n",
      "    \\ the response to light stimuli at the transcriptional and the systems biology\\\n",
      "    \\ levels. Previous studies have shown that light significantly affects cell signaling\\\n",
      "    \\ in this organism, but there are no reports on its blue light- and red light-mediated\\\n",
      "    \\ transcriptional responses. We investigated the direct effects of blue and red\\\n",
      "    \\ light at the transcriptional level using RNA-seq. Blue and red light were found\\\n",
      "    \\ to regulate 35% of the total genes in C. merolae. Blue light affected the transcription\\\n",
      "    \\ of genes involved protein synthesis while red light specifically regulated the\\\n",
      "    \\ transcription of genes involved in photosynthesis and DNA repair. Blue or red\\\n",
      "    \\ light regulated genes involved in carbon metabolism and pigment biosynthesis.\\\n",
      "    \\ Overall, our data showed that red and blue light regulate the majority of the\\\n",
      "    \\ cellular, cell division, and repair processes in C. merolae.\"\n",
      "  \"series_supplementary_file\": \"ftp://ftp.ncbi.nlm.nih.gov/geo/series/GSE67nnn/GSE67303/suppl/GSE67303_DEG_cuffdiff.xlsx\"\n",
      "  \"series_title\": \"RNA-seq analysis of the transcriptional response to blue and red\\\n",
      "    \\ light in the extremophilic red alga, Cyanidioschyzon merolae\"\n",
      "  \"series_type\": \"Expression profiling by high throughput sequencing\"\n",
      "\n",
      "\n",
      "\n",
      "sample_modifiers:\n",
      "  append:\n",
      "    # Project metadata:\n",
      "    sample_treatment_protocol_ch1: \"Cells were exposed to blue-light (15 µmole m-2s-1) for 30 minutes\"\n",
      "    sample_growth_protocol_ch1: \"Cyanidioschyzon merolae cells were grown in 2xMA media\"\n",
      "    sample_extract_protocol_ch1: \"Dark kept and blue-light exposed C.merolae cells were removed and RNA was harvested using Trizol reagent. Illumina TruSeq RNA Sample Prep Kit (Cat#RS-122-2001) was used with 1 ug of total RNA for the construction of sequencing libraries., RNA libraries were prepared for sequencing using standard Illumina protocols\"\n",
      "    sample_data_processing: \"The purified cDNA library was sequenced on Illumina''s MiSeq sequencing platform following vendor''s instruction for running the instrument., Sequenced reads were trimmed for adaptor sequence, and masked for low-complexity or low-quality sequence, then mapped to Cyanidioschyzon merolae 10D reference genome (assembly ID:ASM9120v1) using TopHat (v2.0.5)., Differential expression analysis was conducted by using cuffdiff tool in cufflink suite (v2.2)\"\n",
      "    supplementary_files_format_and_content: \"Excel spreadsheet includes FPKM values for Darkness and Blue-Light exposed samples with p and q values of cuffdiff output.\"\n",
      "    # End of project metadata\n",
      "    \n",
      "\n",
      "    # Adding sra convert looper pipeline\n",
      "    SRR_files: SRA\n",
      "\n",
      "  derive:\n",
      "    attributes: [read1, read2, SRR_files]\n",
      "    sources:\n",
      "      SRA: \"${SRARAW}/{srr}/{srr}.sra\"\n",
      "      FQ: \"${SRAFQ}/{srr}.fastq.gz\"\n",
      "      FQ1: \"${SRAFQ}/{srr}_1.fastq.gz\"\n",
      "      FQ2: \"${SRAFQ}/{srr}_2.fastq.gz\"\n",
      "  imply:\n",
      "    - if:\n",
      "        organism: \"Mus musculus\"\n",
      "      then:\n",
      "        genome: mm10\n",
      "    - if:\n",
      "        organism: \"Homo sapiens\"\n",
      "      then:\n",
      "        genome: hg38\n",
      "    - if:\n",
      "        read_type: \"PAIRED\"\n",
      "      then:\n",
      "        read1: FQ1\n",
      "        read2: FQ2\n",
      "    - if:\n",
      "        read_type: \"SINGLE\"\n",
      "      then:\n",
      "        read1: FQ1\n",
      "\n",
      "\n",
      "\n",
      "\n"
     ]
    }
   ],
   "source": [
    "cat ./red_algae/GSE67303_PEP/GSE67303_PEP.yaml"
   ]
  },
  {
   "cell_type": "markdown",
   "id": "13a128a6",
   "metadata": {},
   "source": [
    "To run pipeline, you should set up few enviromental variables:\n",
    "1) SRARAW - folder where SRA files were downloaded\n",
    "2) SRAFQ -folder where fastq should be produced\n",
    "3) CODE - (first you should clone geofetch), and $CODE is where geofetch folder is located"
   ]
  },
  {
   "cell_type": "code",
   "execution_count": 28,
   "id": "d4af5280",
   "metadata": {},
   "outputs": [],
   "source": [
    "# Set SRARAW env\n",
    "export SRARAW=`pwd`"
   ]
  },
  {
   "cell_type": "code",
   "execution_count": 29,
   "id": "981f6073",
   "metadata": {},
   "outputs": [],
   "source": [
    "# Create folder where you want to store fq\n",
    "mkdir fq_folder"
   ]
  },
  {
   "cell_type": "code",
   "execution_count": 30,
   "id": "c2cb5330",
   "metadata": {},
   "outputs": [],
   "source": [
    "# Set SRAFQ env\n",
    "export SRAFQ=`pwd`/fq_folder"
   ]
  },
  {
   "cell_type": "markdown",
   "id": "d03578ac",
   "metadata": {},
   "source": [
    "### Now install looper if you don't have it"
   ]
  },
  {
   "cell_type": "code",
   "execution_count": 16,
   "id": "8d80a1a9",
   "metadata": {},
   "outputs": [],
   "source": [
    "# pip install looper"
   ]
  },
  {
   "cell_type": "code",
   "execution_count": 31,
   "id": "b4aa8176",
   "metadata": {},
   "outputs": [
    {
     "name": "stdout",
     "output_type": "stream",
     "text": [
      "2.0.1\n",
      "\u001b[0m\n"
     ]
    }
   ],
   "source": [
    "looper --version"
   ]
  },
  {
   "cell_type": "markdown",
   "id": "fcee556a",
   "metadata": {},
   "source": [
    "Let's check where is looper config file and whats inside:"
   ]
  },
  {
   "cell_type": "code",
   "execution_count": 36,
   "id": "0bcd03a7",
   "metadata": {},
   "outputs": [
    {
     "name": "stdout",
     "output_type": "stream",
     "text": [
      "\u001b[0m\u001b[01;34mGSE67303_PEP\u001b[0m  looper_config.yaml  \u001b[01;34moutput_dir\u001b[0m\n"
     ]
    }
   ],
   "source": [
    "ls red_algae"
   ]
  },
  {
   "cell_type": "code",
   "execution_count": 38,
   "id": "75413be5",
   "metadata": {},
   "outputs": [
    {
     "name": "stdout",
     "output_type": "stream",
     "text": [
      "pep_config: /home/bnt4me/virginia/repos/pepspec/docs/geofetch/notebooks/red_algae/GSE67303_PEP/GSE67303_PEP.yaml\n",
      "output_dir: /home/bnt4me/virginia/repos/pepspec/docs/geofetch/notebooks/red_algae/output_dir\n",
      "pipeline_interfaces:\n",
      "  - /home/bnt4me/.local/lib/python3.10/site-packages/geofetch/templates/pipeline_interface_convert.yaml\n"
     ]
    }
   ],
   "source": [
    "cat red_algae/looper_config.yaml"
   ]
  },
  {
   "cell_type": "markdown",
   "id": "d031eca0",
   "metadata": {},
   "source": [
    "Geofetch automatically generated paths to pep_config and pipeline interfaces that are embedded into geofetch"
   ]
  },
  {
   "cell_type": "code",
   "execution_count": 35,
   "id": "3c622442",
   "metadata": {},
   "outputs": [
    {
     "name": "stdout",
     "output_type": "stream",
     "text": [
      "Looper version: 2.0.1\n",
      "Command: run\n",
      "Using default divvy config. You may specify in env var: ['DIVCFG']\n",
      "Activating compute package 'local'\n",
      "\u001b[36m## [1 of 4] sample: cm_bluelight_rep1; pipeline: sra_convert\u001b[0m\n",
      "Writing script to /home/bnt4me/virginia/repos/pepspec/docs/geofetch/notebooks/red_algae/output_dir/submission/sra_convert_cm_bluelight_rep1.sub\n",
      "Job script (n=1; 0.00Gb): /home/bnt4me/virginia/repos/pepspec/docs/geofetch/notebooks/red_algae/output_dir/submission/sra_convert_cm_bluelight_rep1.sub\n",
      "Compute node: alex-laptop\n",
      "Start time: 2025-07-10 00:59:02\n",
      "Using outfolder: /home/bnt4me/virginia/repos/pepspec/docs/geofetch/notebooks/red_algae/output_dir/results_pipeline/SRR1930183\n",
      "No pipestat output schema was supplied to PipestatManager.\n",
      "Initializing results file '/home/bnt4me/virginia/repos/pepspec/docs/geofetch/notebooks/red_algae/output_dir/results_pipeline/SRR1930183/stats.yaml'\n",
      "### Pipeline run code and environment:\n",
      "\n",
      "*          Command: `/home/bnt4me/.local/bin/sraconvert --srr /home/bnt4me/virginia/repos/pepspec/docs/geofetch/notebooks/SRR1930183/SRR1930183.sra -O /home/bnt4me/virginia/repos/pepspec/docs/geofetch/notebooks/red_algae/output_dir/results_pipeline`\n",
      "*     Compute host: `alex-laptop`\n",
      "*      Working dir: `/home/bnt4me/virginia/repos/pepspec/docs/geofetch/notebooks`\n",
      "*        Outfolder: `/home/bnt4me/virginia/repos/pepspec/docs/geofetch/notebooks/red_algae/output_dir/results_pipeline/SRR1930183/`\n",
      "*         Log file: `/home/bnt4me/virginia/repos/pepspec/docs/geofetch/notebooks/red_algae/output_dir/results_pipeline/SRR1930183/sra_convert_log.md`\n",
      "*       Start time:  (07-10 00:59:03) elapsed: 0.0 _TIME_\n",
      "\n",
      "### Version log:\n",
      "\n",
      "*   Python version: `3.10.12`\n",
      "*      Pypiper dir: `/home/bnt4me/.local/lib/python3.10/site-packages/pypiper`\n",
      "*  Pypiper version: `0.14.4`\n",
      "*     Pipeline dir: `/home/bnt4me/.local/bin`\n",
      "* Pipeline version: \n",
      "\n",
      "### Arguments passed to pipeline:\n",
      "\n",
      "*          `bamfolder`:  ``\n",
      "*        `config_file`:  `sraconvert.yaml`\n",
      "*             `format`:  `fastq`\n",
      "*           `fqfolder`:  `/home/bnt4me/virginia/repos/pepspec/docs/geofetch/notebooks/fq_folder`\n",
      "*           `keep_sra`:  `False`\n",
      "*             `logdev`:  `False`\n",
      "*               `mode`:  `convert`\n",
      "*      `output_parent`:  `/home/bnt4me/virginia/repos/pepspec/docs/geofetch/notebooks/red_algae/output_dir/results_pipeline`\n",
      "*            `recover`:  `False`\n",
      "*        `sample_name`:  `None`\n",
      "*             `silent`:  `False`\n",
      "*          `srafolder`:  `/home/bnt4me/virginia/repos/pepspec/docs/geofetch/notebooks`\n",
      "*                `srr`:  `['/home/bnt4me/virginia/repos/pepspec/docs/geofetch/notebooks/SRR1930183/SRR1930183.sra']`\n",
      "*          `verbosity`:  `None`\n",
      "\n",
      "### Initialized Pipestat Object:\n",
      "\n",
      "* PipestatManager (sra_convert)\n",
      "* Backend: File\n",
      "*  - results: /home/bnt4me/virginia/repos/pepspec/docs/geofetch/notebooks/red_algae/output_dir/results_pipeline/SRR1930183/stats.yaml\n",
      "*  - status: /home/bnt4me/virginia/repos/pepspec/docs/geofetch/notebooks/red_algae/output_dir/results_pipeline/SRR1930183\n",
      "* Multiple Pipelines Allowed: False\n",
      "* Pipeline name: sra_convert\n",
      "* Pipeline type: sample\n",
      "* Status Schema key: None\n",
      "* Results formatter: default_formatter\n",
      "* Results schema source: None\n",
      "* Status schema source: None\n",
      "* Records count: 2\n",
      "* Sample name: DEFAULT_SAMPLE_NAME\n",
      "\n",
      "\n",
      "----------------------------------------\n",
      "\n",
      "Processing 1 of 1 files: SRR1930183\n",
      "Target to produce: `/home/bnt4me/virginia/repos/pepspec/docs/geofetch/notebooks/fq_folder/SRR1930183_1.fastq.gz`  \n",
      "\n",
      "> `fasterq-dump /home/bnt4me/virginia/repos/pepspec/docs/geofetch/notebooks/SRR1930183/SRR1930183.sra -O /home/bnt4me/virginia/repos/pepspec/docs/geofetch/notebooks/fq_folder` (871210)\n",
      "<pre>\n",
      "spots read      : 1,068,319\n",
      "reads read      : 2,136,638\n",
      "reads written   : 2,136,638\n",
      "</pre>\n",
      "Command completed. Elapsed time: 0:00:02. Running peak memory: 0.069GB.  \n",
      "  PID: 871210;\tCommand: fasterq-dump;\tReturn code: 0;\tMemory used: 0.069GB\n",
      "\n",
      "Already completed files: []\n",
      "\n",
      "### Pipeline completed. Epilogue\n",
      "*        Elapsed time (this run):  0:00:02\n",
      "*  Total elapsed time (all runs):  0:00:02\n",
      "*         Peak memory (this run):  0.0685 GB\n",
      "*        Pipeline completed time: 2025-07-10 00:59:05\n",
      "Using default schema: /home/bnt4me/.local/bin/pipestat_output_schema.yaml\n",
      "\u001b[36m## [2 of 4] sample: cm_bluelight_rep2; pipeline: sra_convert\u001b[0m\n",
      "Writing script to /home/bnt4me/virginia/repos/pepspec/docs/geofetch/notebooks/red_algae/output_dir/submission/sra_convert_cm_bluelight_rep2.sub\n",
      "Job script (n=1; 0.00Gb): /home/bnt4me/virginia/repos/pepspec/docs/geofetch/notebooks/red_algae/output_dir/submission/sra_convert_cm_bluelight_rep2.sub\n",
      "Compute node: alex-laptop\n",
      "Start time: 2025-07-10 00:59:06\n",
      "Using outfolder: /home/bnt4me/virginia/repos/pepspec/docs/geofetch/notebooks/red_algae/output_dir/results_pipeline/SRR1930184\n",
      "No pipestat output schema was supplied to PipestatManager.\n",
      "Initializing results file '/home/bnt4me/virginia/repos/pepspec/docs/geofetch/notebooks/red_algae/output_dir/results_pipeline/SRR1930184/stats.yaml'\n",
      "### Pipeline run code and environment:\n",
      "\n",
      "*          Command: `/home/bnt4me/.local/bin/sraconvert --srr /home/bnt4me/virginia/repos/pepspec/docs/geofetch/notebooks/SRR1930184/SRR1930184.sra -O /home/bnt4me/virginia/repos/pepspec/docs/geofetch/notebooks/red_algae/output_dir/results_pipeline`\n",
      "*     Compute host: `alex-laptop`\n",
      "*      Working dir: `/home/bnt4me/virginia/repos/pepspec/docs/geofetch/notebooks`\n",
      "*        Outfolder: `/home/bnt4me/virginia/repos/pepspec/docs/geofetch/notebooks/red_algae/output_dir/results_pipeline/SRR1930184/`\n",
      "*         Log file: `/home/bnt4me/virginia/repos/pepspec/docs/geofetch/notebooks/red_algae/output_dir/results_pipeline/SRR1930184/sra_convert_log.md`\n",
      "*       Start time:  (07-10 00:59:06) elapsed: 0.0 _TIME_\n",
      "\n",
      "### Version log:\n",
      "\n",
      "*   Python version: `3.10.12`\n",
      "*      Pypiper dir: `/home/bnt4me/.local/lib/python3.10/site-packages/pypiper`\n",
      "*  Pypiper version: `0.14.4`\n",
      "*     Pipeline dir: `/home/bnt4me/.local/bin`\n",
      "* Pipeline version: \n",
      "\n",
      "### Arguments passed to pipeline:\n",
      "\n",
      "*          `bamfolder`:  ``\n",
      "*        `config_file`:  `sraconvert.yaml`\n",
      "*             `format`:  `fastq`\n",
      "*           `fqfolder`:  `/home/bnt4me/virginia/repos/pepspec/docs/geofetch/notebooks/fq_folder`\n",
      "*           `keep_sra`:  `False`\n",
      "*             `logdev`:  `False`\n",
      "*               `mode`:  `convert`\n",
      "*      `output_parent`:  `/home/bnt4me/virginia/repos/pepspec/docs/geofetch/notebooks/red_algae/output_dir/results_pipeline`\n",
      "*            `recover`:  `False`\n",
      "*        `sample_name`:  `None`\n",
      "*             `silent`:  `False`\n",
      "*          `srafolder`:  `/home/bnt4me/virginia/repos/pepspec/docs/geofetch/notebooks`\n",
      "*                `srr`:  `['/home/bnt4me/virginia/repos/pepspec/docs/geofetch/notebooks/SRR1930184/SRR1930184.sra']`\n",
      "*          `verbosity`:  `None`\n",
      "\n",
      "### Initialized Pipestat Object:\n",
      "\n",
      "* PipestatManager (sra_convert)\n",
      "* Backend: File\n",
      "*  - results: /home/bnt4me/virginia/repos/pepspec/docs/geofetch/notebooks/red_algae/output_dir/results_pipeline/SRR1930184/stats.yaml\n",
      "*  - status: /home/bnt4me/virginia/repos/pepspec/docs/geofetch/notebooks/red_algae/output_dir/results_pipeline/SRR1930184\n",
      "* Multiple Pipelines Allowed: False\n",
      "* Pipeline name: sra_convert\n",
      "* Pipeline type: sample\n",
      "* Status Schema key: None\n",
      "* Results formatter: default_formatter\n",
      "* Results schema source: None\n",
      "* Status schema source: None\n",
      "* Records count: 2\n",
      "* Sample name: DEFAULT_SAMPLE_NAME\n",
      "\n",
      "\n",
      "----------------------------------------\n",
      "\n",
      "Processing 1 of 1 files: SRR1930184\n",
      "Target to produce: `/home/bnt4me/virginia/repos/pepspec/docs/geofetch/notebooks/fq_folder/SRR1930184_1.fastq.gz`  \n",
      "\n",
      "> `fasterq-dump /home/bnt4me/virginia/repos/pepspec/docs/geofetch/notebooks/SRR1930184/SRR1930184.sra -O /home/bnt4me/virginia/repos/pepspec/docs/geofetch/notebooks/fq_folder` (871261)\n",
      "<pre>\n",
      "spots read      : 762,229\n",
      "reads read      : 1,524,458\n",
      "reads written   : 1,524,458\n",
      "</pre>\n",
      "Command completed. Elapsed time: 0:00:02. Running peak memory: 0.083GB.  \n",
      "  PID: 871261;\tCommand: fasterq-dump;\tReturn code: 0;\tMemory used: 0.083GB\n",
      "\n",
      "Already completed files: []\n",
      "\n",
      "### Pipeline completed. Epilogue\n",
      "*        Elapsed time (this run):  0:00:02\n",
      "*  Total elapsed time (all runs):  0:00:02\n",
      "*         Peak memory (this run):  0.0832 GB\n",
      "*        Pipeline completed time: 2025-07-10 00:59:08\n"
     ]
    },
    {
     "name": "stdout",
     "output_type": "stream",
     "text": [
      "Using default schema: /home/bnt4me/.local/bin/pipestat_output_schema.yaml\n",
      "\u001b[36m## [3 of 4] sample: cm_darkness_rep1; pipeline: sra_convert\u001b[0m\n",
      "Writing script to /home/bnt4me/virginia/repos/pepspec/docs/geofetch/notebooks/red_algae/output_dir/submission/sra_convert_cm_darkness_rep1.sub\n",
      "Job script (n=1; 0.00Gb): /home/bnt4me/virginia/repos/pepspec/docs/geofetch/notebooks/red_algae/output_dir/submission/sra_convert_cm_darkness_rep1.sub\n",
      "Compute node: alex-laptop\n",
      "Start time: 2025-07-10 00:59:08\n",
      "Using outfolder: /home/bnt4me/virginia/repos/pepspec/docs/geofetch/notebooks/red_algae/output_dir/results_pipeline/SRR1930185\n",
      "No pipestat output schema was supplied to PipestatManager.\n",
      "Initializing results file '/home/bnt4me/virginia/repos/pepspec/docs/geofetch/notebooks/red_algae/output_dir/results_pipeline/SRR1930185/stats.yaml'\n",
      "### Pipeline run code and environment:\n",
      "\n",
      "*          Command: `/home/bnt4me/.local/bin/sraconvert --srr /home/bnt4me/virginia/repos/pepspec/docs/geofetch/notebooks/SRR1930185/SRR1930185.sra -O /home/bnt4me/virginia/repos/pepspec/docs/geofetch/notebooks/red_algae/output_dir/results_pipeline`\n",
      "*     Compute host: `alex-laptop`\n",
      "*      Working dir: `/home/bnt4me/virginia/repos/pepspec/docs/geofetch/notebooks`\n",
      "*        Outfolder: `/home/bnt4me/virginia/repos/pepspec/docs/geofetch/notebooks/red_algae/output_dir/results_pipeline/SRR1930185/`\n",
      "*         Log file: `/home/bnt4me/virginia/repos/pepspec/docs/geofetch/notebooks/red_algae/output_dir/results_pipeline/SRR1930185/sra_convert_log.md`\n",
      "*       Start time:  (07-10 00:59:09) elapsed: 0.0 _TIME_\n",
      "\n",
      "### Version log:\n",
      "\n",
      "*   Python version: `3.10.12`\n",
      "*      Pypiper dir: `/home/bnt4me/.local/lib/python3.10/site-packages/pypiper`\n",
      "*  Pypiper version: `0.14.4`\n",
      "*     Pipeline dir: `/home/bnt4me/.local/bin`\n",
      "* Pipeline version: \n",
      "\n",
      "### Arguments passed to pipeline:\n",
      "\n",
      "*          `bamfolder`:  ``\n",
      "*        `config_file`:  `sraconvert.yaml`\n",
      "*             `format`:  `fastq`\n",
      "*           `fqfolder`:  `/home/bnt4me/virginia/repos/pepspec/docs/geofetch/notebooks/fq_folder`\n",
      "*           `keep_sra`:  `False`\n",
      "*             `logdev`:  `False`\n",
      "*               `mode`:  `convert`\n",
      "*      `output_parent`:  `/home/bnt4me/virginia/repos/pepspec/docs/geofetch/notebooks/red_algae/output_dir/results_pipeline`\n",
      "*            `recover`:  `False`\n",
      "*        `sample_name`:  `None`\n",
      "*             `silent`:  `False`\n",
      "*          `srafolder`:  `/home/bnt4me/virginia/repos/pepspec/docs/geofetch/notebooks`\n",
      "*                `srr`:  `['/home/bnt4me/virginia/repos/pepspec/docs/geofetch/notebooks/SRR1930185/SRR1930185.sra']`\n",
      "*          `verbosity`:  `None`\n",
      "\n",
      "### Initialized Pipestat Object:\n",
      "\n",
      "* PipestatManager (sra_convert)\n",
      "* Backend: File\n",
      "*  - results: /home/bnt4me/virginia/repos/pepspec/docs/geofetch/notebooks/red_algae/output_dir/results_pipeline/SRR1930185/stats.yaml\n",
      "*  - status: /home/bnt4me/virginia/repos/pepspec/docs/geofetch/notebooks/red_algae/output_dir/results_pipeline/SRR1930185\n",
      "* Multiple Pipelines Allowed: False\n",
      "* Pipeline name: sra_convert\n",
      "* Pipeline type: sample\n",
      "* Status Schema key: None\n",
      "* Results formatter: default_formatter\n",
      "* Results schema source: None\n",
      "* Status schema source: None\n",
      "* Records count: 2\n",
      "* Sample name: DEFAULT_SAMPLE_NAME\n",
      "\n",
      "\n",
      "----------------------------------------\n",
      "\n",
      "Processing 1 of 1 files: SRR1930185\n",
      "Target to produce: `/home/bnt4me/virginia/repos/pepspec/docs/geofetch/notebooks/fq_folder/SRR1930185_1.fastq.gz`  \n",
      "\n",
      "> `fasterq-dump /home/bnt4me/virginia/repos/pepspec/docs/geofetch/notebooks/SRR1930185/SRR1930185.sra -O /home/bnt4me/virginia/repos/pepspec/docs/geofetch/notebooks/fq_folder` (871306)\n",
      "<pre>\n",
      "spots read      : 1,707,508\n",
      "reads read      : 3,415,016\n",
      "reads written   : 3,415,016\n",
      "</pre>\n",
      "Command completed. Elapsed time: 0:00:04. Running peak memory: 0.07GB.  \n",
      "  PID: 871306;\tCommand: fasterq-dump;\tReturn code: 0;\tMemory used: 0.07GB\n",
      "\n",
      "Already completed files: []\n",
      "\n",
      "### Pipeline completed. Epilogue\n",
      "*        Elapsed time (this run):  0:00:04\n",
      "*  Total elapsed time (all runs):  0:00:04\n",
      "*         Peak memory (this run):  0.0701 GB\n",
      "*        Pipeline completed time: 2025-07-10 00:59:13\n",
      "Using default schema: /home/bnt4me/.local/bin/pipestat_output_schema.yaml\n",
      "\u001b[36m## [4 of 4] sample: cm_darkness_rep2; pipeline: sra_convert\u001b[0m\n",
      "Writing script to /home/bnt4me/virginia/repos/pepspec/docs/geofetch/notebooks/red_algae/output_dir/submission/sra_convert_cm_darkness_rep2.sub\n",
      "Job script (n=1; 0.00Gb): /home/bnt4me/virginia/repos/pepspec/docs/geofetch/notebooks/red_algae/output_dir/submission/sra_convert_cm_darkness_rep2.sub\n",
      "Compute node: alex-laptop\n",
      "Start time: 2025-07-10 00:59:13\n",
      "Using outfolder: /home/bnt4me/virginia/repos/pepspec/docs/geofetch/notebooks/red_algae/output_dir/results_pipeline/SRR1930186\n",
      "No pipestat output schema was supplied to PipestatManager.\n",
      "Initializing results file '/home/bnt4me/virginia/repos/pepspec/docs/geofetch/notebooks/red_algae/output_dir/results_pipeline/SRR1930186/stats.yaml'\n",
      "### Pipeline run code and environment:\n",
      "\n",
      "*          Command: `/home/bnt4me/.local/bin/sraconvert --srr /home/bnt4me/virginia/repos/pepspec/docs/geofetch/notebooks/SRR1930186/SRR1930186.sra -O /home/bnt4me/virginia/repos/pepspec/docs/geofetch/notebooks/red_algae/output_dir/results_pipeline`\n",
      "*     Compute host: `alex-laptop`\n",
      "*      Working dir: `/home/bnt4me/virginia/repos/pepspec/docs/geofetch/notebooks`\n",
      "*        Outfolder: `/home/bnt4me/virginia/repos/pepspec/docs/geofetch/notebooks/red_algae/output_dir/results_pipeline/SRR1930186/`\n",
      "*         Log file: `/home/bnt4me/virginia/repos/pepspec/docs/geofetch/notebooks/red_algae/output_dir/results_pipeline/SRR1930186/sra_convert_log.md`\n",
      "*       Start time:  (07-10 00:59:14) elapsed: 0.0 _TIME_\n",
      "\n",
      "### Version log:\n",
      "\n",
      "*   Python version: `3.10.12`\n",
      "*      Pypiper dir: `/home/bnt4me/.local/lib/python3.10/site-packages/pypiper`\n",
      "*  Pypiper version: `0.14.4`\n",
      "*     Pipeline dir: `/home/bnt4me/.local/bin`\n",
      "* Pipeline version: \n",
      "\n",
      "### Arguments passed to pipeline:\n",
      "\n",
      "*          `bamfolder`:  ``\n",
      "*        `config_file`:  `sraconvert.yaml`\n",
      "*             `format`:  `fastq`\n",
      "*           `fqfolder`:  `/home/bnt4me/virginia/repos/pepspec/docs/geofetch/notebooks/fq_folder`\n",
      "*           `keep_sra`:  `False`\n",
      "*             `logdev`:  `False`\n",
      "*               `mode`:  `convert`\n",
      "*      `output_parent`:  `/home/bnt4me/virginia/repos/pepspec/docs/geofetch/notebooks/red_algae/output_dir/results_pipeline`\n",
      "*            `recover`:  `False`\n",
      "*        `sample_name`:  `None`\n",
      "*             `silent`:  `False`\n",
      "*          `srafolder`:  `/home/bnt4me/virginia/repos/pepspec/docs/geofetch/notebooks`\n",
      "*                `srr`:  `['/home/bnt4me/virginia/repos/pepspec/docs/geofetch/notebooks/SRR1930186/SRR1930186.sra']`\n",
      "*          `verbosity`:  `None`\n",
      "\n",
      "### Initialized Pipestat Object:\n",
      "\n",
      "* PipestatManager (sra_convert)\n",
      "* Backend: File\n",
      "*  - results: /home/bnt4me/virginia/repos/pepspec/docs/geofetch/notebooks/red_algae/output_dir/results_pipeline/SRR1930186/stats.yaml\n",
      "*  - status: /home/bnt4me/virginia/repos/pepspec/docs/geofetch/notebooks/red_algae/output_dir/results_pipeline/SRR1930186\n",
      "* Multiple Pipelines Allowed: False\n",
      "* Pipeline name: sra_convert\n",
      "* Pipeline type: sample\n",
      "* Status Schema key: None\n",
      "* Results formatter: default_formatter\n",
      "* Results schema source: None\n",
      "* Status schema source: None\n",
      "* Records count: 2\n",
      "* Sample name: DEFAULT_SAMPLE_NAME\n",
      "\n",
      "\n",
      "----------------------------------------\n",
      "\n",
      "Processing 1 of 1 files: SRR1930186\n",
      "Target to produce: `/home/bnt4me/virginia/repos/pepspec/docs/geofetch/notebooks/fq_folder/SRR1930186_1.fastq.gz`  \n",
      "\n",
      "> `fasterq-dump /home/bnt4me/virginia/repos/pepspec/docs/geofetch/notebooks/SRR1930186/SRR1930186.sra -O /home/bnt4me/virginia/repos/pepspec/docs/geofetch/notebooks/fq_folder` (871369)\n",
      "<pre>\n",
      "spots read      : 1,224,029\n",
      "reads read      : 2,448,058\n",
      "reads written   : 2,448,058\n",
      "</pre>\n",
      "Command completed. Elapsed time: 0:00:02. Running peak memory: 0.083GB.  \n",
      "  PID: 871369;\tCommand: fasterq-dump;\tReturn code: 0;\tMemory used: 0.083GB\n",
      "\n",
      "Already completed files: []\n",
      "\n",
      "### Pipeline completed. Epilogue\n",
      "*        Elapsed time (this run):  0:00:02\n",
      "*  Total elapsed time (all runs):  0:00:02\n",
      "*         Peak memory (this run):  0.0832 GB\n",
      "*        Pipeline completed time: 2025-07-10 00:59:16\n",
      "Using default schema: /home/bnt4me/.local/bin/pipestat_output_schema.yaml\n"
     ]
    },
    {
     "name": "stdout",
     "output_type": "stream",
     "text": [
      "\n",
      "Looper finished\n",
      "Samples valid for job generation: 4 of 4\n",
      "\u001b[0m\n"
     ]
    }
   ],
   "source": [
    "looper run --config ./red_algae/looper_config.yaml -p local --output-dir ."
   ]
  },
  {
   "cell_type": "markdown",
   "id": "36d24512",
   "metadata": {},
   "source": [
    "### Check if everything worked:"
   ]
  },
  {
   "cell_type": "code",
   "execution_count": 39,
   "id": "2a79f578",
   "metadata": {},
   "outputs": [],
   "source": [
    "cd fq_folder"
   ]
  },
  {
   "cell_type": "code",
   "execution_count": 40,
   "id": "fefdf187",
   "metadata": {},
   "outputs": [
    {
     "name": "stdout",
     "output_type": "stream",
     "text": [
      "SRR1930183_1.fastq  SRR1930184_1.fastq  SRR1930185_1.fastq  SRR1930186_1.fastq\n",
      "SRR1930183_2.fastq  SRR1930184_2.fastq  SRR1930185_2.fastq  SRR1930186_2.fastq\n"
     ]
    }
   ],
   "source": [
    "ls"
   ]
  },
  {
   "cell_type": "markdown",
   "id": "c5f46e8c",
   "metadata": {},
   "source": [
    "Everything was executed sucessfully and SRA files were converted into fastq files"
   ]
  }
 ],
 "metadata": {
  "kernelspec": {
   "display_name": "Bash",
   "language": "bash",
   "name": "bash"
  },
  "language_info": {
   "codemirror_mode": "shell",
   "file_extension": ".sh",
   "mimetype": "text/x-sh",
   "name": "bash"
  }
 },
 "nbformat": 4,
 "nbformat_minor": 5
}
