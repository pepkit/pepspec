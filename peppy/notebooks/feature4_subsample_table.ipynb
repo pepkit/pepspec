{
 "cells": [
  {
   "cell_type": "markdown",
   "metadata": {},
   "source": [
    "# Learn sample subannotations in `peppy`\n",
    "\n",
    "This vignette will show you how and why to use the subsample table functionality of the `peppy` package.\n",
    "\n",
    " - basic information about the PEP concept visit the [project website](http://pep.databio.org/en/2.0.0/).\n",
    " \n",
    " - broader theoretical description in the subsample table [documentation section](http://pep.databio.org/en/2.0.0/specification/#project-attribute-subsample_table).\n",
    "\n",
    "## Problem/Goal\n",
    "\n",
    "This series of examples below demonstrates how and why to use sample subannoatation functionality in multiple cases to **provide multiple input files of the same type for a single sample**.\n",
    "\n",
    "## Solutions\n",
    "\n",
    "### Example 1: basic sample subannotation table\n",
    "\n",
    "This example demonstrates how the sample subannotation functionality is used. In this example, 2 samples have multiple input files that need merging (`frog_1` and `frog_2`), while 1 sample (`frog_3`) does not. Therefore, `frog_3` specifies its file in the `sample_table.csv` file, while the others leave that field blank and instead specify several files in the `subsample_table.csv` file.\n",
    "\n",
    "This example is made up of these components:\n",
    "\n",
    "* Project config file:"
   ]
  },
  {
   "cell_type": "code",
   "execution_count": 1,
   "metadata": {},
   "outputs": [
    {
     "name": "stdout",
     "output_type": "stream",
     "text": [
      "pep_version: \"2.0.0\"\r\n",
      "sample_table: sample_table.csv\r\n",
      "subsample_table: subsample_table.csv\r\n",
      "output_dir: $HOME/example_results\r\n"
     ]
    }
   ],
   "source": [
    "examples_dir = \"../tests/data/example_peps-cfg2/example_subtable1/\"\n",
    "project_config = examples_dir + \"project_config.yaml\"\n",
    "%cat $project_config"
   ]
  },
  {
   "cell_type": "markdown",
   "metadata": {},
   "source": [
    "* Sample table:"
   ]
  },
  {
   "cell_type": "code",
   "execution_count": 2,
   "metadata": {},
   "outputs": [
    {
     "name": "stdout",
     "output_type": "stream",
     "text": [
      "sample_name  protocol       file\r\n",
      "frog_1       anySampleType  multi\r\n",
      "frog_2       anySampleType  multi\r\n",
      "frog_3       anySampleType  multi\r\n"
     ]
    }
   ],
   "source": [
    "sample_table = examples_dir + \"sample_table.csv\"\n",
    "%cat $sample_table | column -t -s, | cat"
   ]
  },
  {
   "cell_type": "markdown",
   "metadata": {},
   "source": [
    "* Subsample table:"
   ]
  },
  {
   "cell_type": "code",
   "execution_count": 3,
   "metadata": {},
   "outputs": [
    {
     "name": "stdout",
     "output_type": "stream",
     "text": [
      "column: line too long\r\n",
      "sample_name  subsample_name  file\r\n",
      "frog_1       sub_a           data/frog1a_data.txt\r\n",
      "frog_1       sub_b           data/frog1b_data.txt\r\n",
      "frog_1       sub_c           data/frog1c_data.txt\r\n",
      "frog_2       sub_a           data/frog2a_data.txt\r\n"
     ]
    }
   ],
   "source": [
    "subsample_table = examples_dir + \"subsample_table.csv\"\n",
    "%cat $subsample_table | column -t -s, | cat"
   ]
  },
  {
   "cell_type": "markdown",
   "metadata": {},
   "source": [
    "Let's load the project config, create the Project object and see if multiple files are present "
   ]
  },
  {
   "cell_type": "code",
   "execution_count": 4,
   "metadata": {},
   "outputs": [
    {
     "data": {
      "text/html": [
       "<div>\n",
       "<style scoped>\n",
       "    .dataframe tbody tr th:only-of-type {\n",
       "        vertical-align: middle;\n",
       "    }\n",
       "\n",
       "    .dataframe tbody tr th {\n",
       "        vertical-align: top;\n",
       "    }\n",
       "\n",
       "    .dataframe thead th {\n",
       "        text-align: right;\n",
       "    }\n",
       "</style>\n",
       "<table border=\"1\" class=\"dataframe\">\n",
       "  <thead>\n",
       "    <tr style=\"text-align: right;\">\n",
       "      <th></th>\n",
       "      <th>file</th>\n",
       "      <th>protocol</th>\n",
       "      <th>sample_name</th>\n",
       "      <th>subsample_name</th>\n",
       "    </tr>\n",
       "    <tr>\n",
       "      <th>sample_name</th>\n",
       "      <th></th>\n",
       "      <th></th>\n",
       "      <th></th>\n",
       "      <th></th>\n",
       "    </tr>\n",
       "  </thead>\n",
       "  <tbody>\n",
       "    <tr>\n",
       "      <th>frog_1</th>\n",
       "      <td>[data/frog1a_data.txt, data/frog1b_data.txt, d...</td>\n",
       "      <td>anySampleType</td>\n",
       "      <td>frog_1</td>\n",
       "      <td>[sub_a, sub_b, sub_c]</td>\n",
       "    </tr>\n",
       "    <tr>\n",
       "      <th>frog_2</th>\n",
       "      <td>[data/frog2a_data.txt, data/frog2b_data.txt]</td>\n",
       "      <td>anySampleType</td>\n",
       "      <td>frog_2</td>\n",
       "      <td>[sub_a, sub_b]</td>\n",
       "    </tr>\n",
       "    <tr>\n",
       "      <th>frog_3</th>\n",
       "      <td>multi</td>\n",
       "      <td>anySampleType</td>\n",
       "      <td>frog_3</td>\n",
       "      <td>NaN</td>\n",
       "    </tr>\n",
       "  </tbody>\n",
       "</table>\n",
       "</div>"
      ],
      "text/plain": [
       "                                                          file       protocol  \\\n",
       "sample_name                                                                     \n",
       "frog_1       [data/frog1a_data.txt, data/frog1b_data.txt, d...  anySampleType   \n",
       "frog_2            [data/frog2a_data.txt, data/frog2b_data.txt]  anySampleType   \n",
       "frog_3                                                   multi  anySampleType   \n",
       "\n",
       "            sample_name         subsample_name  \n",
       "sample_name                                     \n",
       "frog_1           frog_1  [sub_a, sub_b, sub_c]  \n",
       "frog_2           frog_2         [sub_a, sub_b]  \n",
       "frog_3           frog_3                    NaN  "
      ]
     },
     "execution_count": 4,
     "metadata": {},
     "output_type": "execute_result"
    }
   ],
   "source": [
    "from peppy import Project\n",
    "p = Project(project_config)\n",
    "samples = p.sample_table\n",
    "samples"
   ]
  },
  {
   "cell_type": "markdown",
   "metadata": {},
   "source": [
    "### Example 2: subannotations and derived attributes\n",
    "\n",
    "This example uses a `subsample_table.csv` file and a derived attributes to point to files. This is a rather complex example. Notice we must include the `file_id` column in the `sample_table.csv` file, and leave it blank; this is then populated by just some of the samples (`frog_1` and `frog_2`) in the `subsample_table.csv`, but is left empty for the samples that are not merged.\n",
    "\n",
    "This example is made up of these components:\n",
    "\n",
    "* Project config file:"
   ]
  },
  {
   "cell_type": "code",
   "execution_count": 5,
   "metadata": {},
   "outputs": [
    {
     "name": "stdout",
     "output_type": "stream",
     "text": [
      "pep_version: \"2.0.0\"\r\n",
      "sample_table: sample_table.csv\r\n",
      "subsample_table: subsample_table.csv\r\n",
      "output_dir: $HOME/hello_looper_results\r\n",
      "pipeline_interfaces: [../pipeline/pipeline_interface.yaml]\r\n",
      "\r\n",
      "sample_modifiers:\r\n",
      "  derive:\r\n",
      "    attributes: [file]\r\n",
      "    sources:\r\n",
      "      local_files: \"../data/{identifier}{file_id}_data.txt\"\r\n",
      "      local_files_unmerged: \"../data/{identifier}_data.txt\""
     ]
    }
   ],
   "source": [
    "examples_dir = \"../tests/data/example_peps-cfg2/example_subtable2/\"\n",
    "project_config = examples_dir + \"project_config.yaml\"\n",
    "%cat $project_config"
   ]
  },
  {
   "cell_type": "markdown",
   "metadata": {},
   "source": [
    "* Sample table:"
   ]
  },
  {
   "cell_type": "code",
   "execution_count": 6,
   "metadata": {},
   "outputs": [
    {
     "name": "stdout",
     "output_type": "stream",
     "text": [
      "column: line too long\r\n",
      "sample_name  protocol       identifier  file\r\n",
      "frog_1       anySampleType  frog1       local_files\r\n",
      "frog_2       anySampleType  frog2       local_files\r\n",
      "frog_3       anySampleType  frog3       local_files_unmerged\r\n"
     ]
    }
   ],
   "source": [
    "sample_table = examples_dir + \"sample_table.csv\"\n",
    "%cat $sample_table | column -t -s, | cat"
   ]
  },
  {
   "cell_type": "markdown",
   "metadata": {},
   "source": [
    "* Subsample table:"
   ]
  },
  {
   "cell_type": "code",
   "execution_count": 7,
   "metadata": {},
   "outputs": [
    {
     "name": "stdout",
     "output_type": "stream",
     "text": [
      "column: line too long\r\n",
      "sample_name  file_id  subsample_name\r\n",
      "frog_1       a        a\r\n",
      "frog_1       b        b\r\n",
      "frog_1       c        c\r\n",
      "frog_2       a        a\r\n"
     ]
    }
   ],
   "source": [
    "subsample_table = examples_dir + \"subsample_table.csv\"\n",
    "%cat $subsample_table | column -t -s, | cat"
   ]
  },
  {
   "cell_type": "markdown",
   "metadata": {},
   "source": [
    "Let's load the project config, create the Project object and see if multiple files are present "
   ]
  },
  {
   "cell_type": "code",
   "execution_count": 8,
   "metadata": {},
   "outputs": [
    {
     "data": {
      "text/html": [
       "<div>\n",
       "<style scoped>\n",
       "    .dataframe tbody tr th:only-of-type {\n",
       "        vertical-align: middle;\n",
       "    }\n",
       "\n",
       "    .dataframe tbody tr th {\n",
       "        vertical-align: top;\n",
       "    }\n",
       "\n",
       "    .dataframe thead th {\n",
       "        text-align: right;\n",
       "    }\n",
       "</style>\n",
       "<table border=\"1\" class=\"dataframe\">\n",
       "  <thead>\n",
       "    <tr style=\"text-align: right;\">\n",
       "      <th></th>\n",
       "      <th>file</th>\n",
       "      <th>file_id</th>\n",
       "      <th>identifier</th>\n",
       "      <th>protocol</th>\n",
       "      <th>sample_name</th>\n",
       "      <th>subsample_name</th>\n",
       "    </tr>\n",
       "    <tr>\n",
       "      <th>sample_name</th>\n",
       "      <th></th>\n",
       "      <th></th>\n",
       "      <th></th>\n",
       "      <th></th>\n",
       "      <th></th>\n",
       "      <th></th>\n",
       "    </tr>\n",
       "  </thead>\n",
       "  <tbody>\n",
       "    <tr>\n",
       "      <th>frog_1</th>\n",
       "      <td>[../data/frog1a_data.txt, ../data/frog1b_data....</td>\n",
       "      <td>[a, b, c]</td>\n",
       "      <td>frog1</td>\n",
       "      <td>anySampleType</td>\n",
       "      <td>frog_1</td>\n",
       "      <td>[a, b, c]</td>\n",
       "    </tr>\n",
       "    <tr>\n",
       "      <th>frog_2</th>\n",
       "      <td>[../data/frog2a_data.txt, ../data/frog2b_data....</td>\n",
       "      <td>[a, b]</td>\n",
       "      <td>frog2</td>\n",
       "      <td>anySampleType</td>\n",
       "      <td>frog_2</td>\n",
       "      <td>[a, b]</td>\n",
       "    </tr>\n",
       "    <tr>\n",
       "      <th>frog_3</th>\n",
       "      <td>../data/frog3_data.txt</td>\n",
       "      <td>NaN</td>\n",
       "      <td>frog3</td>\n",
       "      <td>anySampleType</td>\n",
       "      <td>frog_3</td>\n",
       "      <td>NaN</td>\n",
       "    </tr>\n",
       "    <tr>\n",
       "      <th>frog_4</th>\n",
       "      <td>../data/frog4_data.txt</td>\n",
       "      <td>NaN</td>\n",
       "      <td>frog4</td>\n",
       "      <td>anySampleType</td>\n",
       "      <td>frog_4</td>\n",
       "      <td>NaN</td>\n",
       "    </tr>\n",
       "  </tbody>\n",
       "</table>\n",
       "</div>"
      ],
      "text/plain": [
       "                                                          file    file_id  \\\n",
       "sample_name                                                                 \n",
       "frog_1       [../data/frog1a_data.txt, ../data/frog1b_data....  [a, b, c]   \n",
       "frog_2       [../data/frog2a_data.txt, ../data/frog2b_data....     [a, b]   \n",
       "frog_3                                  ../data/frog3_data.txt        NaN   \n",
       "frog_4                                  ../data/frog4_data.txt        NaN   \n",
       "\n",
       "            identifier       protocol sample_name subsample_name  \n",
       "sample_name                                                       \n",
       "frog_1           frog1  anySampleType      frog_1      [a, b, c]  \n",
       "frog_2           frog2  anySampleType      frog_2         [a, b]  \n",
       "frog_3           frog3  anySampleType      frog_3            NaN  \n",
       "frog_4           frog4  anySampleType      frog_4            NaN  "
      ]
     },
     "execution_count": 8,
     "metadata": {},
     "output_type": "execute_result"
    }
   ],
   "source": [
    "p = Project(project_config)\n",
    "samples = p.sample_table\n",
    "samples"
   ]
  },
  {
   "cell_type": "markdown",
   "metadata": {},
   "source": [
    "### Example 3: subannotations and expansion characters\n",
    "\n",
    "This example gives the exact same results as Example 2, but in this case, uses a wildcard for `frog_2` instead of including it in the `subsample_table.csv` file. Since we can't use a wildcard and a subannotation for the same sample, this necessitates specifying a second data source class (`local_files_unmerged`) that uses an asterisk (`*`). The outcome is the same (`file` columns match).\n",
    "\n",
    "This example is made up of these components:\n",
    "\n",
    "* Project config file:"
   ]
  },
  {
   "cell_type": "code",
   "execution_count": 9,
   "metadata": {},
   "outputs": [
    {
     "name": "stdout",
     "output_type": "stream",
     "text": [
      "/Users/mstolarczyk/Uczelnia/UVA/code/peppy/tests/data/example_peps-cfg2/example_subtable3\n",
      "pep_version: \"2.0.0\"\r\n",
      "sample_table: sample_table.csv\r\n",
      "subsample_table: subsample_table.csv\r\n",
      "output_dir: $HOME/hello_looper_results\r\n",
      "pipeline_interfaces: [../pipeline/pipeline_interface.yaml]\r\n",
      "\r\n",
      "sample_modifiers:\r\n",
      "  derive:\r\n",
      "    attributes: [file]\r\n",
      "    sources:\r\n",
      "      local_files: \"../data/{identifier}{file_id}_data.txt\"\r\n",
      "      local_files_unmerged: \"../data/{identifier}*_data.txt\"\r\n",
      "\r\n"
     ]
    }
   ],
   "source": [
    "examples_dir = \"../tests/data/example_peps-cfg2/example_subtable3/\"\n",
    "# need to cd to the example dir so that the glob works as expected\n",
    "%cd $examples_dir \n",
    "project_config = \"project_config.yaml\"\n",
    "%cat $project_config"
   ]
  },
  {
   "cell_type": "markdown",
   "metadata": {},
   "source": [
    "* Sample table:"
   ]
  },
  {
   "cell_type": "code",
   "execution_count": 10,
   "metadata": {},
   "outputs": [
    {
     "name": "stdout",
     "output_type": "stream",
     "text": [
      "sample_name  protocol       identifier  file                  file_id\r\n",
      "frog_1       anySampleType  frog1       local_files\r\n",
      "frog_2       anySampleType  frog2       local_files_unmerged\r\n",
      "frog_3       anySampleType  frog3       local_files_unmerged\r\n",
      "frog_4       anySampleType  frog4       local_files_unmerged\r\n"
     ]
    }
   ],
   "source": [
    "%cat sample_table.csv | column -t -s, | cat"
   ]
  },
  {
   "cell_type": "markdown",
   "metadata": {},
   "source": [
    "* Subsample table:"
   ]
  },
  {
   "cell_type": "code",
   "execution_count": 11,
   "metadata": {},
   "outputs": [
    {
     "name": "stdout",
     "output_type": "stream",
     "text": [
      "sample_name  file_id\r\n",
      "frog_1       a\r\n",
      "frog_1       b\r\n",
      "frog_1       c\r\n"
     ]
    }
   ],
   "source": [
    "%cat subsample_table.csv | column -t -s, | cat"
   ]
  },
  {
   "cell_type": "markdown",
   "metadata": {},
   "source": [
    "Let's load the project config, create the Project object and see if multiple files are present "
   ]
  },
  {
   "cell_type": "code",
   "execution_count": 12,
   "metadata": {},
   "outputs": [
    {
     "data": {
      "text/html": [
       "<div>\n",
       "<style scoped>\n",
       "    .dataframe tbody tr th:only-of-type {\n",
       "        vertical-align: middle;\n",
       "    }\n",
       "\n",
       "    .dataframe tbody tr th {\n",
       "        vertical-align: top;\n",
       "    }\n",
       "\n",
       "    .dataframe thead th {\n",
       "        text-align: right;\n",
       "    }\n",
       "</style>\n",
       "<table border=\"1\" class=\"dataframe\">\n",
       "  <thead>\n",
       "    <tr style=\"text-align: right;\">\n",
       "      <th></th>\n",
       "      <th>file</th>\n",
       "      <th>file_id</th>\n",
       "      <th>identifier</th>\n",
       "      <th>protocol</th>\n",
       "      <th>sample_name</th>\n",
       "      <th>subsample_name</th>\n",
       "    </tr>\n",
       "    <tr>\n",
       "      <th>sample_name</th>\n",
       "      <th></th>\n",
       "      <th></th>\n",
       "      <th></th>\n",
       "      <th></th>\n",
       "      <th></th>\n",
       "      <th></th>\n",
       "    </tr>\n",
       "  </thead>\n",
       "  <tbody>\n",
       "    <tr>\n",
       "      <th>frog_1</th>\n",
       "      <td>[../data/frog1a_data.txt, ../data/frog1b_data....</td>\n",
       "      <td>[a, b, c]</td>\n",
       "      <td>frog1</td>\n",
       "      <td>anySampleType</td>\n",
       "      <td>frog_1</td>\n",
       "      <td>[0, 1, 2]</td>\n",
       "    </tr>\n",
       "    <tr>\n",
       "      <th>frog_2</th>\n",
       "      <td>[../data/frog2_data.txt, ../data/frog2a_data.t...</td>\n",
       "      <td>NaN</td>\n",
       "      <td>frog2</td>\n",
       "      <td>anySampleType</td>\n",
       "      <td>frog_2</td>\n",
       "      <td>NaN</td>\n",
       "    </tr>\n",
       "    <tr>\n",
       "      <th>frog_3</th>\n",
       "      <td>../data/frog3_data.txt</td>\n",
       "      <td>NaN</td>\n",
       "      <td>frog3</td>\n",
       "      <td>anySampleType</td>\n",
       "      <td>frog_3</td>\n",
       "      <td>NaN</td>\n",
       "    </tr>\n",
       "    <tr>\n",
       "      <th>frog_4</th>\n",
       "      <td>../data/frog4_data.txt</td>\n",
       "      <td>NaN</td>\n",
       "      <td>frog4</td>\n",
       "      <td>anySampleType</td>\n",
       "      <td>frog_4</td>\n",
       "      <td>NaN</td>\n",
       "    </tr>\n",
       "  </tbody>\n",
       "</table>\n",
       "</div>"
      ],
      "text/plain": [
       "                                                          file    file_id  \\\n",
       "sample_name                                                                 \n",
       "frog_1       [../data/frog1a_data.txt, ../data/frog1b_data....  [a, b, c]   \n",
       "frog_2       [../data/frog2_data.txt, ../data/frog2a_data.t...        NaN   \n",
       "frog_3                                  ../data/frog3_data.txt        NaN   \n",
       "frog_4                                  ../data/frog4_data.txt        NaN   \n",
       "\n",
       "            identifier       protocol sample_name subsample_name  \n",
       "sample_name                                                       \n",
       "frog_1           frog1  anySampleType      frog_1      [0, 1, 2]  \n",
       "frog_2           frog2  anySampleType      frog_2            NaN  \n",
       "frog_3           frog3  anySampleType      frog_3            NaN  \n",
       "frog_4           frog4  anySampleType      frog_4            NaN  "
      ]
     },
     "execution_count": 12,
     "metadata": {},
     "output_type": "execute_result"
    }
   ],
   "source": [
    "p = Project(project_config)\n",
    "samples = p.sample_table\n",
    "samples"
   ]
  }
 ],
 "metadata": {
  "kernelspec": {
   "display_name": "Python 3",
   "language": "python",
   "name": "python3"
  },
  "language_info": {
   "codemirror_mode": {
    "name": "ipython",
    "version": 3
   },
   "file_extension": ".py",
   "mimetype": "text/x-python",
   "name": "python",
   "nbconvert_exporter": "python",
   "pygments_lexer": "ipython3",
   "version": "3.6.5"
  }
 },
 "nbformat": 4,
 "nbformat_minor": 2
}
