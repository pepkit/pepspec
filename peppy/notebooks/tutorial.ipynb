{
 "cells": [
  {
   "cell_type": "markdown",
   "metadata": {},
   "source": [
    "# Basic PEP example\n",
    "\n",
    "This vignette will show you a simple example PEP-formatted project, and how to read it into python using the `peppy` package. This example comes from the [example_peps repsitory](https://github.com/pepkit/example_peps) in the [example_basic](https://github.com/pepkit/example_peps/tree/master/example_basic) folder.\n",
    "\n",
    "\n",
    "Start by importing `peppy`, and then let's take a look at the configuration file that defines our project:"
   ]
  },
  {
   "cell_type": "code",
   "execution_count": 1,
   "metadata": {},
   "outputs": [],
   "source": [
    "import peppy\n",
    "examples_dir = \"../tests/data/example_peps-cfg2/\""
   ]
  },
  {
   "cell_type": "code",
   "execution_count": 2,
   "metadata": {
    "scrolled": true
   },
   "outputs": [
    {
     "name": "stdout",
     "output_type": "stream",
     "text": [
      "pep_version: \"2.0.0\"\r\n",
      "sample_table: sample_table.csv"
     ]
    }
   ],
   "source": [
    "project_config_file = examples_dir + \"example_basic/project_config.yaml\"\n",
    "%cat $project_config_file"
   ]
  },
  {
   "cell_type": "markdown",
   "metadata": {},
   "source": [
    "It's a basic YAML-formatted file with couple of sections:\n",
    "- `pep_version` (required; indicates with PEP spec version this config subscribes to)\n",
    "- `sample_table` (suggested; a pointer to sample annotation sheet. It is stored in the same folder as `project_config.yaml`)\n",
    "\n",
    "Now, let's now glance at that annotation file: "
   ]
  },
  {
   "cell_type": "code",
   "execution_count": 3,
   "metadata": {},
   "outputs": [
    {
     "name": "stdout",
     "output_type": "stream",
     "text": [
      "sample_name  protocol       file\r\n",
      "frog_1       anySampleType  data/frog1_data.txt\r\n",
      "frog_2       anySampleType  data/frog2_data.txt\r\n"
     ]
    }
   ],
   "source": [
    "sample_table = examples_dir + \"example_basic/sample_table.csv\"\n",
    "%cat $sample_table | column -t -s, | cat"
   ]
  },
  {
   "cell_type": "markdown",
   "metadata": {},
   "source": [
    "This `sample_table.csv` file is a basic CSV file, with rows corresponding to samples, and columns corresponding to sample attributes. Let's read this simple example project into Python using `peppy`:"
   ]
  },
  {
   "cell_type": "code",
   "execution_count": 4,
   "metadata": {},
   "outputs": [],
   "source": [
    "project = peppy.Project(examples_dir + \"example_basic/project_config.yaml\")"
   ]
  },
  {
   "cell_type": "markdown",
   "metadata": {},
   "source": [
    "Now, we have access to all the project metadata in easy-to-use form using python objects. We can browse the samples in the project like this:"
   ]
  },
  {
   "cell_type": "code",
   "execution_count": 5,
   "metadata": {
    "scrolled": true
   },
   "outputs": [
    {
     "data": {
      "text/plain": [
       "'data/frog1_data.txt'"
      ]
     },
     "execution_count": 5,
     "metadata": {},
     "output_type": "execute_result"
    }
   ],
   "source": [
    "project.samples[0].file"
   ]
  }
 ],
 "metadata": {
  "kernelspec": {
   "display_name": "Python 3",
   "language": "python",
   "name": "python3"
  },
  "language_info": {
   "codemirror_mode": {
    "name": "ipython",
    "version": 3
   },
   "file_extension": ".py",
   "mimetype": "text/x-python",
   "name": "python",
   "nbconvert_exporter": "python",
   "pygments_lexer": "ipython3",
   "version": "3.6.5"
  }
 },
 "nbformat": 4,
 "nbformat_minor": 2
}
