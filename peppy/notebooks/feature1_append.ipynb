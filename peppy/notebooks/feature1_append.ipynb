{
 "cells": [
  {
   "cell_type": "markdown",
   "metadata": {},
   "source": [
    "# Learn append sample modifier in `peppy`\n",
    "\n",
    "This vignette will show you how and why to use the append functionality of the `pepr` package. \n",
    "\n",
    " - basic information about this concept on the [specification website](http://pep.databio.org/en/2.0.0/specification/#sample_modifiersappend).\n",
    "\n",
    "## Problem/Goal\n",
    "The example below demonstrates how to use the constant attributes to **define the samples attributes in the `read_type` column** of the `sample_table.csv` file. This functionality is extremely useful when there are many samples that are characterized by identical values of certain attribute (here: value `SINGLE` in `read_type` attribute). Please consider the example below for reference:"
   ]
  },
  {
   "cell_type": "code",
   "execution_count": 1,
   "metadata": {},
   "outputs": [
    {
     "name": "stdout",
     "output_type": "stream",
     "text": [
      "sample_name  organism  time  read_type\r",
      "\r\n",
      "pig_0h       pig       0     SINGLE\r",
      "\r\n",
      "pig_1h       pig       1     SINGLE\r",
      "\r\n",
      "frog_0h      frog      0     SINGLE\r",
      "\r\n",
      "frog_1h      frog      1     SINGLE\r\n"
     ]
    }
   ],
   "source": [
    "examples_dir = \"../tests/data/example_peps-cfg2/example_append/\"\n",
    "sample_table_ori = examples_dir + \"sample_table_pre.csv\"\n",
    "%cat $sample_table_ori | column -t -s, | cat"
   ]
  },
  {
   "cell_type": "markdown",
   "metadata": {},
   "source": [
    "## Solution\n",
    "As the name suggests the attributes in the specified attributes (here: `read_type`) can be defined as constant ones. The way how this process is carried out is indicated explicitly in the `project_config.yaml` file (presented below). The name of the column is determined in the `sample_modifiers.append` key-value pair. Note that definition of more than one constant attribute is possible.\n"
   ]
  },
  {
   "cell_type": "code",
   "execution_count": 2,
   "metadata": {},
   "outputs": [
    {
     "name": "stdout",
     "output_type": "stream",
     "text": [
      "pep_version: \"2.0.0\"\r\n",
      "sample_table: sample_table.csv\r\n",
      "\r\n",
      "sample_modifiers:\r\n",
      "  append:\r\n",
      "    read_type: SINGLE\r\n",
      "\r\n"
     ]
    }
   ],
   "source": [
    "project_config_file = examples_dir + \"project_config.yaml\"\n",
    "%cat $project_config_file"
   ]
  },
  {
   "cell_type": "markdown",
   "metadata": {},
   "source": [
    "Let's introduce a few modifications to the original `sample_table.csv` file to use the `sample_modifiers.append` section of the config. Simply skip the attributes that are set constant and let the `pepr` do the work for you."
   ]
  },
  {
   "cell_type": "code",
   "execution_count": 3,
   "metadata": {},
   "outputs": [
    {
     "name": "stdout",
     "output_type": "stream",
     "text": [
      "sample_name  organism  time \r",
      "\r\n",
      "pig_0h       pig       0\r",
      "\r\n",
      "pig_1h       pig       1\r",
      "\r\n",
      "frog_0h      frog      0\r",
      "\r\n",
      "frog_1h      frog      1\r",
      "\r\n"
     ]
    }
   ],
   "source": [
    "sample_table = examples_dir + \"sample_table.csv\"\n",
    "%cat $sample_table | column -t -s, | cat"
   ]
  },
  {
   "cell_type": "markdown",
   "metadata": {},
   "source": [
    "## Code\n",
    "Import `peppy` and read in the project metadata by specifying the path to the `project_config.yaml`:"
   ]
  },
  {
   "cell_type": "code",
   "execution_count": 4,
   "metadata": {},
   "outputs": [],
   "source": [
    "from peppy import Project\n",
    "p = Project(project_config_file)"
   ]
  },
  {
   "cell_type": "markdown",
   "metadata": {},
   "source": [
    "And inspect it:"
   ]
  },
  {
   "cell_type": "code",
   "execution_count": 5,
   "metadata": {},
   "outputs": [
    {
     "name": "stdout",
     "output_type": "stream",
     "text": [
      "Project 'example_append' (/Users/mstolarczyk/Uczelnia/UVA/code/peppy/tests/data/example_peps-cfg2/example_append/project_config.yaml)\n",
      "4 samples: pig_0h, pig_1h, frog_0h, frog_1h\n",
      "Sections: pep_version, sample_table, sample_modifiers\n"
     ]
    },
    {
     "data": {
      "text/html": [
       "<div>\n",
       "<style scoped>\n",
       "    .dataframe tbody tr th:only-of-type {\n",
       "        vertical-align: middle;\n",
       "    }\n",
       "\n",
       "    .dataframe tbody tr th {\n",
       "        vertical-align: top;\n",
       "    }\n",
       "\n",
       "    .dataframe thead th {\n",
       "        text-align: right;\n",
       "    }\n",
       "</style>\n",
       "<table border=\"1\" class=\"dataframe\">\n",
       "  <thead>\n",
       "    <tr style=\"text-align: right;\">\n",
       "      <th></th>\n",
       "      <th>organism</th>\n",
       "      <th>read_type</th>\n",
       "      <th>sample_name</th>\n",
       "      <th>time</th>\n",
       "    </tr>\n",
       "    <tr>\n",
       "      <th>sample_name</th>\n",
       "      <th></th>\n",
       "      <th></th>\n",
       "      <th></th>\n",
       "      <th></th>\n",
       "    </tr>\n",
       "  </thead>\n",
       "  <tbody>\n",
       "    <tr>\n",
       "      <th>pig_0h</th>\n",
       "      <td>pig</td>\n",
       "      <td>SINGLE</td>\n",
       "      <td>pig_0h</td>\n",
       "      <td>0</td>\n",
       "    </tr>\n",
       "    <tr>\n",
       "      <th>pig_1h</th>\n",
       "      <td>pig</td>\n",
       "      <td>SINGLE</td>\n",
       "      <td>pig_1h</td>\n",
       "      <td>1</td>\n",
       "    </tr>\n",
       "    <tr>\n",
       "      <th>frog_0h</th>\n",
       "      <td>frog</td>\n",
       "      <td>SINGLE</td>\n",
       "      <td>frog_0h</td>\n",
       "      <td>0</td>\n",
       "    </tr>\n",
       "    <tr>\n",
       "      <th>frog_1h</th>\n",
       "      <td>frog</td>\n",
       "      <td>SINGLE</td>\n",
       "      <td>frog_1h</td>\n",
       "      <td>1</td>\n",
       "    </tr>\n",
       "  </tbody>\n",
       "</table>\n",
       "</div>"
      ],
      "text/plain": [
       "            organism read_type sample_name time \n",
       "sample_name                                     \n",
       "pig_0h           pig    SINGLE      pig_0h     0\n",
       "pig_1h           pig    SINGLE      pig_1h     1\n",
       "frog_0h         frog    SINGLE     frog_0h     0\n",
       "frog_1h         frog    SINGLE     frog_1h     1"
      ]
     },
     "execution_count": 5,
     "metadata": {},
     "output_type": "execute_result"
    }
   ],
   "source": [
    "print(p)\n",
    "p.sample_table"
   ]
  },
  {
   "cell_type": "markdown",
   "metadata": {},
   "source": [
    "As you can see, the resulting samples are annotated the same way as if they were read from the original annotations file with attributes in the last column manually determined."
   ]
  }
 ],
 "metadata": {
  "kernelspec": {
   "display_name": "Python 3",
   "language": "python",
   "name": "python3"
  },
  "language_info": {
   "codemirror_mode": {
    "name": "ipython",
    "version": 3
   },
   "file_extension": ".py",
   "mimetype": "text/x-python",
   "name": "python",
   "nbconvert_exporter": "python",
   "pygments_lexer": "ipython3",
   "version": "3.6.5"
  }
 },
 "nbformat": 4,
 "nbformat_minor": 2
}
