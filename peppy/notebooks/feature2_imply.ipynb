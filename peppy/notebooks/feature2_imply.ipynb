{
 "cells": [
  {
   "cell_type": "markdown",
   "metadata": {},
   "source": [
    "# Learn implied sample modifier in `peppy`\n",
    "\n",
    "This vignette will show you how and why to use the implied attributes functionality of the `peppy` package. \n",
    "\n",
    " - basic information about the PEP concept on the [project website](http://pep.databio.org/en/2.0.0)\n",
    " \n",
    " - broader theoretical description in the implied attributes [documentation section](http://pep.databio.org/en/2.0.0/specification/#sample_modifiersimply).\n",
    "\n",
    "## Problem/Goal\n",
    "The example below demonstrates how and why to use implied attributes functionality to **save your time and effort** in case multiple sample attributes need to be defined for many samples and they **follow certain patterns**. Please consider the example below for reference:"
   ]
  },
  {
   "cell_type": "code",
   "execution_count": 1,
   "metadata": {},
   "outputs": [
    {
     "name": "stdout",
     "output_type": "stream",
     "text": [
      "sample_name  organism  time  file_path                        genome  genome_size\r\n",
      "frog_0h      frog      0     data/lab/project/frog_0h.fastq\r\n",
      "frog_1h      frog      1     data/lab/project/frog_1h.fastq\r\n",
      "human_1h     human     1     data/lab/project/human_1h.fastq  hg38    hs\r\n",
      "human_0h     human     0     data/lab/project/human_0h.fastq  hg38    hs\r\n",
      "mouse_1h     mouse     1     data/lab/project/mouse_1h.fastq  mm10    mm\r\n",
      "mouse_0h     mouse     0     data/lab/project/mouse_1h.fastq  mm10    mm\r\n"
     ]
    }
   ],
   "source": [
    "examples_dir = \"../tests/data/example_peps-cfg2/example_imply/\"\n",
    "sample_table_ori = examples_dir + \"sample_table_pre.csv\"\n",
    "%cat $sample_table_ori | column -t -s, | cat"
   ]
  },
  {
   "cell_type": "markdown",
   "metadata": {},
   "source": [
    "## Solution\n",
    "Noticeably, the samples with attributes `human` and `mouse` (in the `organism` column) follow two distinct patterns here. They have additional attributes in attributes `genome` and `genome_size` in the `sample_table.csv` file. Consequently you can use implied attributes to add those attributes to the sample annotations (set global, species-level attributes at the project level instead of duplicating that information for every sample that belongs to a species). The way how this process is carried out is indicated explicitly in the `project_config.yaml` file (presented below)."
   ]
  },
  {
   "cell_type": "code",
   "execution_count": 2,
   "metadata": {},
   "outputs": [
    {
     "name": "stdout",
     "output_type": "stream",
     "text": [
      "pep_version: '2.0.0'\r\n",
      "sample_table: sample_table.csv\r\n",
      "looper:\r\n",
      "  output_dir: $HOME/hello_looper_results\r\n",
      "\r\n",
      "sample_modifiers:\r\n",
      "  imply:\r\n",
      "    - if:\r\n",
      "        organism: human\r\n",
      "      then:\r\n",
      "        genome: hg38\r\n",
      "        macs_genome_size: hs\r\n",
      "    - if:\r\n",
      "        organism: mouse\r\n",
      "      then:\r\n",
      "        genome: mm10\r\n",
      "        macs_genome_size: mm"
     ]
    }
   ],
   "source": [
    "project_config_file = examples_dir + \"project_config.yaml\"\n",
    "%cat $project_config_file"
   ]
  },
  {
   "cell_type": "markdown",
   "metadata": {},
   "source": [
    "Consequently, you can design `sample_modifiers.imply` - a multi-level key-value section in the `project_config.yaml` file. Note that the keys must match the column names and attributes in the `sample_annotations.csv` file. \n",
    "\n",
    "Let's introduce a few modifications to the original `sample_table.csv` file to use the `sample_modifiers.imply` section of the config. Simply skip the attributes that will be implied and let the `peppy` do the work for you."
   ]
  },
  {
   "cell_type": "code",
   "execution_count": 3,
   "metadata": {},
   "outputs": [
    {
     "name": "stdout",
     "output_type": "stream",
     "text": [
      "sample_name  organism  time  file_path\r\n",
      "frog_0h      frog      0     data/lab/project/frog_0h.fastq\r\n",
      "frog_1h      frog      1     data/lab/project/frog_1h.fastq\r\n",
      "human_1h     human     1     data/lab/project/human_1h.fastq\r\n",
      "human_0h     human     0     data/lab/project/human_0h.fastq\r\n",
      "mouse_1h     mouse     1     data/lab/project/mouse_1h.fastq\r\n",
      "mouse_0h     mouse     0     data/lab/project/mouse_1h.fastq\r\n"
     ]
    }
   ],
   "source": [
    "sample_table = examples_dir + \"sample_table.csv\"\n",
    "%cat $sample_table | column -t -s, | cat"
   ]
  },
  {
   "cell_type": "markdown",
   "metadata": {},
   "source": [
    "## Code\n",
    "Load `peppy` and read in the project metadata by specifying the path to the `project_config.yaml`:"
   ]
  },
  {
   "cell_type": "code",
   "execution_count": 4,
   "metadata": {},
   "outputs": [],
   "source": [
    "from peppy import Project\n",
    "p = Project(project_config_file)"
   ]
  },
  {
   "cell_type": "markdown",
   "metadata": {},
   "source": [
    "And inspect it:"
   ]
  },
  {
   "cell_type": "code",
   "execution_count": 5,
   "metadata": {},
   "outputs": [
    {
     "name": "stdout",
     "output_type": "stream",
     "text": [
      "Project 'example_imply' (/Users/mstolarczyk/Uczelnia/UVA/code/peppy/tests/data/example_peps-cfg2/example_imply/project_config.yaml)\n",
      "6 samples: frog_0h, frog_1h, human_1h, human_0h, mouse_1h, mouse_0h\n",
      "Sections: pep_version, sample_table, looper, sample_modifiers\n"
     ]
    },
    {
     "data": {
      "text/html": [
       "<div>\n",
       "<style scoped>\n",
       "    .dataframe tbody tr th:only-of-type {\n",
       "        vertical-align: middle;\n",
       "    }\n",
       "\n",
       "    .dataframe tbody tr th {\n",
       "        vertical-align: top;\n",
       "    }\n",
       "\n",
       "    .dataframe thead th {\n",
       "        text-align: right;\n",
       "    }\n",
       "</style>\n",
       "<table border=\"1\" class=\"dataframe\">\n",
       "  <thead>\n",
       "    <tr style=\"text-align: right;\">\n",
       "      <th></th>\n",
       "      <th>file_path</th>\n",
       "      <th>organism</th>\n",
       "      <th>sample_name</th>\n",
       "      <th>time</th>\n",
       "      <th>genome</th>\n",
       "      <th>macs_genome_size</th>\n",
       "    </tr>\n",
       "    <tr>\n",
       "      <th>sample_name</th>\n",
       "      <th></th>\n",
       "      <th></th>\n",
       "      <th></th>\n",
       "      <th></th>\n",
       "      <th></th>\n",
       "      <th></th>\n",
       "    </tr>\n",
       "  </thead>\n",
       "  <tbody>\n",
       "    <tr>\n",
       "      <th>frog_0h</th>\n",
       "      <td>data/lab/project/frog_0h.fastq</td>\n",
       "      <td>frog</td>\n",
       "      <td>frog_0h</td>\n",
       "      <td>0</td>\n",
       "      <td>NaN</td>\n",
       "      <td>NaN</td>\n",
       "    </tr>\n",
       "    <tr>\n",
       "      <th>frog_1h</th>\n",
       "      <td>data/lab/project/frog_1h.fastq</td>\n",
       "      <td>frog</td>\n",
       "      <td>frog_1h</td>\n",
       "      <td>1</td>\n",
       "      <td>NaN</td>\n",
       "      <td>NaN</td>\n",
       "    </tr>\n",
       "    <tr>\n",
       "      <th>human_1h</th>\n",
       "      <td>data/lab/project/human_1h.fastq</td>\n",
       "      <td>human</td>\n",
       "      <td>human_1h</td>\n",
       "      <td>1</td>\n",
       "      <td>hg38</td>\n",
       "      <td>hs</td>\n",
       "    </tr>\n",
       "    <tr>\n",
       "      <th>human_0h</th>\n",
       "      <td>data/lab/project/human_0h.fastq</td>\n",
       "      <td>human</td>\n",
       "      <td>human_0h</td>\n",
       "      <td>0</td>\n",
       "      <td>hg38</td>\n",
       "      <td>hs</td>\n",
       "    </tr>\n",
       "    <tr>\n",
       "      <th>mouse_1h</th>\n",
       "      <td>data/lab/project/mouse_1h.fastq</td>\n",
       "      <td>mouse</td>\n",
       "      <td>mouse_1h</td>\n",
       "      <td>1</td>\n",
       "      <td>mm10</td>\n",
       "      <td>mm</td>\n",
       "    </tr>\n",
       "    <tr>\n",
       "      <th>mouse_0h</th>\n",
       "      <td>data/lab/project/mouse_1h.fastq</td>\n",
       "      <td>mouse</td>\n",
       "      <td>mouse_0h</td>\n",
       "      <td>0</td>\n",
       "      <td>mm10</td>\n",
       "      <td>mm</td>\n",
       "    </tr>\n",
       "  </tbody>\n",
       "</table>\n",
       "</div>"
      ],
      "text/plain": [
       "                                   file_path organism sample_name time genome  \\\n",
       "sample_name                                                                     \n",
       "frog_0h       data/lab/project/frog_0h.fastq     frog     frog_0h    0    NaN   \n",
       "frog_1h       data/lab/project/frog_1h.fastq     frog     frog_1h    1    NaN   \n",
       "human_1h     data/lab/project/human_1h.fastq    human    human_1h    1   hg38   \n",
       "human_0h     data/lab/project/human_0h.fastq    human    human_0h    0   hg38   \n",
       "mouse_1h     data/lab/project/mouse_1h.fastq    mouse    mouse_1h    1   mm10   \n",
       "mouse_0h     data/lab/project/mouse_1h.fastq    mouse    mouse_0h    0   mm10   \n",
       "\n",
       "            macs_genome_size  \n",
       "sample_name                   \n",
       "frog_0h                  NaN  \n",
       "frog_1h                  NaN  \n",
       "human_1h                  hs  \n",
       "human_0h                  hs  \n",
       "mouse_1h                  mm  \n",
       "mouse_0h                  mm  "
      ]
     },
     "execution_count": 5,
     "metadata": {},
     "output_type": "execute_result"
    }
   ],
   "source": [
    "print(p)\n",
    "p.sample_table"
   ]
  },
  {
   "cell_type": "markdown",
   "metadata": {},
   "source": [
    "As you can see, the resulting samples are annotated the same way as if they were read from the original annotations file with attributes in the two last columns manually determined."
   ]
  }
 ],
 "metadata": {
  "kernelspec": {
   "display_name": "Python 3",
   "language": "python",
   "name": "python3"
  },
  "language_info": {
   "codemirror_mode": {
    "name": "ipython",
    "version": 3
   },
   "file_extension": ".py",
   "mimetype": "text/x-python",
   "name": "python",
   "nbconvert_exporter": "python",
   "pygments_lexer": "ipython3",
   "version": "3.6.5"
  }
 },
 "nbformat": 4,
 "nbformat_minor": 2
}
