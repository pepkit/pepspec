{
 "cells": [
  {
   "cell_type": "markdown",
   "id": "d63307ae-03d5-4643-b20e-e944410a2ad6",
   "metadata": {},
   "source": [
    "# Hello World Intermediate and Advanced Examples\n",
    "\n",
    "This tutorial assumes you have already followed the Simple Hello World example in the previous example."
   ]
  },
  {
   "cell_type": "markdown",
   "id": "e0cbceb8-795e-4cae-8458-c3fc758cb99d",
   "metadata": {},
   "source": [
    "Assuming you have already downloaded and unzipped the examples from hello looper.\n",
    "\n",
    "Ensure you are in the `hello_looper-dev/intermediate` folder.\n",
    "\n",
    "e.g.\n"
   ]
  },
  {
   "cell_type": "code",
   "execution_count": 2,
   "id": "997c17bd-31b1-486b-b182-eb2a35a29bad",
   "metadata": {},
   "outputs": [
    {
     "name": "stdout",
     "output_type": "stream",
     "text": [
      "/home/drc/GITHUB/pepspec/docs/looper/notebooks/hello_looper-dev/intermediate\n"
     ]
    },
    {
     "name": "stderr",
     "output_type": "stream",
     "text": [
      "/home/drc/GITHUB/pepspec/.venv/lib/python3.10/site-packages/IPython/core/magics/osm.py:417: UserWarning: This is now an optional IPython functionality, setting dhist requires you to install the `pickleshare` library.\n",
      "  self.shell.db['dhist'] = compress_dhist(dhist)[-100:]\n"
     ]
    }
   ],
   "source": [
    "cd hello_looper-dev/intermediate"
   ]
  },
  {
   "cell_type": "code",
   "execution_count": 3,
   "id": "7a385ffe-f1f8-4945-aad6-87d135867c9b",
   "metadata": {},
   "outputs": [
    {
     "name": "stdout",
     "output_type": "stream",
     "text": [
      "/home/drc/GITHUB/pepspec/docs/looper/notebooks/hello_looper-dev/intermediate\n"
     ]
    }
   ],
   "source": [
    "!pwd"
   ]
  },
  {
   "cell_type": "markdown",
   "id": "731504e0-21a3-4fcf-a7c9-72fbc1732aa6",
   "metadata": {},
   "source": [
    "The contents of this looper project is very similar to the minimal example."
   ]
  },
  {
   "cell_type": "code",
   "execution_count": 7,
   "id": "bfaed27c-ea8a-4804-8a5f-a5594f345633",
   "metadata": {},
   "outputs": [
    {
     "name": "stdout",
     "output_type": "stream",
     "text": [
      "\u001b[01;34mdata\u001b[0m\n",
      "├── frog_1.txt\n",
      "└── frog_2.txt\n",
      "\u001b[01;34mpipeline\u001b[0m\n",
      "├── \u001b[01;32mcount_lines.sh\u001b[0m\n",
      "└── pipeline_interface.yaml\n",
      "\u001b[01;34mproject\u001b[0m\n",
      "├── project_config.yaml\n",
      "└── sample_annotation.csv\n",
      "\n",
      "0 directories, 2 files\n"
     ]
    }
   ],
   "source": [
    "!tree *"
   ]
  },
  {
   "cell_type": "markdown",
   "id": "14e54461-440d-492e-8dcd-00d3efa72334",
   "metadata": {},
   "source": [
    "You can run the project via:"
   ]
  },
  {
   "cell_type": "code",
   "execution_count": 9,
   "id": "ef80ac64-3a02-4716-bed5-55fc7b54cdda",
   "metadata": {},
   "outputs": [
    {
     "name": "stdout",
     "output_type": "stream",
     "text": [
      "Looper version: 2.0.0a1\n",
      "Command: run\n",
      "Using default divvy config. You may specify in env var: ['DIVCFG']\n",
      "\u001b[36m## [1 of 2] sample: frog_1; pipeline: count_lines\u001b[0m\n",
      "Writing script to /home/drc/GITHUB/pepspec/docs/looper/notebooks/hello_looper-dev/intermediate/results/submission/count_lines_frog_1.sub\n",
      "Job script (n=1; 0.00Gb): /home/drc/GITHUB/pepspec/docs/looper/notebooks/hello_looper-dev/intermediate/results/submission/count_lines_frog_1.sub\n",
      "Compute node: databio\n",
      "Start time: 2024-07-08 19:16:03\n",
      "Number of lines: 4\n",
      "\u001b[36m## [2 of 2] sample: frog_2; pipeline: count_lines\u001b[0m\n",
      "Writing script to /home/drc/GITHUB/pepspec/docs/looper/notebooks/hello_looper-dev/intermediate/results/submission/count_lines_frog_2.sub\n",
      "Job script (n=1; 0.00Gb): /home/drc/GITHUB/pepspec/docs/looper/notebooks/hello_looper-dev/intermediate/results/submission/count_lines_frog_2.sub\n",
      "Compute node: databio\n",
      "Start time: 2024-07-08 19:16:03\n",
      "Number of lines: 7\n",
      "\n",
      "Looper finished\n",
      "Samples valid for job generation: 2 of 2\n",
      "{'Pipestat compatible': False, 'Commands submitted': '2 of 2', 'Jobs submitted': 2}\n",
      "\u001b[0m"
     ]
    }
   ],
   "source": [
    "!looper run -c .looper.yaml"
   ]
  },
  {
   "cell_type": "markdown",
   "id": "358ca9e1-7afd-4f82-8094-8e874cfd259e",
   "metadata": {},
   "source": [
    "However, in this example, we've utilized `sample_modifiers` within the PEP"
   ]
  },
  {
   "cell_type": "code",
   "execution_count": 10,
   "id": "d70c8327-c971-4c3f-98c4-64f931ec53a7",
   "metadata": {},
   "outputs": [
    {
     "name": "stdout",
     "output_type": "stream",
     "text": [
      "pep_version: 2.0.0\n",
      "sample_table: sample_annotation.csv\n",
      "sample_modifiers:\n",
      "  derive:\n",
      "    attributes: [file]\n",
      "    sources:\n",
      "      source1: \"data/{sample_name}.txt\""
     ]
    }
   ],
   "source": [
    "!cat project/project_config.yaml"
   ]
  },
  {
   "cell_type": "markdown",
   "id": "20a88a06-0617-48aa-995d-a9e9a02f1009",
   "metadata": {},
   "source": [
    "Looking at the samples, we can see an additional column vs the minimal example:"
   ]
  },
  {
   "cell_type": "code",
   "execution_count": 11,
   "id": "bfdb3117-515b-4fb5-80a3-88acd9cbee41",
   "metadata": {},
   "outputs": [
    {
     "name": "stdout",
     "output_type": "stream",
     "text": [
      "sample_name,library,file,toggle\n",
      "frog_1,anySampleType,source1,1\n",
      "frog_2,anySampleType,source1,1\n"
     ]
    }
   ],
   "source": [
    "!cat project/sample_annotation.csv"
   ]
  },
  {
   "cell_type": "markdown",
   "id": "27d87786-eff2-49c6-9122-a7106cd8dacb",
   "metadata": {},
   "source": [
    "By harnessing the PEP specification, Looper can extend the PEP during sample submission, adding flexibility to the project."
   ]
  },
  {
   "cell_type": "markdown",
   "id": "d715ca6e-7734-4f3f-8383-183945839c59",
   "metadata": {},
   "source": [
    "## More Advanced Examples"
   ]
  },
  {
   "cell_type": "code",
   "execution_count": 14,
   "id": "4ceae8a7-1835-4156-b8ce-5a08b8a3e0ed",
   "metadata": {},
   "outputs": [
    {
     "name": "stdout",
     "output_type": "stream",
     "text": [
      "/home/drc/GITHUB/pepspec/docs/looper/notebooks\n"
     ]
    }
   ],
   "source": [
    "cd .."
   ]
  },
  {
   "cell_type": "code",
   "execution_count": 16,
   "id": "23edd825-d8ba-40d1-9558-13493bc72853",
   "metadata": {},
   "outputs": [
    {
     "name": "stdout",
     "output_type": "stream",
     "text": [
      "/home/drc/GITHUB/pepspec/docs/looper/notebooks/hello_looper-dev/advanced\n"
     ]
    }
   ],
   "source": [
    "cd hello_looper-dev/advanced"
   ]
  },
  {
   "cell_type": "code",
   "execution_count": 18,
   "id": "7d3644e5-41c1-410c-8d8e-cb24fbfa0ef8",
   "metadata": {},
   "outputs": [
    {
     "name": "stdout",
     "output_type": "stream",
     "text": [
      "\u001b[01;34m.\u001b[0m\n",
      "├── .looper_advanced_pipestat.yaml\n",
      "├── .looper.yaml\n",
      "├── \u001b[01;34mpipeline\u001b[0m\n",
      "│   ├── col_pipeline1.py\n",
      "│   ├── col_pipeline2.py\n",
      "│   ├── other_pipeline2.py\n",
      "│   ├── output_schema.yaml\n",
      "│   ├── pipeline1.py\n",
      "│   ├── pipeline_interface1_project.yaml\n",
      "│   ├── pipeline_interface1_sample.yaml\n",
      "│   ├── pipeline_interface2_project.yaml\n",
      "│   ├── pipeline_interface2_sample.yaml\n",
      "│   ├── pipestat_output_schema.yaml\n",
      "│   ├── pipestat_pipeline_interface1_sample.yaml\n",
      "│   ├── pipestat_pipeline_interface2_sample.yaml\n",
      "│   ├── readData.R\n",
      "│   ├── resources-project.tsv\n",
      "│   └── resources-sample.tsv\n",
      "└── \u001b[01;34mproject\u001b[0m\n",
      "    ├── annotation_sheet.csv\n",
      "    └── project_config.yaml\n",
      "\n",
      "2 directories, 19 files\n"
     ]
    }
   ],
   "source": [
    "!tree -a"
   ]
  },
  {
   "cell_type": "markdown",
   "id": "fc24f7a5-090f-4bb1-979b-e8912d4e962b",
   "metadata": {},
   "source": [
    "Similarly, you can run one of the looper projects within. Let's take a look at the advanced example using pipestat, a results reporter that looper can use when submitting pipelines."
   ]
  },
  {
   "cell_type": "code",
   "execution_count": 19,
   "id": "e1e5ea18-060f-463c-ad08-1854a121b0ef",
   "metadata": {},
   "outputs": [
    {
     "name": "stdout",
     "output_type": "stream",
     "text": [
      "Looper version: 2.0.0a1\n",
      "Command: run\n",
      "Using default divvy config. You may specify in env var: ['DIVCFG']\n",
      "Initializing results file '/home/drc/GITHUB/pepspec/docs/looper/notebooks/hello_looper-dev/advanced/results/example_pipestat_pipeline/results.yaml'\n",
      "File does not exist, but create_file is true. Creating...\n",
      "\u001b[36m## [1 of 6] sample: sample1; pipeline: example_pipestat_pipeline\u001b[0m\n",
      "Calling pre-submit function: looper.write_sample_yaml\n",
      "Writing script to /home/drc/GITHUB/pepspec/docs/looper/notebooks/hello_looper-dev/advanced/results/submission/example_pipestat_pipeline_sample1.sub\n",
      "Job script (n=1; 0.00Gb): /home/drc/GITHUB/pepspec/docs/looper/notebooks/hello_looper-dev/advanced/results/submission/example_pipestat_pipeline_sample1.sub\n",
      "Compute node: databio\n",
      "Start time: 2024-07-08 19:32:28\n",
      "\u001b[36m## [2 of 6] sample: sample1; pipeline: example_pipestat_pipeline\u001b[0m\n",
      "Calling pre-submit function: looper.write_sample_yaml\n",
      "Writing script to /home/drc/GITHUB/pepspec/docs/looper/notebooks/hello_looper-dev/advanced/results/submission/example_pipestat_pipeline_sample1.sub\n",
      "Job script (n=1; 0.00Gb): /home/drc/GITHUB/pepspec/docs/looper/notebooks/hello_looper-dev/advanced/results/submission/example_pipestat_pipeline_sample1.sub\n",
      "Compute node: databio\n",
      "Start time: 2024-07-08 19:32:29\n",
      "\u001b[36m## [3 of 6] sample: sample2; pipeline: example_pipestat_pipeline\u001b[0m\n",
      "Calling pre-submit function: looper.write_sample_yaml\n",
      "Writing script to /home/drc/GITHUB/pepspec/docs/looper/notebooks/hello_looper-dev/advanced/results/submission/example_pipestat_pipeline_sample2.sub\n",
      "Job script (n=1; 0.00Gb): /home/drc/GITHUB/pepspec/docs/looper/notebooks/hello_looper-dev/advanced/results/submission/example_pipestat_pipeline_sample2.sub\n",
      "Compute node: databio\n",
      "Start time: 2024-07-08 19:32:31\n",
      "\u001b[36m## [4 of 6] sample: sample2; pipeline: example_pipestat_pipeline\u001b[0m\n",
      "Calling pre-submit function: looper.write_sample_yaml\n",
      "Writing script to /home/drc/GITHUB/pepspec/docs/looper/notebooks/hello_looper-dev/advanced/results/submission/example_pipestat_pipeline_sample2.sub\n",
      "Job script (n=1; 0.00Gb): /home/drc/GITHUB/pepspec/docs/looper/notebooks/hello_looper-dev/advanced/results/submission/example_pipestat_pipeline_sample2.sub\n",
      "Compute node: databio\n",
      "Start time: 2024-07-08 19:32:32\n",
      "\u001b[36m## [5 of 6] sample: sample3; pipeline: example_pipestat_pipeline\u001b[0m\n",
      "Calling pre-submit function: looper.write_sample_yaml\n",
      "Writing script to /home/drc/GITHUB/pepspec/docs/looper/notebooks/hello_looper-dev/advanced/results/submission/example_pipestat_pipeline_sample3.sub\n",
      "Job script (n=1; 0.00Gb): /home/drc/GITHUB/pepspec/docs/looper/notebooks/hello_looper-dev/advanced/results/submission/example_pipestat_pipeline_sample3.sub\n",
      "Compute node: databio\n",
      "Start time: 2024-07-08 19:32:32\n",
      "\u001b[36m## [6 of 6] sample: sample3; pipeline: example_pipestat_pipeline\u001b[0m\n",
      "Calling pre-submit function: looper.write_sample_yaml\n",
      "Writing script to /home/drc/GITHUB/pepspec/docs/looper/notebooks/hello_looper-dev/advanced/results/submission/example_pipestat_pipeline_sample3.sub\n",
      "Job script (n=1; 0.00Gb): /home/drc/GITHUB/pepspec/docs/looper/notebooks/hello_looper-dev/advanced/results/submission/example_pipestat_pipeline_sample3.sub\n",
      "Compute node: databio\n",
      "Start time: 2024-07-08 19:32:32\n",
      "\n",
      "Looper finished\n",
      "Samples valid for job generation: 3 of 3\n",
      "{'Pipestat compatible': True, 'Commands submitted': '6 of 6', 'Jobs submitted': 6}\n",
      "\u001b[0m"
     ]
    }
   ],
   "source": [
    "!looper run -c .looper_advanced_pipestat.yaml"
   ]
  },
  {
   "cell_type": "markdown",
   "id": "778d678d-107f-475b-8535-2ce96d3972b3",
   "metadata": {},
   "source": [
    "Let's take a look at that config file:"
   ]
  },
  {
   "cell_type": "code",
   "execution_count": 20,
   "id": "dc5212f8-e07d-4bcc-9db7-0c02f6a9d7f6",
   "metadata": {},
   "outputs": [
    {
     "name": "stdout",
     "output_type": "stream",
     "text": [
      "pep_config: project/project_config.yaml\n",
      "output_dir: \"results\"\n",
      "pipeline_interfaces:\n",
      "    - pipeline/pipestat_pipeline_interface1_sample.yaml\n",
      "    - pipeline/pipestat_pipeline_interface2_sample.yaml\n",
      "pipestat:\n",
      "  results_file_path: results.yaml\n",
      "  flag_file_dir: results/flags"
     ]
    }
   ],
   "source": [
    "!cat .looper_advanced_pipestat.yaml"
   ]
  },
  {
   "cell_type": "markdown",
   "id": "5ce76832-39fc-4de5-990e-c7fe6274baac",
   "metadata": {},
   "source": [
    "Notice a couple of key points here:\n",
    "\n",
    "This looper configuration file points to two pipeline interfaces.\n",
    "\n",
    "It also has a pipestat section that it uses for configuring pipestat.\n"
   ]
  },
  {
   "cell_type": "markdown",
   "id": "338322dc-2a06-4972-9c20-0113200b2408",
   "metadata": {},
   "source": [
    "Let's also look at the project config:"
   ]
  },
  {
   "cell_type": "code",
   "execution_count": 22,
   "id": "2c35f318-a34d-4752-8bbf-90fd38166cb1",
   "metadata": {},
   "outputs": [
    {
     "name": "stdout",
     "output_type": "stream",
     "text": [
      "name: looper_advanced_test\n",
      "pep_version: \"2.0.0\"\n",
      "sample_table: annotation_sheet.csv\n",
      "\n",
      "sample_modifiers:\n",
      "  append:\n",
      "    attr: \"val\"\n",
      "  derive:\n",
      "    attributes: [read1, read2]\n",
      "    sources:\n",
      "      SRA_1: \"{SRR}_1.fastq.gz\"\n",
      "      SRA_2: \"{SRR}_2.fastq.gz\"\n"
     ]
    }
   ],
   "source": [
    "!cat project/project_config.yaml"
   ]
  },
  {
   "cell_type": "markdown",
   "id": "55658fd9-dd0d-4747-8747-703cbf20eaea",
   "metadata": {},
   "source": [
    "Similar to the intermediate example, this advanced example leverages sample_modifiers to extend the project and derive sample attributes."
   ]
  },
  {
   "cell_type": "markdown",
   "id": "7033fffd-cd46-4088-ab4b-316cef1934a4",
   "metadata": {},
   "source": [
    "Finally, let's take a look at one of the pipeline interfaces"
   ]
  },
  {
   "cell_type": "code",
   "execution_count": 23,
   "id": "6796f53f-b930-4c84-8fc4-03750f815453",
   "metadata": {},
   "outputs": [
    {
     "name": "stdout",
     "output_type": "stream",
     "text": [
      "pipeline_name: example_pipestat_pipeline\n",
      "input_schema: https://schema.databio.org/pep/2.0.0.yaml\n",
      "output_schema: pipestat_output_schema.yaml\n",
      "var_templates:\n",
      "  path: \"{looper.piface_dir}/pipeline1.py\"\n",
      "pre_submit:\n",
      "    python_functions:\n",
      "      - looper.write_sample_yaml\n",
      "sample_interface:\n",
      "  command_template: >\n",
      "    python3 {pipeline.var_templates.path} --sample-name {sample.sample_name} --req-attr {sample.attr}\n",
      "\n",
      "\n"
     ]
    }
   ],
   "source": [
    "!cat pipeline/pipestat_pipeline_interface1_sample.yaml"
   ]
  },
  {
   "cell_type": "markdown",
   "id": "abbb88c8-e26e-425b-b1ab-234dc7bc0776",
   "metadata": {},
   "source": [
    "Some new items here include:\n",
    "output_schema -> used by pipestat to report results\n",
    "pre_submit functions -> a function to execute before looper submits samples\n",
    "\n",
    "We can also see that this is a sample-level pipeline because it contains `sample_interface`.\n"
   ]
  },
  {
   "cell_type": "markdown",
   "id": "90631969-9504-42c5-aa0a-cf470e3473e6",
   "metadata": {},
   "source": [
    "An example of a project-level pipeline"
   ]
  },
  {
   "cell_type": "code",
   "execution_count": 24,
   "id": "767934df-4d12-4e70-b0a1-df12b3595373",
   "metadata": {},
   "outputs": [
    {
     "name": "stdout",
     "output_type": "stream",
     "text": [
      "pipeline_name: PIPELINE1\n",
      "output_schema: output_schema.yaml\n",
      "var_templates:\n",
      "  path: \"{looper.piface_dir}/col_pipeline1.py\"\n",
      "project_interface:\n",
      "  command_template: >\n",
      "    python3 {pipeline.var_templates.path} --project-name {project.name}\n",
      "\n",
      "\n"
     ]
    }
   ],
   "source": [
    "!cat pipeline/pipeline_interface1_project.yaml"
   ]
  },
  {
   "cell_type": "code",
   "execution_count": null,
   "id": "52ac8e85-87bc-46e6-a8dd-a80e522ed0c5",
   "metadata": {},
   "outputs": [],
   "source": []
  }
 ],
 "metadata": {
  "kernelspec": {
   "display_name": "Python 3 (ipykernel)",
   "language": "python",
   "name": "python3"
  },
  "language_info": {
   "codemirror_mode": {
    "name": "ipython",
    "version": 3
   },
   "file_extension": ".py",
   "mimetype": "text/x-python",
   "name": "python",
   "nbconvert_exporter": "python",
   "pygments_lexer": "ipython3",
   "version": "3.10.12"
  }
 },
 "nbformat": 4,
 "nbformat_minor": 5
}
