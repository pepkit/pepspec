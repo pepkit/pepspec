{
 "cells": [
  {
   "cell_type": "markdown",
   "metadata": {},
   "source": [
    "# Hello World! example for looper\n",
    "\n",
    "This tutorial demonstrates how to install `looper` and use it to run a pipeline on a PEP project. \n",
    "\n",
    "## 1. Install the latest version of looper:\n",
    "\n",
    "```console\n",
    "pip install --user --upgrade looper\n",
    "```\n",
    "\n",
    "## 2. Download and unzip the hello_looper repository\n",
    "\n",
    "The [hello looper repository](http://github.com/pepkit/hello_looper) contains a basic functional example project (in `/project`) and a looper-compatible pipeline (in `/pipeline`) that can run on that project. Let's download and unzip it:\n"
   ]
  },
  {
   "cell_type": "code",
   "execution_count": 4,
   "metadata": {},
   "outputs": [
    {
     "name": "stdout",
     "output_type": "stream",
     "text": [
      "--2024-06-05 09:33:27--  https://github.com/pepkit/hello_looper/archive/refs/heads/master.zip\n",
      "Resolving github.com (github.com)... 140.82.112.3\n",
      "Connecting to github.com (github.com)|140.82.112.3|:443... connected.\n",
      "HTTP request sent, awaiting response... 302 Found\n",
      "Location: https://codeload.github.com/pepkit/hello_looper/zip/refs/heads/master [following]\n",
      "--2024-06-05 09:33:27--  https://codeload.github.com/pepkit/hello_looper/zip/refs/heads/master\n",
      "Resolving codeload.github.com (codeload.github.com)... 140.82.112.10\n",
      "Connecting to codeload.github.com (codeload.github.com)|140.82.112.10|:443... connected.\n",
      "HTTP request sent, awaiting response... 200 OK\n",
      "Length: unspecified [application/zip]\n",
      "Saving to: ‘master.zip’\n",
      "\n",
      "master.zip              [ <=>                ]  22.79K  --.-KB/s    in 0.003s  \n",
      "\n",
      "2024-06-05 09:33:28 (6.66 MB/s) - ‘master.zip’ saved [23340]\n",
      "\n"
     ]
    }
   ],
   "source": [
    "!wget https://github.com/pepkit/hello_looper/archive/refs/heads/master.zip"
   ]
  },
  {
   "cell_type": "code",
   "execution_count": 5,
   "metadata": {},
   "outputs": [
    {
     "name": "stdout",
     "output_type": "stream",
     "text": [
      "Archive:  master.zip\n",
      "95c790f9b17e66a24e3e579c0ebc05a955b5c1d0\n",
      "   creating: hello_looper-master/\n",
      "  inflating: hello_looper-master/.gitignore  \n",
      "  inflating: hello_looper-master/.looper.yaml  \n",
      "  inflating: hello_looper-master/README.md  \n",
      "   creating: hello_looper-master/advanced/\n",
      "  inflating: hello_looper-master/advanced/.looper.yaml  \n",
      "  inflating: hello_looper-master/advanced/.looper_advanced_pipestat.yaml  \n",
      "   creating: hello_looper-master/advanced/pipeline/\n",
      "  inflating: hello_looper-master/advanced/pipeline/output_schema.yaml  \n",
      "  inflating: hello_looper-master/advanced/pipeline/pipeline_interface1_project.yaml  \n",
      "  inflating: hello_looper-master/advanced/pipeline/pipeline_interface1_sample.yaml  \n",
      "  inflating: hello_looper-master/advanced/pipeline/pipeline_interface2_project.yaml  \n",
      "  inflating: hello_looper-master/advanced/pipeline/pipeline_interface2_sample.yaml  \n",
      "  inflating: hello_looper-master/advanced/pipeline/pipestat_output_schema.yaml  \n",
      "  inflating: hello_looper-master/advanced/pipeline/pipestat_pipeline_interface1_sample.yaml  \n",
      "  inflating: hello_looper-master/advanced/pipeline/pipestat_pipeline_interface2_sample.yaml  \n",
      "  inflating: hello_looper-master/advanced/pipeline/readData.R  \n",
      "  inflating: hello_looper-master/advanced/pipeline/resources-project.tsv  \n",
      "  inflating: hello_looper-master/advanced/pipeline/resources-sample.tsv  \n",
      "   creating: hello_looper-master/advanced/project/\n",
      "  inflating: hello_looper-master/advanced/project/annotation_sheet.csv  \n",
      "  inflating: hello_looper-master/advanced/project/project_config.yaml  \n",
      "   creating: hello_looper-master/csv/\n",
      "  inflating: hello_looper-master/csv/.looper.yaml  \n",
      "   creating: hello_looper-master/csv/data/\n",
      "  inflating: hello_looper-master/csv/data/frog1_data.txt  \n",
      "  inflating: hello_looper-master/csv/data/frog2_data.txt  \n",
      "   creating: hello_looper-master/csv/pipeline/\n",
      "  inflating: hello_looper-master/csv/pipeline/count_lines.sh  \n",
      "  inflating: hello_looper-master/csv/pipeline/pipeline_interface.yaml  \n",
      "  inflating: hello_looper-master/csv/pipeline/pipeline_interface_project.yaml  \n",
      "   creating: hello_looper-master/csv/project/\n",
      "  inflating: hello_looper-master/csv/project/sample_annotation.csv  \n",
      "   creating: hello_looper-master/intermediate/\n",
      "  inflating: hello_looper-master/intermediate/.looper.yaml  \n",
      "  inflating: hello_looper-master/intermediate/.looper_project.yaml  \n",
      "   creating: hello_looper-master/intermediate/data/\n",
      "  inflating: hello_looper-master/intermediate/data/frog_1.txt  \n",
      "  inflating: hello_looper-master/intermediate/data/frog_2.txt  \n",
      "   creating: hello_looper-master/intermediate/pipeline/\n",
      "  inflating: hello_looper-master/intermediate/pipeline/count_lines.sh  \n",
      "  inflating: hello_looper-master/intermediate/pipeline/pipeline_interface.yaml  \n",
      "  inflating: hello_looper-master/intermediate/pipeline/pipeline_interface_project.yaml  \n",
      "   creating: hello_looper-master/intermediate/project/\n",
      "  inflating: hello_looper-master/intermediate/project/project_config.yaml  \n",
      "  inflating: hello_looper-master/intermediate/project/sample_annotation.csv  \n",
      "   creating: hello_looper-master/minimal/\n",
      "  inflating: hello_looper-master/minimal/.looper.yaml  \n",
      "   creating: hello_looper-master/minimal/data/\n",
      "  inflating: hello_looper-master/minimal/data/frog_1.txt  \n",
      "  inflating: hello_looper-master/minimal/data/frog_2.txt  \n",
      "   creating: hello_looper-master/minimal/pipeline/\n",
      "  inflating: hello_looper-master/minimal/pipeline/count_lines.sh  \n",
      "  inflating: hello_looper-master/minimal/pipeline/pipeline_interface.yaml  \n",
      "   creating: hello_looper-master/minimal/project/\n",
      "  inflating: hello_looper-master/minimal/project/project_config.yaml  \n",
      "  inflating: hello_looper-master/minimal/project/sample_annotation.csv  \n",
      "   creating: hello_looper-master/pephub/\n",
      "  inflating: hello_looper-master/pephub/.looper.yaml  \n",
      "   creating: hello_looper-master/pephub/data/\n",
      "  inflating: hello_looper-master/pephub/data/frog1_data.txt  \n",
      "  inflating: hello_looper-master/pephub/data/frog2_data.txt  \n",
      "   creating: hello_looper-master/pephub/pipeline/\n",
      "  inflating: hello_looper-master/pephub/pipeline/count_lines.sh  \n",
      "  inflating: hello_looper-master/pephub/pipeline/pipeline_interface.yaml  \n",
      "  inflating: hello_looper-master/pephub/pipeline/pipeline_interface_project.yaml  \n",
      "   creating: hello_looper-master/pipestat/\n",
      "  inflating: hello_looper-master/pipestat/.looper.yaml  \n",
      "  inflating: hello_looper-master/pipestat/.looper_pipestat_shell.yaml  \n",
      "   creating: hello_looper-master/pipestat/data/\n",
      "  inflating: hello_looper-master/pipestat/data/frog_1.txt  \n",
      "  inflating: hello_looper-master/pipestat/data/frog_2.txt  \n",
      "   creating: hello_looper-master/pipestat/pipeline_pipestat/\n",
      "  inflating: hello_looper-master/pipestat/pipeline_pipestat/count_lines.py  \n",
      "  inflating: hello_looper-master/pipestat/pipeline_pipestat/count_lines_pipestat.sh  \n",
      "  inflating: hello_looper-master/pipestat/pipeline_pipestat/pipeline_interface.yaml  \n",
      "  inflating: hello_looper-master/pipestat/pipeline_pipestat/pipeline_interface_project.yaml  \n",
      "  inflating: hello_looper-master/pipestat/pipeline_pipestat/pipeline_interface_shell.yaml  \n",
      "  inflating: hello_looper-master/pipestat/pipeline_pipestat/pipestat_output_schema.yaml  \n",
      "   creating: hello_looper-master/pipestat/project/\n",
      "  inflating: hello_looper-master/pipestat/project/project_config.yaml  \n",
      "  inflating: hello_looper-master/pipestat/project/sample_annotation.csv  \n"
     ]
    }
   ],
   "source": [
    "!unzip master.zip"
   ]
  },
  {
   "cell_type": "markdown",
   "metadata": {},
   "source": [
    "## 3. Run it\n",
    "\n",
    "Run it by changing to the directory and then invoking `looper run` on the project configuration file."
   ]
  },
  {
   "cell_type": "code",
   "execution_count": 1,
   "metadata": {},
   "outputs": [
    {
     "name": "stdout",
     "output_type": "stream",
     "text": [
      "/home/drc/GITHUB/pepspec/docs/looper/notebooks/hello_looper-master/minimal\n"
     ]
    },
    {
     "name": "stderr",
     "output_type": "stream",
     "text": [
      "/home/drc/GITHUB/pepspec/.venv/lib/python3.10/site-packages/IPython/core/magics/osm.py:417: UserWarning: This is now an optional IPython functionality, setting dhist requires you to install the `pickleshare` library.\n",
      "  self.shell.db['dhist'] = compress_dhist(dhist)[-100:]\n"
     ]
    }
   ],
   "source": [
    "cd hello_looper-master/minimal"
   ]
  },
  {
   "cell_type": "code",
   "execution_count": 2,
   "metadata": {},
   "outputs": [
    {
     "name": "stdout",
     "output_type": "stream",
     "text": [
      "Looper version: 1.8.1a1\n",
      "Command: run\n",
      "Using default divvy config. You may specify in env var: ['DIVCFG']\n",
      "\u001b[36m## [1 of 2] sample: frog_1; pipeline: count_lines\u001b[0m\n",
      "Writing script to /home/drc/GITHUB/pepspec/docs/looper/notebooks/hello_looper-master/minimal/results/submission/count_lines_frog_1.sub\n",
      "Job script (n=1; 0.00Gb): /home/drc/GITHUB/pepspec/docs/looper/notebooks/hello_looper-master/minimal/results/submission/count_lines_frog_1.sub\n",
      "Compute node: databio\n",
      "Start time: 2024-06-05 09:37:34\n",
      "Number of lines: 4\n",
      "\u001b[36m## [2 of 2] sample: frog_2; pipeline: count_lines\u001b[0m\n",
      "Writing script to /home/drc/GITHUB/pepspec/docs/looper/notebooks/hello_looper-master/minimal/results/submission/count_lines_frog_2.sub\n",
      "Job script (n=1; 0.00Gb): /home/drc/GITHUB/pepspec/docs/looper/notebooks/hello_looper-master/minimal/results/submission/count_lines_frog_2.sub\n",
      "Compute node: databio\n",
      "Start time: 2024-06-05 09:37:34\n",
      "Number of lines: 7\n",
      "\n",
      "Looper finished\n",
      "Samples valid for job generation: 2 of 2\n",
      "{'Pipestat compatible': False, 'Commands submitted': '2 of 2', 'Jobs submitted': 2}\n",
      "\u001b[0m"
     ]
    }
   ],
   "source": [
    "!looper run --looper-config .looper.yaml"
   ]
  },
  {
   "cell_type": "markdown",
   "metadata": {},
   "source": [
    "Voila! You've run your very first pipeline across multiple samples using `looper`!"
   ]
  },
  {
   "cell_type": "markdown",
   "metadata": {},
   "source": [
    "# Exploring the results\n",
    "\n",
    "Now, let's inspect the `hello_looper` repository you downloaded. It has 3 components, each in a subfolder:"
   ]
  },
  {
   "cell_type": "code",
   "execution_count": 5,
   "metadata": {},
   "outputs": [
    {
     "name": "stdout",
     "output_type": "stream",
     "text": [
      "\u001b[01;34mdata\u001b[0m\n",
      "├── frog_1.txt\n",
      "└── frog_2.txt\n",
      "\u001b[01;34mpipeline\u001b[0m\n",
      "├── \u001b[01;32mcount_lines.sh\u001b[0m\n",
      "└── pipeline_interface.yaml\n",
      "\u001b[01;34mproject\u001b[0m\n",
      "├── project_config.yaml\n",
      "└── sample_annotation.csv\n",
      "\u001b[01;34mresults\u001b[0m\n",
      "└── \u001b[01;34msubmission\u001b[0m\n",
      "    ├── count_lines_frog_1.log\n",
      "    ├── count_lines_frog_1.sub\n",
      "    ├── count_lines_frog_2.log\n",
      "    └── count_lines_frog_2.sub\n",
      "\n",
      "1 directory, 4 files\n"
     ]
    }
   ],
   "source": [
    "!tree *"
   ]
  },
  {
   "cell_type": "markdown",
   "metadata": {},
   "source": [
    "These are:\n",
    "\n",
    " * `/data` -- contains 2 data files for 2 samples. These input files were each passed to the pipeline.\n",
    " * `/pipeline` -- contains the script we want to run on each sample in our project. Our pipeline is a very simple shell script named `count_lines.sh`, which (duh!) counts the number of lines in an input file.\n",
    " * `/project` -- contains 2 files that describe metadata for the project (`project_config.yaml`) and the samples (`sample_annotation.csv`). This particular project describes just two samples listed in the annotation file. These files together make up a [PEP](http://pep.databio.org)-formatted project, and can therefore be read by any PEP-compatible tool, including `looper`.\n",
    "\n"
   ]
  },
  {
   "cell_type": "markdown",
   "metadata": {},
   "source": [
    "\n",
    "When we invoke `looper` from the command line we told it to `run project/project_config.yaml`. `looper` reads the [project/project_config.yaml](https://github.com/pepkit/hello_looper/blob/master/project/project_config.yaml) file, which points to a few things:\n",
    "\n",
    " * the [project/sample_annotation.csv](https://github.com/pepkit/hello_looper/blob/master/project/sample_annotation.csv) file, which specifies a few samples, their type, and path to data file\n",
    " * the `output_dir`, which is where looper results are saved.\n",
    " * the `pipeline_interface.yaml` file, ([pipeline/pipeline_interface.yaml](https://github.com/pepkit/hello_looper/blob/master/pipeline/pipeline_interface.yaml)), which tells looper how to connect to the pipeline ([pipeline/count_lines.sh](https://github.com/pepkit/hello_looper/blob/master/pipeline/)).\n",
    "\n",
    "The 3 folders (`data`, `project`, and `pipeline`) are modular; there is no need for these to live in any predetermined folder structure. For this example, the data and pipeline are included locally, but in practice, they are usually in a separate folder; you can point to anything (so data, pipelines, and projects may reside in distinct spaces on disk). You may also include more than one pipeline interface in your `project_config.yaml`, so in a looper project, many-to-many relationships are possible."
   ]
  },
  {
   "cell_type": "markdown",
   "metadata": {},
   "source": [
    "## Looper config\n",
    "\n",
    "The [looper config](looper-config.md) contains paths to the project config, the output_dir as well as any defined pipeline interfaces. "
   ]
  },
  {
   "cell_type": "code",
   "execution_count": 6,
   "metadata": {},
   "outputs": [
    {
     "name": "stdout",
     "output_type": "stream",
     "text": [
      "pep_config: project/project_config.yaml # local path to pep config\n",
      "# pep_config: pepkit/hello_looper:default  # you can also use a pephub registry path\n",
      "output_dir: \"results\"\n",
      "pipeline_interfaces:\n",
      "  sample: pipeline/pipeline_interface.yaml\n"
     ]
    }
   ],
   "source": [
    "!cat .looper.yaml"
   ]
  },
  {
   "cell_type": "markdown",
   "metadata": {},
   "source": [
    "\n",
    "\n",
    "## Project Config\n",
    "\n",
    "The project config file contains the PEP version and sample annotation sheet. (see [defining a project](defining-a-project.md)).\n"
   ]
  },
  {
   "cell_type": "code",
   "execution_count": 8,
   "metadata": {},
   "outputs": [
    {
     "name": "stdout",
     "output_type": "stream",
     "text": [
      "pep_version: 2.0.0\n",
      "sample_table: sample_annotation.csv"
     ]
    }
   ],
   "source": [
    "!cat project/project_config.yaml"
   ]
  },
  {
   "cell_type": "markdown",
   "metadata": {},
   "source": [
    "## Pipeline Interface\n",
    "\n",
    "The [pipeline interface](pipeline-interface-specification.md) shows the pipeline_name, pipeline_type, as well as the var_templates and command_templates used for this pipeline.\n"
   ]
  },
  {
   "cell_type": "code",
   "execution_count": 9,
   "metadata": {},
   "outputs": [
    {
     "name": "stdout",
     "output_type": "stream",
     "text": [
      "pipeline_name: count_lines\n",
      "pipeline_type: sample\n",
      "var_templates:\n",
      "  pipeline: '{looper.piface_dir}/count_lines.sh'\n",
      "command_template: >\n",
      "  {pipeline.var_templates.pipeline} {sample.file}\n"
     ]
    }
   ],
   "source": [
    "!cat pipeline/pipeline_interface.yaml"
   ]
  },
  {
   "cell_type": "markdown",
   "metadata": {},
   "source": [
    "Alright, next let's explore what this pipeline stuck into our `output_dir`:\n"
   ]
  },
  {
   "cell_type": "code",
   "execution_count": 11,
   "metadata": {},
   "outputs": [
    {
     "name": "stdout",
     "output_type": "stream",
     "text": [
      "\u001b[01;34mresults/\u001b[0m\n",
      "└── \u001b[01;34msubmission\u001b[0m\n",
      "    ├── count_lines_frog_1.log\n",
      "    ├── count_lines_frog_1.sub\n",
      "    ├── count_lines_frog_2.log\n",
      "    └── count_lines_frog_2.sub\n",
      "\n",
      "1 directory, 4 files\n"
     ]
    }
   ],
   "source": [
    "!tree results/"
   ]
  },
  {
   "cell_type": "markdown",
   "metadata": {},
   "source": [
    "\n",
    "Inside of an `output_dir` there will be one to two directories:\n",
    "\n",
    "- `submissions` - which holds a YAML representation of each sample and a log file for each submitted job\n",
    "- `results_pipeline` - a directory with output of the pipeline(s) (if applicable), for each sample/pipeline combination (often one per sample). In this minimal example, the output was simply printed to terminal instead of producing files.\n",
    "\n",
    "From here to running hundreds of samples of various sample types is virtually the same effort!\n"
   ]
  },
  {
   "cell_type": "markdown",
   "metadata": {},
   "source": [
    "## Running PEPs from PEPHub\n",
    "\n",
    "Looper also supports running a PEP from [PEPHub](https://pephub.databio.org/)!"
   ]
  },
  {
   "cell_type": "code",
   "execution_count": 15,
   "metadata": {},
   "outputs": [
    {
     "name": "stdout",
     "output_type": "stream",
     "text": [
      "/home/drc/GITHUB/pepspec/docs/looper/notebooks/hello_looper-master\n"
     ]
    }
   ],
   "source": [
    "cd .."
   ]
  },
  {
   "cell_type": "code",
   "execution_count": 16,
   "metadata": {},
   "outputs": [
    {
     "name": "stdout",
     "output_type": "stream",
     "text": [
      "/home/drc/GITHUB/pepspec/docs/looper/notebooks/hello_looper-master/pephub\n"
     ]
    }
   ],
   "source": [
    "cd pephub"
   ]
  },
  {
   "cell_type": "code",
   "execution_count": 18,
   "metadata": {},
   "outputs": [
    {
     "name": "stdout",
     "output_type": "stream",
     "text": [
      "pep_config: pepkit/hello_looper:default # pephub registry path or local path\n",
      "output_dir: results\n",
      "pipeline_interfaces:\n",
      "  sample: pipeline/pipeline_interface.yaml\n"
     ]
    }
   ],
   "source": [
    "!cat .looper.yaml"
   ]
  },
  {
   "cell_type": "code",
   "execution_count": 19,
   "metadata": {},
   "outputs": [
    {
     "name": "stdout",
     "output_type": "stream",
     "text": [
      "Looper version: 1.8.1a1\n",
      "Command: run\n",
      "Using default divvy config. You may specify in env var: ['DIVCFG']\n",
      "No config key in Project, or reading project from dict\n",
      "\u001b[36m## [1 of 2] sample: frog_1; pipeline: count_lines\u001b[0m\n",
      "Writing script to /home/drc/GITHUB/pepspec/docs/looper/notebooks/hello_looper-master/pephub/results/submission/count_lines_frog_1.sub\n",
      "Job script (n=1; 0.00Gb): /home/drc/GITHUB/pepspec/docs/looper/notebooks/hello_looper-master/pephub/results/submission/count_lines_frog_1.sub\n",
      "Compute node: databio\n",
      "Start time: 2024-06-05 09:46:04\n",
      "Number of lines: 4\n",
      "\u001b[36m## [2 of 2] sample: frog_2; pipeline: count_lines\u001b[0m\n",
      "Writing script to /home/drc/GITHUB/pepspec/docs/looper/notebooks/hello_looper-master/pephub/results/submission/count_lines_frog_2.sub\n",
      "Job script (n=1; 0.00Gb): /home/drc/GITHUB/pepspec/docs/looper/notebooks/hello_looper-master/pephub/results/submission/count_lines_frog_2.sub\n",
      "Compute node: databio\n",
      "Start time: 2024-06-05 09:46:04\n",
      "Number of lines: 7\n",
      "\n",
      "Looper finished\n",
      "Samples valid for job generation: 2 of 2\n",
      "{'Pipestat compatible': False, 'Commands submitted': '2 of 2', 'Jobs submitted': 2}\n",
      "\u001b[0m"
     ]
    }
   ],
   "source": [
    "!looper run --looper-config .looper.yaml"
   ]
  },
  {
   "cell_type": "markdown",
   "metadata": {},
   "source": [
    "# Pipestat compatible configurations\n",
    "\n",
    "Looper can also be used in tandem with [pipestat](https://pipestat.databio.org/en/latest/) to report pipeline results."
   ]
  },
  {
   "cell_type": "code",
   "execution_count": 20,
   "metadata": {},
   "outputs": [
    {
     "name": "stdout",
     "output_type": "stream",
     "text": [
      "/home/drc/GITHUB/pepspec/docs/looper/notebooks/hello_looper-master\n"
     ]
    }
   ],
   "source": [
    "cd .."
   ]
  },
  {
   "cell_type": "code",
   "execution_count": 21,
   "metadata": {},
   "outputs": [
    {
     "name": "stdout",
     "output_type": "stream",
     "text": [
      "/home/drc/GITHUB/pepspec/docs/looper/notebooks/hello_looper-master/pipestat\n"
     ]
    }
   ],
   "source": [
    "cd pipestat"
   ]
  },
  {
   "cell_type": "code",
   "execution_count": 22,
   "metadata": {},
   "outputs": [
    {
     "name": "stdout",
     "output_type": "stream",
     "text": [
      "pep_config: ./project/project_config.yaml # pephub registry path or local path\n",
      "output_dir: ./results\n",
      "pipeline_interfaces:\n",
      "  sample:  ./pipeline_pipestat/pipeline_interface.yaml\n",
      "  project: ./pipeline_pipestat/pipeline_interface_project.yaml\n",
      "pipestat:\n",
      "  results_file_path: results.yaml\n",
      "  flag_file_dir: results/flags"
     ]
    }
   ],
   "source": [
    "!cat .looper.yaml"
   ]
  },
  {
   "cell_type": "markdown",
   "metadata": {},
   "source": [
    "\n",
    "## A few more basic looper options\n",
    "\n",
    "Looper also provides a few other simple arguments that let you adjust what it does. You can find a [complete reference of usage](usage.md) in the docs. Here are a few of the more common options:\n",
    "\n",
    "For `looper run`:\n",
    "\n",
    "- `-d`: Dry run mode (creates submission scripts, but does not execute them) \n",
    "- `--limit`: Only run a few samples \n",
    "- `--lumpn`: Run several commands together as a single job. This is useful when you have a quick pipeline to run on many samples and want to group them.\n",
    "\n",
    "There are also other commands:\n",
    "\n",
    "- `looper check`: checks on the status (running, failed, completed) of your jobs (requires pipestat)\n",
    "- `looper summarize`: produces an output file that summarizes your project results (requires pipestat)\n",
    "- `looper destroy`: completely erases all results so you can restart\n",
    "- `looper rerun`: rerun only jobs that have failed.\n"
   ]
  },
  {
   "cell_type": "markdown",
   "metadata": {},
   "source": [
    "## On your own\n",
    "\n",
    "To use `looper` on your own, you will need to prepare 2 things: a **project** (metadata that define *what* you want to process), and **pipelines** (*how* to process data). To link your project to `looper`, you will need to [define a project](defining-a-project.md). You will want to either use pre-made `looper`-compatible pipelines or link your own custom-built pipelines. These docs will also show you how to connect your pipeline to your project.\n"
   ]
  },
  {
   "cell_type": "code",
   "execution_count": null,
   "metadata": {},
   "outputs": [],
   "source": []
  }
 ],
 "metadata": {
  "kernelspec": {
   "display_name": "Python 3 (ipykernel)",
   "language": "python",
   "name": "python3"
  },
  "language_info": {
   "codemirror_mode": {
    "name": "ipython",
    "version": 3
   },
   "file_extension": ".py",
   "mimetype": "text/x-python",
   "name": "python",
   "nbconvert_exporter": "python",
   "pygments_lexer": "ipython3",
   "version": "3.10.12"
  }
 },
 "nbformat": 4,
 "nbformat_minor": 4
}
