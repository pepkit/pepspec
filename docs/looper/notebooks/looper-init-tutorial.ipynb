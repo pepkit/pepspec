{
 "cells": [
  {
   "cell_type": "markdown",
   "id": "ecd002ea-f38b-4445-aefd-8a001295d75b",
   "metadata": {},
   "source": [
    "# Initializing Looper\n",
    "\n",
    "Looper contains a built-in guided tutorial for initializing looper configuration files and a generic pipeline interface.\n"
   ]
  },
  {
   "cell_type": "markdown",
   "id": "573fdd16-c89e-4b28-b155-3c5b84d589d1",
   "metadata": {},
   "source": [
    "### Initialize looper config"
   ]
  },
  {
   "cell_type": "code",
   "execution_count": null,
   "id": "dba88d9b-f5d3-4781-8907-07a3356cb956",
   "metadata": {},
   "outputs": [],
   "source": [
    "!looper init"
   ]
  },
  {
   "cell_type": "markdown",
   "id": "3375eb2c-f68e-4180-b93e-65113a131619",
   "metadata": {},
   "source": [
    "Example output:\n",
    "\n",
    "```\n",
    "Looper initialization \n",
    "Would you like to follow a guided tutorial?  Y / n...\n",
    "\n",
    "Selection: n\n",
    "───────────────────────────────────────────────────────────────────────────────────────────────────────\n",
    "{\n",
    "│   'pep_config': 'example/pep/path',\n",
    "│   'output_dir': '.',\n",
    "│   'pipeline_interfaces': [\n",
    "│   │   'pipeline_interface1.yaml',\n",
    "│   │   'pipeline_interface2.yaml'\n",
    "│   ]\n",
    "}\n",
    "Initialized looper config file: /home/drc/PythonProjects/testing_perofrmance/testingperformance/.looper.yaml\n",
    "\n",
    "```\n"
   ]
  },
  {
   "cell_type": "markdown",
   "id": "c8fee57e-c81d-4184-b340-62f917461e3a",
   "metadata": {},
   "source": [
    "### Initialize Generic Pipeline Interface"
   ]
  },
  {
   "cell_type": "code",
   "execution_count": 8,
   "id": "a41ec4f5-c770-4e9d-9405-ab0ea21dfe53",
   "metadata": {},
   "outputs": [
    {
     "name": "stdout",
     "output_type": "stream",
     "text": [
      "\u001b[92m───────────────────────────── \u001b[0m \u001b[35mPipeline Interface\u001b[0m\u001b[92m ──────────────────────────────\u001b[0m\n",
      "\u001b[1m{\u001b[0m\n",
      "\u001b[2;32m│   \u001b[0m\u001b[32m'pipeline_name'\u001b[0m: \u001b[32m'default_pipeline_name'\u001b[0m,\n",
      "\u001b[2;32m│   \u001b[0m\u001b[32m'output_schema'\u001b[0m: \u001b[32m'output_schema.yaml'\u001b[0m,\n",
      "\u001b[2;32m│   \u001b[0m\u001b[32m'var_templates'\u001b[0m: \u001b[1m{\u001b[0m\n",
      "\u001b[2;32m│   │   \u001b[0m\u001b[32m'pipeline'\u001b[0m: \u001b[32m'\u001b[0m\u001b[32m{\u001b[0m\u001b[32mlooper.piface_dir\u001b[0m\u001b[32m}\u001b[0m\u001b[32m/count_lines.sh'\u001b[0m\n",
      "\u001b[2;32m│   \u001b[0m\u001b[1m}\u001b[0m,\n",
      "\u001b[2;32m│   \u001b[0m\u001b[32m'sample_interface'\u001b[0m: \u001b[1m{\u001b[0m\n",
      "\u001b[2;32m│   │   \u001b[0m\u001b[32m'command_template'\u001b[0m: \u001b[32m'\u001b[0m\u001b[32m{\u001b[0m\u001b[32mpipeline.var_templates.pipeline\u001b[0m\u001b[32m}\u001b[0m\u001b[32m \u001b[0m\u001b[32m{\u001b[0m\u001b[32msample.file\u001b[0m\u001b[32m}\u001b[0m\u001b[32m --output-parent \u001b[0m\u001b[32m{\u001b[0m\u001b[32mlooper.sample_output_folder\u001b[0m\u001b[32m}\u001b[0m\u001b[32m'\u001b[0m\n",
      "\u001b[2;32m│   \u001b[0m\u001b[1m}\u001b[0m\n",
      "\u001b[1m}\u001b[0m\n",
      "Pipeline interface successfully created at: \n",
      "\u001b[33m/home/drc/GITHUB/pepspec/docs/looper/notebooks/pipeline/\u001b[0m\u001b[33mpipeline_interface.yaml\u001b[0m\n",
      "\u001b[92m──────────────────────────────── \u001b[0m \u001b[35mOutput Schema\u001b[0m\u001b[92m ────────────────────────────────\u001b[0m\n",
      "\u001b[1m{\u001b[0m\n",
      "\u001b[2;32m│   \u001b[0m\u001b[32m'pipeline_name'\u001b[0m: \u001b[32m'default_pipeline_name'\u001b[0m,\n",
      "\u001b[2;32m│   \u001b[0m\u001b[32m'samples'\u001b[0m: \u001b[1m{\u001b[0m\n",
      "\u001b[2;32m│   │   \u001b[0m\u001b[32m'number_of_lines'\u001b[0m: \u001b[1m{\u001b[0m\n",
      "\u001b[2;32m│   │   │   \u001b[0m\u001b[32m'type'\u001b[0m: \u001b[32m'integer'\u001b[0m,\n",
      "\u001b[2;32m│   │   │   \u001b[0m\u001b[32m'description'\u001b[0m: \u001b[32m'Number of lines in the input file.'\u001b[0m\n",
      "\u001b[2;32m│   │   \u001b[0m\u001b[1m}\u001b[0m\n",
      "\u001b[2;32m│   \u001b[0m\u001b[1m}\u001b[0m\n",
      "\u001b[1m}\u001b[0m\n",
      "Output schema successfully created at: \n",
      "\u001b[33m/home/drc/GITHUB/pepspec/docs/looper/notebooks/pipeline/\u001b[0m\u001b[33moutput_schema.yaml\u001b[0m\n",
      "\u001b[92m──────────────────────── \u001b[0m \u001b[35mExample Pipeline Shell Script\u001b[0m\u001b[92m ────────────────────────\u001b[0m\n",
      "#!\u001b[35m/bin/\u001b[0m\u001b[95mbash\u001b[0m\n",
      "\u001b[33mlinecount\u001b[0m=`wc -l $\u001b[1;36m1\u001b[0m | sed -E \u001b[32m's/^\u001b[0m\u001b[32m[\u001b[0m\u001b[32m[\u001b[0m\u001b[32m:space:\u001b[0m\u001b[32m]\u001b[0m\u001b[32m]\u001b[0m\u001b[32m+//'\u001b[0m | cut -f1 -d' '`\n",
      "pipestat report -r $\u001b[1;36m2\u001b[0m -i \u001b[32m'number_of_lines'\u001b[0m -v $linecount -c $\u001b[1;36m3\u001b[0m\n",
      "echo \u001b[32m\"Number of lines: $linecount\"\u001b[0m\n",
      "    \n",
      "count_lines.sh successfully created at: \n",
      "\u001b[33m/home/drc/GITHUB/pepspec/docs/looper/notebooks/pipeline/\u001b[0m\u001b[33mcount_lines.sh\u001b[0m\n",
      "\u001b[0m"
     ]
    }
   ],
   "source": [
    "!looper init_piface"
   ]
  },
  {
   "cell_type": "code",
   "execution_count": null,
   "id": "82ae37e7-fc87-4373-bb9f-d18fab8244a5",
   "metadata": {},
   "outputs": [],
   "source": []
  }
 ],
 "metadata": {
  "kernelspec": {
   "display_name": "Python 3 (ipykernel)",
   "language": "python",
   "name": "python3"
  },
  "language_info": {
   "codemirror_mode": {
    "name": "ipython",
    "version": 3
   },
   "file_extension": ".py",
   "mimetype": "text/x-python",
   "name": "python",
   "nbconvert_exporter": "python",
   "pygments_lexer": "ipython3",
   "version": "3.10.12"
  }
 },
 "nbformat": 4,
 "nbformat_minor": 5
}
