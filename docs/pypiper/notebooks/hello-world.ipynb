{
 "cells": [
  {
   "cell_type": "markdown",
   "metadata": {},
   "source": [
    "# Hello world\n",
    "\n",
    "This brief tutorial will run your first basic pypiper pipeline to ensure you have everything set up correctly. \n",
    "\n",
    "Just run these 3 lines of code and you're running your first pypiper pipeline!\n",
    "\n",
    "### Install the latest version of pypiper\n",
    "\n",
    "```{console}\n",
    "pip install --user piper\n",
    "```\n",
    "\n",
    "\n",
    "### Download hello_pypiper.py\n",
    "```{console}\n",
    "wget https://raw.githubusercontent.com/databio/pypiper/master/example_pipelines/hello_pypiper.py\n",
    "```\n",
    "\n",
    "This is a basic pipeline. Here are the contents:"
   ]
  },
  {
   "cell_type": "code",
   "execution_count": 4,
   "metadata": {},
   "outputs": [
    {
     "name": "stdout",
     "output_type": "stream",
     "text": [
      "#!/usr/bin/env python\n",
      "\n",
      "import pypiper\n",
      "outfolder = \"hello_pypiper_results\" # Choose a folder for your results\n",
      "\n",
      "# Create a PipelineManager, the workhorse of pypiper\n",
      "pm = pypiper.PipelineManager(name=\"hello_pypiper\", outfolder=outfolder)\n",
      "\n",
      "# Timestamps to delineate pipeline sections are easy:\n",
      "pm.timestamp(\"Hello!\")\n",
      "\n",
      "# Now build a command-line command however you like, and pass it to pm.run()\n",
      "target_file = \"hello_pypiper_results/output.txt\"\n",
      "cmd = \"echo 'Hello, Pypiper!' > \" + target_file\n",
      "pm.run(cmd, target_file)\n",
      "\n",
      "pm.stop_pipeline()\n"
     ]
    }
   ],
   "source": [
    "cat ../example_pipelines/hello_pypiper.py"
   ]
  },
  {
   "cell_type": "markdown",
   "metadata": {},
   "source": [
    "### Run it!"
   ]
  },
  {
   "cell_type": "code",
   "execution_count": 2,
   "metadata": {},
   "outputs": [
    {
     "name": "stdout",
     "output_type": "stream",
     "text": [
      "### [Pipeline run code and environment:]\n",
      "\n",
      "*              Command:  `../example_pipelines/hello_pypiper.py`\n",
      "*         Compute host:  nox\n",
      "*          Working dir:  /home/sheffien/code/pypiper/docs_jupyter\n",
      "*            Outfolder:  hello_pypiper_results/\n",
      "*  Pipeline started at:   (03-16 23:47:37) elapsed: 0.0 _TIME_\n",
      "\n",
      "### [Version log:]\n",
      "\n",
      "*       Python version:  3.6.7\n",
      "*          Pypiper dir:  `/home/sheffien/.local/lib/python3.6/site-packages/pypiper`\n",
      "*      Pypiper version:  0.9.5dev\n",
      "*         Pipeline dir:  `/home/sheffien/code/pypiper/example_pipelines`\n",
      "*     Pipeline version:  None\n",
      "*        Pipeline hash:  b'134e8c8f723da66697ab4f5b204315979b4e1042\\n'\n",
      "*      Pipeline branch:  b'* dev\\n'\n",
      "*        Pipeline date:  b'2019-03-16 11:41:56 -0400\\n'\n",
      "*        Pipeline diff:  b' 1 file changed, 16 insertions(+), 1 deletion(-)\\n'\n",
      "\n",
      "### [Arguments passed to pipeline:]\n",
      "\n",
      "\n",
      "----------------------------------------\n",
      "\n",
      "\n",
      "Changed status from initializing to running.\n",
      "No config file\n",
      "Hello! (03-16 23:47:37) elapsed: 0.0 _TIME_\n",
      "\n",
      "Target to produce: `hello_pypiper_results/output.txt`\n",
      "\n",
      "\n",
      "> `echo 'Hello, Pypiper!' > hello_pypiper_results/output.txt`\n",
      "\n",
      "<pre>\n",
      "</pre>\n",
      "Process 128 returned: (0). Elapsed: 0:00:00. Peak memory: (Process: None; Pipeline: 0GB)\n",
      "\n",
      "Changed status from running to completed.\n",
      "\n",
      "> `Time`\t0:00:00\thello_pypiper\t_RES_\n",
      "\n",
      "> `Success`\t03-16-23:47:37\thello_pypiper\t_RES_\n",
      "\n",
      "##### [Epilogue:]\n",
      "*   Total elapsed time:  0:00:00\n",
      "*     Peak memory used:  0 GB\n",
      "* Pipeline completed at:  (03-16 23:47:37) elapsed: 0.0 _TIME_\n",
      "\n",
      "Pypiper terminating spawned child process 114...(tee)\n"
     ]
    }
   ],
   "source": [
    "python3 ../example_pipelines/hello_pypiper.py"
   ]
  },
  {
   "cell_type": "markdown",
   "metadata": {},
   "source": [
    "This output is printed to your screen and also recorded in a log file (called ``hello_pypiper_log.md``). There are a few other outputs from the pipeline as well. All results are placed in a folder called ``hello_pypiper_results``. Navigate to that folder to observe the output of the pipeline, which will include these files:\n",
    "\n",
    " * hello_pypiper_commands.sh\n",
    " * hello_pypiper_completed.flag\n",
    " * hello_pypiper_log.md\n",
    " * hello_pypiper_profile.tsv\n",
    " * output.txt\n",
    " * stats.tsv\n",
    "\n",
    "These files are explained in more detail in the reference section [outputs explained](outputs). \n",
    "\n",
    "What's next? That depends on if you're interested in just *running* pypiper pipelines, or if you want to *develop* pypiper pipelines. The next sections are a series of HOW-TO articles that address each of these scenarios.\n"
   ]
  }
 ],
 "metadata": {
  "kernelspec": {
   "display_name": "Bash",
   "language": "bash",
   "name": "bash"
  },
  "language_info": {
   "codemirror_mode": "shell",
   "file_extension": ".sh",
   "mimetype": "text/x-sh",
   "name": "bash"
  }
 },
 "nbformat": 4,
 "nbformat_minor": 2
}
