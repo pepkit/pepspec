{
 "cells": [
  {
   "cell_type": "markdown",
   "metadata": {},
   "source": [
    "# Learn derived attributes in `peppy`\n",
    "\n",
    "This vignette will show you how and why to use the derived attributes functionality of the `peppy` package. \n",
    "\n",
    " - basic information about the PEP concept on the [project website](https://pepkit.github.io/).\n",
    " \n",
    " - broader theoretical description in the derived attributes [documentation section](http://pep.databio.org/en/2.0.0/specification/#sample_modifiersderive).\n",
    "\n",
    "## Problem/Goal\n",
    "The example below demonstrates how to use the derived attributes to **flexibly define the samples attributes the `file_path` column** of the `sample_table.csv` file to match the file names in  your project. Please consider the example below for reference:"
   ]
  },
  {
   "cell_type": "code",
   "execution_count": 1,
   "metadata": {},
   "outputs": [
    {
     "name": "stdout",
     "output_type": "stream",
     "text": [
      "sample_name  protocol  organism  time  file_path\r\n",
      "pig_0h       RRBS      pig       0     data/lab/project/pig_0h.fastq\r\n",
      "pig_1h       RRBS      pig       1     data/lab/project/pig_1h.fastq\r\n",
      "frog_0h      RRBS      frog      0     data/lab/project/frog_0h.fastq\r\n",
      "frog_1h      RRBS      frog      1     data/lab/project/frog_1h.fastq\r\n"
     ]
    }
   ],
   "source": [
    "examples_dir = \"../tests/data/example_peps-cfg2/example_derive/\"\n",
    "sample_table_pre = examples_dir + \"sample_table_pre.csv\"\n",
    "%cat $sample_table_pre | column -t -s, | cat"
   ]
  },
  {
   "cell_type": "markdown",
   "metadata": {},
   "source": [
    "## Solution\n",
    "As the name suggests the attributes in the specified attributes (here: `file_path`) can be derived from other ones. The way how this process is carried out is indicated explicitly in the `project_config.yaml` file (presented below). The name of the column is determined in the `sample_modifiers.derive.attributes` key-value pair, whereas the pattern for the attributes construction - in the `sample_modifiers.derive.sources` one. Note that the second level key (here: `source`) has to exactly match the attributes in the `file_path` column of the modified `sample_annotation.csv` (presented below)."
   ]
  },
  {
   "cell_type": "code",
   "execution_count": 2,
   "metadata": {},
   "outputs": [
    {
     "name": "stdout",
     "output_type": "stream",
     "text": [
      "pep_version: \"2.0.0\"\r\n",
      "sample_table: sample_table.csv\r\n",
      "output_dir: \"$HOME/hello_looper_results\"\r\n",
      "sample_modifiers:\r\n",
      "  derive:\r\n",
      "    attributes: [file_path]\r\n",
      "    sources:\r\n",
      "      source1: $HOME/data/lab/project/{organism}_{time}h.fastq\r\n",
      "      source2: /path/from/collaborator/weirdNamingScheme_{external_id}.fastq\r\n"
     ]
    }
   ],
   "source": [
    "project_config = examples_dir + \"project_config.yaml\"\n",
    "%cat $project_config | column -t -s, | cat"
   ]
  },
  {
   "cell_type": "markdown",
   "metadata": {},
   "source": [
    "Let's introduce a few modifications to the original `sample_annotation.csv` file to map the appropriate data sources from the `project_config.yaml` with attributes in the derived column - `[file_path]`:"
   ]
  },
  {
   "cell_type": "code",
   "execution_count": 3,
   "metadata": {},
   "outputs": [
    {
     "name": "stdout",
     "output_type": "stream",
     "text": [
      "sample_name  protocol  organism  time  file_path\r",
      "\r\n",
      "pig_0h       RRBS      pig       0     source1\r",
      "\r\n",
      "pig_1h       RRBS      pig       1     source1\r",
      "\r\n",
      "frog_0h      RRBS      frog      0     source1\r",
      "\r\n",
      "frog_1h      RRBS      frog      1     source1\r\n"
     ]
    }
   ],
   "source": [
    "examples_dir = \"../tests/data/example_peps-cfg2/example_derive/\"\n",
    "sample_table = examples_dir + \"sample_table.csv\"\n",
    "%cat $sample_table | column -t -s, | cat"
   ]
  },
  {
   "cell_type": "markdown",
   "metadata": {},
   "source": [
    "## Code\n",
    "Import `peppy` and read in the project metadata by specifying the path to the `project_config.yaml`:"
   ]
  },
  {
   "cell_type": "code",
   "execution_count": 4,
   "metadata": {},
   "outputs": [
    {
     "data": {
      "text/html": [
       "<div>\n",
       "<style scoped>\n",
       "    .dataframe tbody tr th:only-of-type {\n",
       "        vertical-align: middle;\n",
       "    }\n",
       "\n",
       "    .dataframe tbody tr th {\n",
       "        vertical-align: top;\n",
       "    }\n",
       "\n",
       "    .dataframe thead th {\n",
       "        text-align: right;\n",
       "    }\n",
       "</style>\n",
       "<table border=\"1\" class=\"dataframe\">\n",
       "  <thead>\n",
       "    <tr style=\"text-align: right;\">\n",
       "      <th></th>\n",
       "      <th>file_path</th>\n",
       "      <th>organism</th>\n",
       "      <th>protocol</th>\n",
       "      <th>sample_name</th>\n",
       "      <th>time</th>\n",
       "    </tr>\n",
       "    <tr>\n",
       "      <th>sample_name</th>\n",
       "      <th></th>\n",
       "      <th></th>\n",
       "      <th></th>\n",
       "      <th></th>\n",
       "      <th></th>\n",
       "    </tr>\n",
       "  </thead>\n",
       "  <tbody>\n",
       "    <tr>\n",
       "      <th>pig_0h</th>\n",
       "      <td>/Users/mstolarczyk/data/lab/project/pig_0h.fastq</td>\n",
       "      <td>pig</td>\n",
       "      <td>RRBS</td>\n",
       "      <td>pig_0h</td>\n",
       "      <td>0</td>\n",
       "    </tr>\n",
       "    <tr>\n",
       "      <th>pig_1h</th>\n",
       "      <td>/Users/mstolarczyk/data/lab/project/pig_1h.fastq</td>\n",
       "      <td>pig</td>\n",
       "      <td>RRBS</td>\n",
       "      <td>pig_1h</td>\n",
       "      <td>1</td>\n",
       "    </tr>\n",
       "    <tr>\n",
       "      <th>frog_0h</th>\n",
       "      <td>/Users/mstolarczyk/data/lab/project/frog_0h.fastq</td>\n",
       "      <td>frog</td>\n",
       "      <td>RRBS</td>\n",
       "      <td>frog_0h</td>\n",
       "      <td>0</td>\n",
       "    </tr>\n",
       "    <tr>\n",
       "      <th>frog_1h</th>\n",
       "      <td>/Users/mstolarczyk/data/lab/project/frog_1h.fastq</td>\n",
       "      <td>frog</td>\n",
       "      <td>RRBS</td>\n",
       "      <td>frog_1h</td>\n",
       "      <td>1</td>\n",
       "    </tr>\n",
       "  </tbody>\n",
       "</table>\n",
       "</div>"
      ],
      "text/plain": [
       "                                                     file_path organism  \\\n",
       "sample_name                                                               \n",
       "pig_0h        /Users/mstolarczyk/data/lab/project/pig_0h.fastq      pig   \n",
       "pig_1h        /Users/mstolarczyk/data/lab/project/pig_1h.fastq      pig   \n",
       "frog_0h      /Users/mstolarczyk/data/lab/project/frog_0h.fastq     frog   \n",
       "frog_1h      /Users/mstolarczyk/data/lab/project/frog_1h.fastq     frog   \n",
       "\n",
       "            protocol sample_name time  \n",
       "sample_name                            \n",
       "pig_0h          RRBS      pig_0h    0  \n",
       "pig_1h          RRBS      pig_1h    1  \n",
       "frog_0h         RRBS     frog_0h    0  \n",
       "frog_1h         RRBS     frog_1h    1  "
      ]
     },
     "execution_count": 4,
     "metadata": {},
     "output_type": "execute_result"
    }
   ],
   "source": [
    "from peppy import Project\n",
    "p = Project(project_config)\n",
    "p.sample_table"
   ]
  },
  {
   "cell_type": "markdown",
   "metadata": {},
   "source": [
    "As you can see, the resulting samples are annotated the same way as if they were read from the original, unwieldy, annotations file."
   ]
  }
 ],
 "metadata": {
  "kernelspec": {
   "display_name": "Python 3",
   "language": "python",
   "name": "python3"
  },
  "language_info": {
   "codemirror_mode": {
    "name": "ipython",
    "version": 3
   },
   "file_extension": ".py",
   "mimetype": "text/x-python",
   "name": "python",
   "nbconvert_exporter": "python",
   "pygments_lexer": "ipython3",
   "version": "3.6.5"
  }
 },
 "nbformat": 4,
 "nbformat_minor": 2
}
