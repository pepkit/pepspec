{
 "cells": [
  {
   "cell_type": "markdown",
   "metadata": {},
   "source": [
    "# Learn amendments in `peppy`\n",
    "\n",
    "This vignette will show you how and why to use the amendments functionality of the `peppy` package. \n",
    "\n",
    " - basic information about the PEP concept on the [project website](http://pep.databio.org/en/2.0.0/).\n",
    "\n",
    " - broader theoretical description in the amendments [documentation section](http://pep.databio.org/en/2.0.0/specification/#project-attribute-amendments).\n",
    "\n",
    "\n",
    "## Problem/Goal\n",
    "\n",
    "The example below demonstrates how and why to use amendments project attribute to, e.g. **define numerous similar projects in a single project config file**. This functionality is extremely convenient when one has to define projects with small settings discreptancies, like different attributes in the annotation sheet. For example libraries `ABCD` and `EFGH` instead of the original `RRBS`."
   ]
  },
  {
   "cell_type": "code",
   "execution_count": 11,
   "metadata": {},
   "outputs": [
    {
     "name": "stdout",
     "output_type": "stream",
     "text": [
      "sample_name  protocol  organism  time  file_path\r",
      "\r\n",
      "pig_0h       RRBS      pig       0     source1\r",
      "\r\n",
      "pig_1h       RRBS      pig       1     source1\r",
      "\r\n",
      "frog_0h      RRBS      frog      0     source1\r",
      "\r\n",
      "frog_1h      RRBS      frog      1     source1\r\n"
     ]
    }
   ],
   "source": [
    "examples_dir = \"../tests/data/example_peps-cfg2/example_amendments1/\"\n",
    "sample_table = examples_dir + \"sample_table.csv\"\n",
    "%cat $sample_table | column -t -s, | cat"
   ]
  },
  {
   "cell_type": "markdown",
   "metadata": {},
   "source": [
    "## Solution\n",
    "\n",
    "This can be achieved by using amendments section of `project_config.yaml` file (presented below). The attributes specified in the lowest levels of this section (here: `sample_table`) overwrite the original ones. Consequently, a completely new set of settings is determined with just this value changed. Moreover, multiple amendments can be defined in a single config file *and* activated at the same time. Based on the file presented below, two subprojects will be defined: `newLib` and `newLib2`."
   ]
  },
  {
   "cell_type": "code",
   "execution_count": 2,
   "metadata": {},
   "outputs": [
    {
     "name": "stdout",
     "output_type": "stream",
     "text": [
      "pep_version: \"2.0.0\"\r\n",
      "sample_table: sample_table.csv\r\n",
      "output_dir: $HOME/hello_looper_results\r\n",
      "\r\n",
      "sample_modifiers:\r\n",
      "  derive:\r\n",
      "    attributes: [file_path]\r\n",
      "    sources:\r\n",
      "      source1: /data/lab/project/{organism}_{time}h.fastq\r\n",
      "      source2: /path/from/collaborator/weirdNamingScheme_{external_id}.fastq\r\n",
      "project_modifiers:\r\n",
      "  amend:\r\n",
      "    newLib:\r\n",
      "      sample_table: sample_table_newLib.csv\r\n",
      "    newLib2:\r\n",
      "      sample_table: sample_table_newLib2.csv\r\n"
     ]
    }
   ],
   "source": [
    "project_config_file = examples_dir + \"project_config.yaml\"\n",
    "%cat $project_config_file"
   ]
  },
  {
   "cell_type": "markdown",
   "metadata": {},
   "source": [
    "Obviously, the amendments functionality can be combined with other `peppy` package options, e.g. imply and derive sample modifiers. The derive modifier is used in the example considered here (`derive` key in the `sample_modifiers` section of the config file).\n",
    "\n",
    "\n",
    "Files `sample_table_newLib.csv` and `sample_table_newLib2.csv` introduce different the `library` attributes. They are used in the subprojects `newLib` and `newLib2`, respectively"
   ]
  },
  {
   "cell_type": "code",
   "execution_count": 3,
   "metadata": {},
   "outputs": [
    {
     "name": "stdout",
     "output_type": "stream",
     "text": [
      "sample_name  protocol  organism  time  file_path\r\n",
      "pig_0h       ABCD      pig       0     source1\r\n",
      "pig_1h       ABCD      pig       1     source1\r\n",
      "frog_0h      ABCD      frog      0     source1\r\n",
      "frog_1h      ABCD      frog      1     source1\r\n"
     ]
    }
   ],
   "source": [
    "sample_table = examples_dir + \"sample_table_newLib.csv\"\n",
    "%cat $sample_table | column -t -s, | cat"
   ]
  },
  {
   "cell_type": "code",
   "execution_count": 4,
   "metadata": {},
   "outputs": [
    {
     "name": "stdout",
     "output_type": "stream",
     "text": [
      "sample_name  protocol  organism  time  file_path\r\n",
      "pig_0h       EFGH      pig       0     source1\r\n",
      "pig_1h       EFGH      pig       1     source1\r\n",
      "frog_0h      EFGH      frog      0     source1\r\n",
      "frog_1h      EFGH      frog      1     source1\r\n"
     ]
    }
   ],
   "source": [
    "sample_table = examples_dir + \"sample_table_newLib2.csv\"\n",
    "%cat $sample_table | column -t -s, | cat"
   ]
  },
  {
   "cell_type": "markdown",
   "metadata": {},
   "source": [
    "## Code\n",
    "\n",
    "Import `peppy` and read in the project metadata by specifying the path to the `project_config.yaml`"
   ]
  },
  {
   "cell_type": "code",
   "execution_count": 5,
   "metadata": {},
   "outputs": [],
   "source": [
    "from peppy import Project\n",
    "p = Project(project_config_file)"
   ]
  },
  {
   "cell_type": "markdown",
   "metadata": {},
   "source": [
    "An appropriate message is displayed, which informs you what are the names of the amendments that you have defined in the `project_config.yaml` file. Nontheless, just the main project is \"active\".\n",
    "\n",
    "Let's inspect it:"
   ]
  },
  {
   "cell_type": "code",
   "execution_count": 6,
   "metadata": {},
   "outputs": [
    {
     "data": {
      "text/html": [
       "<div>\n",
       "<style scoped>\n",
       "    .dataframe tbody tr th:only-of-type {\n",
       "        vertical-align: middle;\n",
       "    }\n",
       "\n",
       "    .dataframe tbody tr th {\n",
       "        vertical-align: top;\n",
       "    }\n",
       "\n",
       "    .dataframe thead th {\n",
       "        text-align: right;\n",
       "    }\n",
       "</style>\n",
       "<table border=\"1\" class=\"dataframe\">\n",
       "  <thead>\n",
       "    <tr style=\"text-align: right;\">\n",
       "      <th></th>\n",
       "      <th>file_path</th>\n",
       "      <th>organism</th>\n",
       "      <th>protocol</th>\n",
       "      <th>sample_name</th>\n",
       "      <th>time</th>\n",
       "    </tr>\n",
       "    <tr>\n",
       "      <th>sample_name</th>\n",
       "      <th></th>\n",
       "      <th></th>\n",
       "      <th></th>\n",
       "      <th></th>\n",
       "      <th></th>\n",
       "    </tr>\n",
       "  </thead>\n",
       "  <tbody>\n",
       "    <tr>\n",
       "      <th>pig_0h</th>\n",
       "      <td>/data/lab/project/pig_0h.fastq</td>\n",
       "      <td>pig</td>\n",
       "      <td>RRBS</td>\n",
       "      <td>pig_0h</td>\n",
       "      <td>0</td>\n",
       "    </tr>\n",
       "    <tr>\n",
       "      <th>pig_1h</th>\n",
       "      <td>/data/lab/project/pig_1h.fastq</td>\n",
       "      <td>pig</td>\n",
       "      <td>RRBS</td>\n",
       "      <td>pig_1h</td>\n",
       "      <td>1</td>\n",
       "    </tr>\n",
       "    <tr>\n",
       "      <th>frog_0h</th>\n",
       "      <td>/data/lab/project/frog_0h.fastq</td>\n",
       "      <td>frog</td>\n",
       "      <td>RRBS</td>\n",
       "      <td>frog_0h</td>\n",
       "      <td>0</td>\n",
       "    </tr>\n",
       "    <tr>\n",
       "      <th>frog_1h</th>\n",
       "      <td>/data/lab/project/frog_1h.fastq</td>\n",
       "      <td>frog</td>\n",
       "      <td>RRBS</td>\n",
       "      <td>frog_1h</td>\n",
       "      <td>1</td>\n",
       "    </tr>\n",
       "  </tbody>\n",
       "</table>\n",
       "</div>"
      ],
      "text/plain": [
       "                                   file_path organism protocol sample_name  \\\n",
       "sample_name                                                                  \n",
       "pig_0h        /data/lab/project/pig_0h.fastq      pig     RRBS      pig_0h   \n",
       "pig_1h        /data/lab/project/pig_1h.fastq      pig     RRBS      pig_1h   \n",
       "frog_0h      /data/lab/project/frog_0h.fastq     frog     RRBS     frog_0h   \n",
       "frog_1h      /data/lab/project/frog_1h.fastq     frog     RRBS     frog_1h   \n",
       "\n",
       "            time  \n",
       "sample_name       \n",
       "pig_0h         0  \n",
       "pig_1h         1  \n",
       "frog_0h        0  \n",
       "frog_1h        1  "
      ]
     },
     "execution_count": 6,
     "metadata": {},
     "output_type": "execute_result"
    }
   ],
   "source": [
    "p.sample_table"
   ]
  },
  {
   "cell_type": "markdown",
   "metadata": {},
   "source": [
    "The column `file_path` was derived and the `library` column holds the original attributes: `RRBS` for each sample.\n",
    "\n",
    "To \"activate\" any of the amendments just pass the names of the desired amendments to the `amendments` argument in the `Project` object constructor. \n",
    "\n",
    "In case you don't remember the subproject names run the `listAmendments()` metohods on the `Project` object, just like that:"
   ]
  },
  {
   "cell_type": "code",
   "execution_count": 7,
   "metadata": {},
   "outputs": [
    {
     "data": {
      "text/plain": [
       "['newLib', 'newLib2']"
      ]
     },
     "execution_count": 7,
     "metadata": {},
     "output_type": "execute_result"
    }
   ],
   "source": [
    "p.list_amendments"
   ]
  },
  {
   "cell_type": "code",
   "execution_count": 8,
   "metadata": {},
   "outputs": [],
   "source": [
    "p_new_lib = Project(project_config_file, amendments = \"newLib\")"
   ]
  },
  {
   "cell_type": "markdown",
   "metadata": {},
   "source": [
    "Let's inspect it:"
   ]
  },
  {
   "cell_type": "code",
   "execution_count": 9,
   "metadata": {},
   "outputs": [
    {
     "data": {
      "text/html": [
       "<div>\n",
       "<style scoped>\n",
       "    .dataframe tbody tr th:only-of-type {\n",
       "        vertical-align: middle;\n",
       "    }\n",
       "\n",
       "    .dataframe tbody tr th {\n",
       "        vertical-align: top;\n",
       "    }\n",
       "\n",
       "    .dataframe thead th {\n",
       "        text-align: right;\n",
       "    }\n",
       "</style>\n",
       "<table border=\"1\" class=\"dataframe\">\n",
       "  <thead>\n",
       "    <tr style=\"text-align: right;\">\n",
       "      <th></th>\n",
       "      <th>file_path</th>\n",
       "      <th>organism</th>\n",
       "      <th>protocol</th>\n",
       "      <th>sample_name</th>\n",
       "      <th>time</th>\n",
       "    </tr>\n",
       "    <tr>\n",
       "      <th>sample_name</th>\n",
       "      <th></th>\n",
       "      <th></th>\n",
       "      <th></th>\n",
       "      <th></th>\n",
       "      <th></th>\n",
       "    </tr>\n",
       "  </thead>\n",
       "  <tbody>\n",
       "    <tr>\n",
       "      <th>pig_0h</th>\n",
       "      <td>/data/lab/project/pig_0h.fastq</td>\n",
       "      <td>pig</td>\n",
       "      <td>ABCD</td>\n",
       "      <td>pig_0h</td>\n",
       "      <td>0</td>\n",
       "    </tr>\n",
       "    <tr>\n",
       "      <th>pig_1h</th>\n",
       "      <td>/data/lab/project/pig_1h.fastq</td>\n",
       "      <td>pig</td>\n",
       "      <td>ABCD</td>\n",
       "      <td>pig_1h</td>\n",
       "      <td>1</td>\n",
       "    </tr>\n",
       "    <tr>\n",
       "      <th>frog_0h</th>\n",
       "      <td>/data/lab/project/frog_0h.fastq</td>\n",
       "      <td>frog</td>\n",
       "      <td>ABCD</td>\n",
       "      <td>frog_0h</td>\n",
       "      <td>0</td>\n",
       "    </tr>\n",
       "    <tr>\n",
       "      <th>frog_1h</th>\n",
       "      <td>/data/lab/project/frog_1h.fastq</td>\n",
       "      <td>frog</td>\n",
       "      <td>ABCD</td>\n",
       "      <td>frog_1h</td>\n",
       "      <td>1</td>\n",
       "    </tr>\n",
       "  </tbody>\n",
       "</table>\n",
       "</div>"
      ],
      "text/plain": [
       "                                   file_path organism protocol sample_name  \\\n",
       "sample_name                                                                  \n",
       "pig_0h        /data/lab/project/pig_0h.fastq      pig     ABCD      pig_0h   \n",
       "pig_1h        /data/lab/project/pig_1h.fastq      pig     ABCD      pig_1h   \n",
       "frog_0h      /data/lab/project/frog_0h.fastq     frog     ABCD     frog_0h   \n",
       "frog_1h      /data/lab/project/frog_1h.fastq     frog     ABCD     frog_1h   \n",
       "\n",
       "            time  \n",
       "sample_name       \n",
       "pig_0h         0  \n",
       "pig_1h         1  \n",
       "frog_0h        0  \n",
       "frog_1h        1  "
      ]
     },
     "execution_count": 9,
     "metadata": {},
     "output_type": "execute_result"
    }
   ],
   "source": [
    "p_new_lib.sample_table"
   ]
  },
  {
   "cell_type": "markdown",
   "metadata": {},
   "source": [
    "As you can see, the `library` column consists of new attributes (`ABCD`), which were defined in the `sample_table_newLib.csv` file.\n",
    "\n",
    "Amendments can be also activated interactively, after `Project` object has been crated. Let's activate the second amendment this way:"
   ]
  },
  {
   "cell_type": "code",
   "execution_count": 10,
   "metadata": {},
   "outputs": [
    {
     "data": {
      "text/html": [
       "<div>\n",
       "<style scoped>\n",
       "    .dataframe tbody tr th:only-of-type {\n",
       "        vertical-align: middle;\n",
       "    }\n",
       "\n",
       "    .dataframe tbody tr th {\n",
       "        vertical-align: top;\n",
       "    }\n",
       "\n",
       "    .dataframe thead th {\n",
       "        text-align: right;\n",
       "    }\n",
       "</style>\n",
       "<table border=\"1\" class=\"dataframe\">\n",
       "  <thead>\n",
       "    <tr style=\"text-align: right;\">\n",
       "      <th></th>\n",
       "      <th>file_path</th>\n",
       "      <th>organism</th>\n",
       "      <th>protocol</th>\n",
       "      <th>sample_name</th>\n",
       "      <th>time</th>\n",
       "    </tr>\n",
       "    <tr>\n",
       "      <th>sample_name</th>\n",
       "      <th></th>\n",
       "      <th></th>\n",
       "      <th></th>\n",
       "      <th></th>\n",
       "      <th></th>\n",
       "    </tr>\n",
       "  </thead>\n",
       "  <tbody>\n",
       "    <tr>\n",
       "      <th>pig_0h</th>\n",
       "      <td>/data/lab/project/pig_0h.fastq</td>\n",
       "      <td>pig</td>\n",
       "      <td>EFGH</td>\n",
       "      <td>pig_0h</td>\n",
       "      <td>0</td>\n",
       "    </tr>\n",
       "    <tr>\n",
       "      <th>pig_1h</th>\n",
       "      <td>/data/lab/project/pig_1h.fastq</td>\n",
       "      <td>pig</td>\n",
       "      <td>EFGH</td>\n",
       "      <td>pig_1h</td>\n",
       "      <td>1</td>\n",
       "    </tr>\n",
       "    <tr>\n",
       "      <th>frog_0h</th>\n",
       "      <td>/data/lab/project/frog_0h.fastq</td>\n",
       "      <td>frog</td>\n",
       "      <td>EFGH</td>\n",
       "      <td>frog_0h</td>\n",
       "      <td>0</td>\n",
       "    </tr>\n",
       "    <tr>\n",
       "      <th>frog_1h</th>\n",
       "      <td>/data/lab/project/frog_1h.fastq</td>\n",
       "      <td>frog</td>\n",
       "      <td>EFGH</td>\n",
       "      <td>frog_1h</td>\n",
       "      <td>1</td>\n",
       "    </tr>\n",
       "  </tbody>\n",
       "</table>\n",
       "</div>"
      ],
      "text/plain": [
       "                                   file_path organism protocol sample_name  \\\n",
       "sample_name                                                                  \n",
       "pig_0h        /data/lab/project/pig_0h.fastq      pig     EFGH      pig_0h   \n",
       "pig_1h        /data/lab/project/pig_1h.fastq      pig     EFGH      pig_1h   \n",
       "frog_0h      /data/lab/project/frog_0h.fastq     frog     EFGH     frog_0h   \n",
       "frog_1h      /data/lab/project/frog_1h.fastq     frog     EFGH     frog_1h   \n",
       "\n",
       "            time  \n",
       "sample_name       \n",
       "pig_0h         0  \n",
       "pig_1h         1  \n",
       "frog_0h        0  \n",
       "frog_1h        1  "
      ]
     },
     "execution_count": 10,
     "metadata": {},
     "output_type": "execute_result"
    }
   ],
   "source": [
    "p_new_lib2 = p.activate_amendments(\"newLib2\")\n",
    "p_new_lib2.sample_table"
   ]
  }
 ],
 "metadata": {
  "kernelspec": {
   "display_name": "Python 3",
   "language": "python",
   "name": "python3"
  },
  "language_info": {
   "codemirror_mode": {
    "name": "ipython",
    "version": 3
   },
   "file_extension": ".py",
   "mimetype": "text/x-python",
   "name": "python",
   "nbconvert_exporter": "python",
   "pygments_lexer": "ipython3",
   "version": "3.6.5"
  }
 },
 "nbformat": 4,
 "nbformat_minor": 2
}
