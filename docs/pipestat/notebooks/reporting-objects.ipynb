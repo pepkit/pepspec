{
 "cells": [
  {
   "cell_type": "markdown",
   "metadata": {},
   "source": [
    "# Reporting objects\n",
    "\n",
    "This tutorial will show you how pipestat can report not just primitive types, but structured results as objects.\n",
    "\n",
    "First create a `pipestat.PipestatManager` object with our example schema:"
   ]
  },
  {
   "cell_type": "code",
   "execution_count": null,
   "metadata": {},
   "outputs": [],
   "source": []
  },
  {
   "cell_type": "code",
   "execution_count": 2,
   "metadata": {},
   "outputs": [
    {
     "name": "stderr",
     "output_type": "stream",
     "text": [
      "Initialize PipestatBackend\n",
      "Initialize FileBackend\n"
     ]
    }
   ],
   "source": [
    "import pipestat\n",
    "psm = pipestat.PipestatManager(\n",
    "    record_identifier=\"sample1\",\n",
    "    results_file_path=\"pipestat_results.yaml\",\n",
    "    schema_path=\"https://schema.databio.org/pipestat/object_result.yaml\",\n",
    ")"
   ]
  },
  {
   "cell_type": "markdown",
   "metadata": {},
   "source": [
    "Here, we're pointing to a remote `schema_path`. Let's take a look at the schema object. You can see a preview of it here at the schema server: <https://schema.databio.org/?namespace=pipestat&schema=object_result>. We can also see what it looks like in Python code:"
   ]
  },
  {
   "cell_type": "code",
   "execution_count": 3,
   "metadata": {},
   "outputs": [
    {
     "data": {
      "text/plain": [
       "ParsedSchemaDB (refget)\n",
       " Project-level properties:\n",
       " - None\n",
       " Sample-level properties:\n",
       " -  value : {'type': 'string', 'description': 'Value of the object referred to by the key'}\n",
       " -  mydict : {'type': 'object', 'description': 'Can pipestat handle nested objects?'}\n",
       " Status properties:\n",
       " - None"
      ]
     },
     "execution_count": 3,
     "metadata": {},
     "output_type": "execute_result"
    }
   ],
   "source": [
    "psm.schema"
   ]
  },
  {
   "cell_type": "markdown",
   "metadata": {},
   "source": [
    "This schema defines two sample-level variables: `value` is a string, and `mydict` is an object. Let's see how to report a `mydict`:"
   ]
  },
  {
   "cell_type": "code",
   "execution_count": 4,
   "metadata": {},
   "outputs": [
    {
     "data": {
      "text/plain": [
       "[\"Reported records for 'sample1' in 'refget' :\\n - mydict: {'toplevel': {'value': '456'}}\",\n",
       " \"Reported records for 'sample1' in 'refget' :\\n - pipestat_created_time: 2024-02-21 20:52:20\",\n",
       " \"Reported records for 'sample1' in 'refget' :\\n - pipestat_modified_time: 2024-02-21 20:52:20\"]"
      ]
     },
     "execution_count": 4,
     "metadata": {},
     "output_type": "execute_result"
    }
   ],
   "source": [
    "psm.report({\"mydict\": {\"toplevel\": {\"value\": \"456\"}}}, force_overwrite=True)"
   ]
  },
  {
   "cell_type": "markdown",
   "metadata": {},
   "source": [
    "And now we can retrieve those results:"
   ]
  },
  {
   "cell_type": "code",
   "execution_count": 6,
   "metadata": {},
   "outputs": [
    {
     "data": {
      "text/plain": [
       "{'toplevel': {'value': '456'}}"
      ]
     },
     "execution_count": 6,
     "metadata": {},
     "output_type": "execute_result"
    }
   ],
   "source": [
    "psm.retrieve_one(\"sample1\", \"mydict\")"
   ]
  },
  {
   "cell_type": "markdown",
   "metadata": {},
   "source": [
    "Is there a way to retrieve the values within? Something like `psm.retrieve_one(\"sample1\", \"mydict.toplevel.value\")` ? I can't find any docs about that."
   ]
  }
 ],
 "metadata": {
  "kernelspec": {
   "display_name": "Python 3",
   "language": "python",
   "name": "python3"
  },
  "language_info": {
   "codemirror_mode": {
    "name": "ipython",
    "version": 3
   },
   "file_extension": ".py",
   "mimetype": "text/x-python",
   "name": "python",
   "nbconvert_exporter": "python",
   "pygments_lexer": "ipython3",
   "version": "3.11.7"
  }
 },
 "nbformat": 4,
 "nbformat_minor": 2
}
