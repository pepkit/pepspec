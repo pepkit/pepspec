{
 "cells": [
  {
   "cell_type": "raw",
   "metadata": {},
   "source": [
    "# Pipestat Python API\n",
    "\n",
    "Pipestat is a [Python package](https://pypi.org/project/pipestat/) for a standardized reporting of pipeline statistics. It formalizes a way to communicate between pipelines and downstream tools that analyze their results so that pipeline results can easily become input for downstream analyses.\n",
    "\n",
    "This tutorial is targeted toward pipeline developers, and shows how to use pipestat to manage pipeline results. This tutorial assumes you're writing your pipeline in Python; if not, there's another tutorial that accomplishes the same thing for any pipeline using the command-line interface.\n",
    "\n",
    "## Introduction\n",
    "\n",
    "To make your Python pipeline pipestat-compatible, you first need to initialize pipestat with some important configuration setup:\n",
    "\n",
    "1. **pipestat schema**: a path to a JSON-schema file that defines results reported by this pipeline\n",
    "2. **pipeline_name**: defines a unique group name for reported results\n",
    "3. **record_identifier**: a unique name for a particular *run* of the pipeline, typically a sample name\n",
    "4. **backend**: where the results should be stored. Either path to a YAML-formatted file or pipestat config with PostgreSQL database login credentials\n",
    "\n",
    "## Back-end types\n",
    "\n",
    "Two types of back-ends are currently supported:\n",
    "\n",
    "1. a **file** (pass a file path to the constructor)  \n",
    "The changes reported using the `report` method of `PipestatManger` will be securely written to the file. Currently only [YAML](https://yaml.org/) format is supported. \n",
    "\n",
    "2. a **PostgreSQL database** (pass a path to the pipestat config to the constructor)\n",
    "This option gives the user the possibility to use a fully fledged database to back `PipestatManager`. \n",
    "\n",
    "\n",
    "## Initializing a pipestat session\n",
    "\n",
    "Start by importing the `pipestat` package in Python."
   ]
  },
  {
   "cell_type": "markdown",
   "metadata": {},
   "source": []
  },
  {
   "cell_type": "code",
   "execution_count": 1,
   "metadata": {},
   "outputs": [],
   "source": [
    "import pipestat\n",
    "from jsonschema import ValidationError"
   ]
  },
  {
   "cell_type": "markdown",
   "metadata": {},
   "source": [
    "After importing the package, we need to create an `PipestatManager` object. The object constructor requires a few pieces of information. We'll use a file as the back-end, by passing a file path string to the constructor. Let's create a temporary file first:"
   ]
  },
  {
   "cell_type": "code",
   "execution_count": 2,
   "metadata": {},
   "outputs": [
    {
     "name": "stdout",
     "output_type": "stream",
     "text": [
      "/tmp/tmps01teih1.yaml\n"
     ]
    }
   ],
   "source": [
    "from tempfile import mkstemp\n",
    "\n",
    "_, temp_file = mkstemp(suffix=\".yaml\")\n",
    "print(temp_file)"
   ]
  },
  {
   "cell_type": "markdown",
   "metadata": {},
   "source": [
    "Now we can create a `PipestatManager` object that uses this file as the back-end:"
   ]
  },
  {
   "cell_type": "code",
   "execution_count": 3,
   "metadata": {},
   "outputs": [
    {
     "name": "stderr",
     "output_type": "stream",
     "text": [
      "Initialize PipestatBackend\n",
      "Initialize FileBackend\n"
     ]
    }
   ],
   "source": [
    "psm = pipestat.PipestatManager(\n",
    "    record_identifier=\"sample1\",\n",
    "    results_file_path=temp_file,\n",
    "    schema_path=\"../tests/data/sample_output_schema.yaml\",\n",
    ")"
   ]
  },
  {
   "cell_type": "markdown",
   "metadata": {},
   "source": [
    "Note: For schema_path, you will need to point to a **sample_output_schema.yaml**. An example file can be found here: https://github.com/pepkit/pipestat/blob/master/tests/data/sample_output_schema.yaml\n",
    "\n",
    "You can also put these settings into a config file and just pass that to the `config` argument, instead of specifying each argument separately. The results will be reported to a \"test\" namespace."
   ]
  },
  {
   "cell_type": "code",
   "execution_count": 4,
   "metadata": {},
   "outputs": [
    {
     "data": {
      "text/plain": [
       "'default_pipeline_name'"
      ]
     },
     "execution_count": 4,
     "metadata": {},
     "output_type": "execute_result"
    }
   ],
   "source": [
    "psm.pipeline_name"
   ]
  },
  {
   "cell_type": "markdown",
   "metadata": {},
   "source": [
    "By default, `PipestatManager` instance is bound to the record it was initialized with. However, reporting or removing results for a different record can be enforced in the respective methods with `sameple_name` argument."
   ]
  },
  {
   "cell_type": "code",
   "execution_count": 5,
   "metadata": {},
   "outputs": [
    {
     "data": {
      "text/plain": [
       "'sample1'"
      ]
     },
     "execution_count": 5,
     "metadata": {},
     "output_type": "execute_result"
    }
   ],
   "source": [
    "psm.record_identifier"
   ]
  },
  {
   "cell_type": "markdown",
   "metadata": {},
   "source": [
    "Since we've used a newly created file, nothing has been reported yet:"
   ]
  },
  {
   "cell_type": "code",
   "execution_count": 6,
   "metadata": {},
   "outputs": [
    {
     "name": "stdout",
     "output_type": "stream",
     "text": [
      "None\n"
     ]
    }
   ],
   "source": [
    "print(psm.retrieve_one(record_identifier='sample1'))"
   ]
  },
  {
   "cell_type": "markdown",
   "metadata": {},
   "source": [
    "Using `psm.retrieve_one` at this stage will return `None`."
   ]
  },
  {
   "cell_type": "code",
   "execution_count": 8,
   "metadata": {},
   "outputs": [
    {
     "data": {
      "text/plain": [
       "default_pipeline_name:\n",
       "  project: {}\n",
       "  sample: {}\n"
      ]
     },
     "execution_count": 8,
     "metadata": {},
     "output_type": "execute_result"
    }
   ],
   "source": [
    "psm.data"
   ]
  },
  {
   "cell_type": "markdown",
   "metadata": {},
   "source": [
    "## Reporting results"
   ]
  },
  {
   "cell_type": "markdown",
   "metadata": {},
   "source": [
    "To report a result, use a `report` method. It requires two pieces of information:\n",
    "\n",
    "1. record_identifier -- record to report the result for, for example a unique name of the sample (optional if provided at `PipestatManager` initialization stage)\n",
    "2. values -- a Python `dict` of resultID-value pairs to report. The top level keys must correspond to the results identifiers defined in the schema\n",
    "\n",
    "### Available results defined in schemas\n",
    "\n",
    "To learn about the results that the current `PipestatManager` instance supports check out the `schema.result_schemas` property:"
   ]
  },
  {
   "cell_type": "code",
   "execution_count": 9,
   "metadata": {},
   "outputs": [
    {
     "data": {
      "text/plain": [
       "{'number_of_things': {'type': 'integer', 'description': 'Number of things'},\n",
       " 'percentage_of_things': {'type': 'number',\n",
       "  'description': 'Percentage of things'},\n",
       " 'name_of_something': {'type': 'string', 'description': 'Name of something'},\n",
       " 'switch_value': {'type': 'boolean', 'description': 'Is the switch on or off'},\n",
       " 'output_file': {'description': 'This a path to the output file',\n",
       "  'type': 'object',\n",
       "  'object_type': 'file',\n",
       "  'properties': {'path': {'type': 'string'}, 'title': {'type': 'string'}},\n",
       "  'required': ['path', 'title']},\n",
       " 'output_image': {'description': 'This a path to the output image',\n",
       "  'type': 'object',\n",
       "  'object_type': 'image',\n",
       "  'properties': {'path': {'type': 'string'},\n",
       "   'thumbnail_path': {'type': 'string'},\n",
       "   'title': {'type': 'string'}},\n",
       "  'required': ['path', 'thumbnail_path', 'title']},\n",
       " 'md5sum': {'type': 'string',\n",
       "  'description': 'MD5SUM of an object',\n",
       "  'highlight': True}}"
      ]
     },
     "execution_count": 9,
     "metadata": {},
     "output_type": "execute_result"
    }
   ],
   "source": [
    "psm.result_schemas"
   ]
  },
  {
   "cell_type": "markdown",
   "metadata": {},
   "source": [
    "To learn about the actual required attributes of the reported results, like `file` or `image` (see: `output_file` and `output_image` results) select the `output_file` from the `result_schemas` property:"
   ]
  },
  {
   "cell_type": "code",
   "execution_count": 10,
   "metadata": {},
   "outputs": [
    {
     "data": {
      "text/plain": [
       "{'description': 'This a path to the output file',\n",
       " 'type': 'object',\n",
       " 'object_type': 'file',\n",
       " 'properties': {'path': {'type': 'string'}, 'title': {'type': 'string'}},\n",
       " 'required': ['path', 'title']}"
      ]
     },
     "execution_count": 10,
     "metadata": {},
     "output_type": "execute_result"
    }
   ],
   "source": [
    "psm.result_schemas[\"output_file\"]"
   ]
  },
  {
   "cell_type": "markdown",
   "metadata": {},
   "source": [
    "### Results composition enforcement\n",
    "As you can see, to report a `output_file` result, you need to provide an object with `path` and `title` string attributes. If you fail to do so `PipestatManager` will issue an informative validation error:"
   ]
  },
  {
   "cell_type": "code",
   "execution_count": 11,
   "metadata": {},
   "outputs": [
    {
     "name": "stdout",
     "output_type": "stream",
     "text": [
      "'title' is a required property\n",
      "\n",
      "Failed validating 'required' in schema:\n",
      "    {'description': 'This a path to the output file',\n",
      "     'object_type': 'file',\n",
      "     'properties': {'path': {'type': 'string'},\n",
      "                    'title': {'type': 'string'}},\n",
      "     'required': ['path', 'title'],\n",
      "     'type': 'object'}\n",
      "\n",
      "On instance:\n",
      "    {'path': '/home/user/path.csv'}\n"
     ]
    }
   ],
   "source": [
    "try:\n",
    "    psm.report(record_identifier=\"sample1\", values={\"output_file\": {\"path\": \"/home/user/path.csv\"}})\n",
    "except ValidationError as e:\n",
    "    print(e)"
   ]
  },
  {
   "cell_type": "markdown",
   "metadata": {},
   "source": [
    "Let's report a correct object this time:"
   ]
  },
  {
   "cell_type": "code",
   "execution_count": 12,
   "metadata": {},
   "outputs": [
    {
     "data": {
      "text/plain": [
       "[\"Reported records for 'sample1' in 'default_pipeline_name' :\\n - output_file: {'path': '/home/user/path.csv', 'title': 'CSV file with some data'}\",\n",
       " \"Reported records for 'sample1' in 'default_pipeline_name' :\\n - pipestat_created_time: 2023-11-07 17:30:39\",\n",
       " \"Reported records for 'sample1' in 'default_pipeline_name' :\\n - pipestat_modified_time: 2023-11-07 17:30:39\"]"
      ]
     },
     "execution_count": 12,
     "metadata": {},
     "output_type": "execute_result"
    }
   ],
   "source": [
    "psm.report(record_identifier=\"sample1\",\n",
    "    values={\n",
    "        \"output_file\": {\n",
    "            \"path\": \"/home/user/path.csv\",\n",
    "            \"title\": \"CSV file with some data\",\n",
    "        }\n",
    "    }\n",
    ")"
   ]
  },
  {
   "cell_type": "markdown",
   "metadata": {},
   "source": [
    "Inspect the object's database to verify whether the result has been successfully reported:"
   ]
  },
  {
   "cell_type": "code",
   "execution_count": 13,
   "metadata": {},
   "outputs": [
    {
     "data": {
      "text/plain": [
       "default_pipeline_name:\n",
       "  project: {}\n",
       "  sample:\n",
       "    sample1:\n",
       "      output_file:\n",
       "        path: /home/user/path.csv\n",
       "        title: CSV file with some data\n",
       "      pipestat_created_time: '2023-11-07 17:30:39'\n",
       "      pipestat_modified_time: '2023-11-07 17:30:39'\n"
      ]
     },
     "execution_count": 13,
     "metadata": {},
     "output_type": "execute_result"
    }
   ],
   "source": [
    "psm.data"
   ]
  },
  {
   "cell_type": "markdown",
   "metadata": {},
   "source": [
    "Or use the retrieve function (required for database backends):"
   ]
  },
  {
   "cell_type": "code",
   "execution_count": 14,
   "metadata": {},
   "outputs": [
    {
     "data": {
      "text/plain": [
       "{'output_file': {'path': '/home/user/path.csv',\n",
       "  'title': 'CSV file with some data'},\n",
       " 'pipestat_created_time': '2023-11-07 17:30:39',\n",
       " 'pipestat_modified_time': '2023-11-07 17:30:39',\n",
       " 'record_identifier': 'sample1'}"
      ]
     },
     "execution_count": 14,
     "metadata": {},
     "output_type": "execute_result"
    }
   ],
   "source": [
    "psm.retrieve_one('sample1')"
   ]
  },
  {
   "cell_type": "markdown",
   "metadata": {},
   "source": [
    "No results duplication is allowed, unless you force overwrite:"
   ]
  },
  {
   "cell_type": "code",
   "execution_count": 15,
   "metadata": {},
   "outputs": [
    {
     "name": "stderr",
     "output_type": "stream",
     "text": [
      "These results exist for 'sample1': output_file\n"
     ]
    },
    {
     "data": {
      "text/plain": [
       "False"
      ]
     },
     "execution_count": 15,
     "metadata": {},
     "output_type": "execute_result"
    }
   ],
   "source": [
    "psm.report(record_identifier=\"sample1\",\n",
    "    values={\n",
    "        \"output_file\": {\n",
    "            \"path\": \"/home/user/path_new.csv\",\n",
    "            \"title\": \"new CSV file with some data\",\n",
    "        }\n",
    "    }\n",
    ")"
   ]
  },
  {
   "cell_type": "code",
   "execution_count": 16,
   "metadata": {},
   "outputs": [
    {
     "name": "stderr",
     "output_type": "stream",
     "text": [
      "These results exist for 'sample1': output_file\n",
      "Overwriting existing results: output_file\n"
     ]
    },
    {
     "data": {
      "text/plain": [
       "{'output_file': {'path': '/home/user/path_new.csv',\n",
       "  'title': 'new CSV file with some data'},\n",
       " 'pipestat_created_time': '2023-11-07 17:30:39',\n",
       " 'pipestat_modified_time': '2023-11-07 17:30:48',\n",
       " 'record_identifier': 'sample1'}"
      ]
     },
     "execution_count": 16,
     "metadata": {},
     "output_type": "execute_result"
    }
   ],
   "source": [
    "psm.report(record_identifier=\"sample1\",\n",
    "    values={\n",
    "        \"output_file\": {\n",
    "            \"path\": \"/home/user/path_new.csv\",\n",
    "            \"title\": \"new CSV file with some data\",\n",
    "        }\n",
    "    },\n",
    "    force_overwrite=True,\n",
    ")\n",
    "\n",
    "psm.retrieve_one('sample1')"
   ]
  },
  {
   "cell_type": "markdown",
   "metadata": {},
   "source": [
    "Most importantly, by backing the object by a file, the reported results persist -- another `PipestatManager` object reads the results when created:"
   ]
  },
  {
   "cell_type": "code",
   "execution_count": 17,
   "metadata": {},
   "outputs": [
    {
     "name": "stderr",
     "output_type": "stream",
     "text": [
      "Initialize PipestatBackend\n",
      "Initialize FileBackend\n"
     ]
    }
   ],
   "source": [
    "psm1 = pipestat.PipestatManager(\n",
    "    pipeline_name=\"test\",\n",
    "    record_identifier=\"sample1\",\n",
    "    results_file_path=temp_file,\n",
    "    schema_path=\"../tests/data/sample_output_schema.yaml\",\n",
    ")"
   ]
  },
  {
   "cell_type": "code",
   "execution_count": 18,
   "metadata": {},
   "outputs": [
    {
     "data": {
      "text/plain": [
       "{'output_file': {'path': '/home/user/path_new.csv',\n",
       "  'title': 'new CSV file with some data'},\n",
       " 'pipestat_created_time': '2023-11-07 17:30:39',\n",
       " 'pipestat_modified_time': '2023-11-07 17:30:48',\n",
       " 'record_identifier': 'sample1'}"
      ]
     },
     "execution_count": 18,
     "metadata": {},
     "output_type": "execute_result"
    }
   ],
   "source": [
    "psm.retrieve_one('sample1')"
   ]
  },
  {
   "cell_type": "markdown",
   "metadata": {},
   "source": [
    "That's because the contents are stored in the file we've specified at object creation stage:"
   ]
  },
  {
   "cell_type": "code",
   "execution_count": 19,
   "metadata": {},
   "outputs": [
    {
     "name": "stdout",
     "output_type": "stream",
     "text": [
      "/tmp/tmps01teih1.yaml\n",
      "default_pipeline_name:\n",
      "  project: {}\n",
      "  sample:\n",
      "    sample1:\n",
      "      output_file:\n",
      "        path: /home/user/path_new.csv\n",
      "        title: new CSV file with some data\n",
      "      pipestat_created_time: '2023-11-07 17:30:39'\n",
      "      pipestat_modified_time: '2023-11-07 17:30:48'\n"
     ]
    }
   ],
   "source": [
    "!echo $temp_file\n",
    "!cat $temp_file"
   ]
  },
  {
   "cell_type": "markdown",
   "metadata": {},
   "source": [
    "Note that two processes can securely report to a single file and single namespace since `pipestat` supports locks and race-free writes to control multi-user conflicts and prevent data loss.\n",
    "\n",
    "### Results type enforcement\n",
    "\n",
    "By default `PipestatManager` raises an exception if a non-compatible result value is reported. \n",
    "\n",
    "This behavior can be changed by setting `strict_type` to `True` in `PipestatManager.report` method. In this case `PipestatManager` tries to cast the reported results values to the Python classes required by schema. For example, if a result defined as `integer` is reported and a `str` value is passed, the eventual value will be `int`:"
   ]
  },
  {
   "cell_type": "code",
   "execution_count": 20,
   "metadata": {},
   "outputs": [
    {
     "data": {
      "text/plain": [
       "{'type': 'integer', 'description': 'Number of things'}"
      ]
     },
     "execution_count": 20,
     "metadata": {},
     "output_type": "execute_result"
    }
   ],
   "source": [
    "psm.result_schemas[\"number_of_things\"]"
   ]
  },
  {
   "cell_type": "code",
   "execution_count": 21,
   "metadata": {},
   "outputs": [
    {
     "data": {
      "text/plain": [
       "[\"Reported records for 'sample1' in 'default_pipeline_name' :\\n - number_of_things: 10\",\n",
       " \"Reported records for 'sample1' in 'default_pipeline_name' :\\n - pipestat_modified_time: 2023-11-07 17:30:56\"]"
      ]
     },
     "execution_count": 21,
     "metadata": {},
     "output_type": "execute_result"
    }
   ],
   "source": [
    "psm.report(record_identifier=\"sample1\",values={\"number_of_things\": \"10\"}, strict_type=False)"
   ]
  },
  {
   "cell_type": "markdown",
   "metadata": {},
   "source": [
    "The method will attempt to cast the value to a proper Python class and store the converted object. In case of a failure, an error will be raised:"
   ]
  },
  {
   "cell_type": "code",
   "execution_count": 22,
   "metadata": {},
   "outputs": [
    {
     "name": "stdout",
     "output_type": "stream",
     "text": [
      "int() argument must be a string, a bytes-like object or a real number, not 'list'\n"
     ]
    }
   ],
   "source": [
    "try:\n",
    "    psm.report(\n",
    "        record_identifier=\"sample2\", values={\"number_of_things\": []}, strict_type=False\n",
    "    )\n",
    "except TypeError as e:\n",
    "    print(e)"
   ]
  },
  {
   "cell_type": "markdown",
   "metadata": {},
   "source": [
    "Note that in this case we tried to report a result for a different record (`sample2`), which had to be enforced with `record_identifier` argument."
   ]
  },
  {
   "cell_type": "code",
   "execution_count": 23,
   "metadata": {},
   "outputs": [
    {
     "data": {
      "text/plain": [
       "default_pipeline_name:\n",
       "  project: {}\n",
       "  sample:\n",
       "    sample1:\n",
       "      output_file:\n",
       "        path: /home/user/path_new.csv\n",
       "        title: new CSV file with some data\n",
       "      pipestat_created_time: '2023-11-07 17:30:39'\n",
       "      pipestat_modified_time: '2023-11-07 17:30:56'\n",
       "      number_of_things: '10'\n"
      ]
     },
     "execution_count": 23,
     "metadata": {},
     "output_type": "execute_result"
    }
   ],
   "source": [
    "psm.data"
   ]
  },
  {
   "cell_type": "markdown",
   "metadata": {},
   "source": [
    "## Retrieving results\n",
    "\n",
    "Naturally, the reported results can be retrieved. Let's explore all the options the `PipestatManager.retrieve` method provides:\n",
    "\n",
    "To retrieve a *specific* result for a record, provide the identifiers:"
   ]
  },
  {
   "cell_type": "code",
   "execution_count": 24,
   "metadata": {},
   "outputs": [
    {
     "data": {
      "text/plain": [
       "'10'"
      ]
     },
     "execution_count": 24,
     "metadata": {},
     "output_type": "execute_result"
    }
   ],
   "source": [
    "psm.retrieve_one(record_identifier=\"sample1\", result_identifier=\"number_of_things\")"
   ]
  },
  {
   "cell_type": "markdown",
   "metadata": {},
   "source": [
    "To retrieve *all* the results for a record, skip the `result_identifier` argument:"
   ]
  },
  {
   "cell_type": "code",
   "execution_count": 25,
   "metadata": {},
   "outputs": [
    {
     "data": {
      "text/plain": [
       "{'output_file': {'path': '/home/user/path_new.csv',\n",
       "  'title': 'new CSV file with some data'},\n",
       " 'pipestat_created_time': '2023-11-07 17:30:39',\n",
       " 'pipestat_modified_time': '2023-11-07 17:30:56',\n",
       " 'number_of_things': '10',\n",
       " 'record_identifier': 'sample1'}"
      ]
     },
     "execution_count": 25,
     "metadata": {},
     "output_type": "execute_result"
    }
   ],
   "source": [
    "psm.retrieve_one(record_identifier=\"sample1\")"
   ]
  },
  {
   "cell_type": "markdown",
   "metadata": {},
   "source": [
    "## Removing results"
   ]
  },
  {
   "cell_type": "markdown",
   "metadata": {},
   "source": [
    "`PipestatManager` object also supports results removal. Call `remove` method and provide `record_identifier` and  `result_identifier` arguments to do so:"
   ]
  },
  {
   "cell_type": "code",
   "execution_count": 26,
   "metadata": {},
   "outputs": [
    {
     "name": "stderr",
     "output_type": "stream",
     "text": [
      "Removed result 'number_of_things' for record 'sample1' from 'default_pipeline_name' namespace\n"
     ]
    },
    {
     "data": {
      "text/plain": [
       "True"
      ]
     },
     "execution_count": 26,
     "metadata": {},
     "output_type": "execute_result"
    }
   ],
   "source": [
    "psm.remove(record_identifier=\"sample1\",result_identifier=\"number_of_things\")"
   ]
  },
  {
   "cell_type": "markdown",
   "metadata": {},
   "source": [
    "The entire record, skip the `result_identifier` argument:"
   ]
  },
  {
   "cell_type": "code",
   "execution_count": 27,
   "metadata": {},
   "outputs": [
    {
     "name": "stderr",
     "output_type": "stream",
     "text": [
      "Removing 'sample1' record\n"
     ]
    },
    {
     "data": {
      "text/plain": [
       "True"
      ]
     },
     "execution_count": 27,
     "metadata": {},
     "output_type": "execute_result"
    }
   ],
   "source": [
    "psm.remove()"
   ]
  },
  {
   "cell_type": "markdown",
   "metadata": {},
   "source": [
    "Verify that an appropriate entry from the results was deleted:"
   ]
  },
  {
   "cell_type": "code",
   "execution_count": 28,
   "metadata": {
    "pycharm": {
     "name": "#%%\n"
    }
   },
   "outputs": [
    {
     "data": {
      "text/plain": [
       "default_pipeline_name:\n",
       "  project: {}\n",
       "  sample: {}\n"
      ]
     },
     "execution_count": 28,
     "metadata": {},
     "output_type": "execute_result"
    }
   ],
   "source": [
    "psm.backend._data"
   ]
  },
  {
   "cell_type": "markdown",
   "metadata": {},
   "source": [
    "## Highligting results\n",
    "\n",
    "In order to highlight results we need to add an extra property in the pipestat results schema (`highlight: true`) under the result identifier that we wish to highlight. "
   ]
  },
  {
   "cell_type": "code",
   "execution_count": 29,
   "metadata": {},
   "outputs": [
    {
     "name": "stderr",
     "output_type": "stream",
     "text": [
      "Initialize PipestatBackend\n",
      "Initialize FileBackend\n"
     ]
    },
    {
     "name": "stdout",
     "output_type": "stream",
     "text": [
      "/tmp/tmpa9fo3rk7.yaml\n"
     ]
    }
   ],
   "source": [
    "from tempfile import mkstemp\n",
    "\n",
    "_, temp_file_highlight = mkstemp(suffix=\".yaml\")\n",
    "print(temp_file_highlight)\n",
    "\n",
    "psm_highlight = pipestat.PipestatManager(\n",
    "    pipeline_name=\"test_highlight\",\n",
    "    record_identifier=\"sample1\",\n",
    "    results_file_path=temp_file_highlight,\n",
    "    schema_path=\"../tests/data/sample_output_schema_highlight.yaml\",\n",
    ")"
   ]
  },
  {
   "cell_type": "markdown",
   "metadata": {},
   "source": [
    "For example, result `log` is highlighted in this case:"
   ]
  },
  {
   "cell_type": "code",
   "execution_count": 30,
   "metadata": {},
   "outputs": [
    {
     "data": {
      "text/plain": [
       "{'highlight': True,\n",
       " 'description': 'The log file of the pipeline run',\n",
       " 'type': 'object',\n",
       " 'object_type': 'file',\n",
       " 'properties': {'path': {'type': 'string'}, 'title': {'type': 'string'}},\n",
       " 'required': ['path', 'title']}"
      ]
     },
     "execution_count": 30,
     "metadata": {},
     "output_type": "execute_result"
    }
   ],
   "source": [
    "psm_highlight.result_schemas['log']"
   ]
  },
  {
   "cell_type": "markdown",
   "metadata": {},
   "source": [
    "The highlighting feature can be used by pipestat clients to present the highlighted results in a special way."
   ]
  },
  {
   "cell_type": "code",
   "execution_count": 31,
   "metadata": {},
   "outputs": [
    {
     "data": {
      "text/plain": [
       "['log', 'profile', 'commands', 'version']"
      ]
     },
     "execution_count": 31,
     "metadata": {},
     "output_type": "execute_result"
    }
   ],
   "source": [
    "psm_highlight.highlighted_results"
   ]
  },
  {
   "cell_type": "markdown",
   "metadata": {},
   "source": [
    "## Pipeline status management\n",
    "\n",
    "Pipestat provides a pipeline status management system, which can be used to set and read pipeline status. To maintain the status information between sessions it uses flags or additional DB table if the `PipestatManager` object is backed with YAML file or PostgreSQL database, respectively.\n",
    "\n",
    "To set pipeline status use `set_status` method:"
   ]
  },
  {
   "cell_type": "code",
   "execution_count": 32,
   "metadata": {},
   "outputs": [],
   "source": [
    "psm.set_status(record_identifier=\"sample1\", status_identifier=\"running\")"
   ]
  },
  {
   "cell_type": "markdown",
   "metadata": {},
   "source": [
    "To get pipeline status use `get_status` method:"
   ]
  },
  {
   "cell_type": "code",
   "execution_count": 33,
   "metadata": {},
   "outputs": [
    {
     "data": {
      "text/plain": [
       "'running'"
      ]
     },
     "execution_count": 33,
     "metadata": {},
     "output_type": "execute_result"
    }
   ],
   "source": [
    "psm.get_status(record_identifier=\"sample1\")"
   ]
  },
  {
   "cell_type": "markdown",
   "metadata": {},
   "source": [
    "Allowable statuses and related metadata are defined in the status schema, which can be accessed via:"
   ]
  },
  {
   "cell_type": "code",
   "execution_count": 34,
   "metadata": {},
   "outputs": [
    {
     "data": {
      "text/plain": [
       "{'running': {'description': 'the pipeline is running',\n",
       "  'color': [30, 144, 255]},\n",
       " 'completed': {'description': 'the pipeline has completed',\n",
       "  'color': [50, 205, 50]},\n",
       " 'failed': {'description': 'the pipeline has failed', 'color': [220, 20, 60]},\n",
       " 'waiting': {'description': 'the pipeline is waiting',\n",
       "  'color': [240, 230, 140]},\n",
       " 'partial': {'description': 'the pipeline stopped before completion point',\n",
       "  'color': [169, 169, 169]}}"
      ]
     },
     "execution_count": 34,
     "metadata": {},
     "output_type": "execute_result"
    }
   ],
   "source": [
    "psm.cfg['_status_schema']"
   ]
  },
  {
   "cell_type": "markdown",
   "metadata": {},
   "source": [
    "`pipestat` Python package ships with a default status schema, so we did not have to provide the schema when constructing the `PipestatManager` object. Similarly, the flags containg directory is an optional configuration option. \n",
    "\n",
    "Please refer to the Python API documentation (`__init__` method) to see how to use custom status schema and flags directory."
   ]
  },
  {
   "cell_type": "markdown",
   "metadata": {},
   "source": [
    "## Initializing `PipestatManager` without results schema\n",
    "\n",
    "Starting with `pipestat 0.0.3`, it is possible to initialize the `PipestatManager` object without specifying the results schema file. This feature comes in handy if `PipestatManager` is created with a sole intent to monitor pipeline status.\n",
    "\n",
    "Here's an example:"
   ]
  },
  {
   "cell_type": "code",
   "execution_count": 35,
   "metadata": {},
   "outputs": [
    {
     "name": "stderr",
     "output_type": "stream",
     "text": [
      "No schema supplied.\n",
      "Initialize PipestatBackend\n",
      "Initialize FileBackend\n"
     ]
    },
    {
     "name": "stdout",
     "output_type": "stream",
     "text": [
      "/tmp/tmpxpe5w75w.yaml\n"
     ]
    }
   ],
   "source": [
    "_, temp_file_no_schema = mkstemp(suffix=\".yaml\")\n",
    "print(temp_file_no_schema)\n",
    "\n",
    "psm_no_schema = pipestat.PipestatManager(\n",
    "    pipeline_name=\"test_no_schema\", results_file_path=temp_file_no_schema\n",
    ")"
   ]
  },
  {
   "cell_type": "markdown",
   "metadata": {},
   "source": [
    "As mentioned above, the pipeline status management capabilities are supported with no results schema defined:"
   ]
  },
  {
   "cell_type": "code",
   "execution_count": 36,
   "metadata": {},
   "outputs": [
    {
     "data": {
      "text/plain": [
       "'running'"
      ]
     },
     "execution_count": 36,
     "metadata": {},
     "output_type": "execute_result"
    }
   ],
   "source": [
    "psm_no_schema.set_status(status_identifier=\"running\", record_identifier=\"sample1\")\n",
    "psm_no_schema.get_status(record_identifier=\"sample1\")"
   ]
  },
  {
   "cell_type": "markdown",
   "metadata": {},
   "source": [
    "## Generate static HTML Report using the `summarize` command\n",
    "\n",
    "You can generate a static browsable html report using the `summarize` function:"
   ]
  },
  {
   "cell_type": "code",
   "execution_count": 37,
   "metadata": {},
   "outputs": [
    {
     "name": "stderr",
     "output_type": "stream",
     "text": [
      "Building index page for pipeline: default_pipeline_name\n",
      " * Creating sample pages\n",
      " * Creating object pages\n"
     ]
    },
    {
     "data": {
      "text/plain": [
       "'/tmp/reports/default_pipeline_name/index.html'"
      ]
     },
     "execution_count": 37,
     "metadata": {},
     "output_type": "execute_result"
    }
   ],
   "source": [
    "psm.summarize()"
   ]
  },
  {
   "cell_type": "markdown",
   "metadata": {},
   "source": [
    "## Sample and Project Level Pipelines\n",
    "\n",
    "All of the examples above assume the user has a sample level pipeline. Pipestat defaults to setting pipeline_type = 'sample'. However, the user can set the pipeline_type = 'project'.\n",
    "\n",
    "Beginning in Pipestat 0.6.0, the user can call SamplePipestatManager() or ProjectPipestatManager() that do everything PipestatManager does but sets the pipeline_type to either 'sample' or 'project' respectively."
   ]
  },
  {
   "cell_type": "code",
   "execution_count": 38,
   "metadata": {},
   "outputs": [
    {
     "name": "stderr",
     "output_type": "stream",
     "text": [
      "Initialize PipestatBackend\n",
      "Initialize FileBackend\n",
      "Initialize PipestatMgrSample\n"
     ]
    }
   ],
   "source": [
    "psm_sample = pipestat. SamplePipestatManager(record_identifier=\"sample1\",\n",
    "    results_file_path=temp_file,\n",
    "    schema_path=\"../tests/data/sample_output_schema.yaml\",)"
   ]
  },
  {
   "cell_type": "code",
   "execution_count": 39,
   "metadata": {},
   "outputs": [
    {
     "data": {
      "text/plain": [
       "{'description': 'This a path to the output file',\n",
       " 'type': 'object',\n",
       " 'object_type': 'file',\n",
       " 'properties': {'path': {'type': 'string'}, 'title': {'type': 'string'}},\n",
       " 'required': ['path', 'title']}"
      ]
     },
     "execution_count": 39,
     "metadata": {},
     "output_type": "execute_result"
    }
   ],
   "source": [
    "psm_sample.result_schemas[\"output_file\"]"
   ]
  },
  {
   "cell_type": "markdown",
   "metadata": {},
   "source": [
    "## PipestatBoss\n",
    "\n",
    "Also in Pipestat 0.6.0, the user can call PipestatBoss with the sample arguments as SamplePipestatManager or ProjectPipestatmanger while also including a list of pipeline_types. This will create and object containing multiple PipestatManager objects."
   ]
  },
  {
   "cell_type": "code",
   "execution_count": 40,
   "metadata": {},
   "outputs": [
    {
     "name": "stderr",
     "output_type": "stream",
     "text": [
      "Initialize PipestatBoss\n",
      "Initialize PipestatBackend\n",
      "Initialize FileBackend\n",
      "Initialize PipestatMgrSample\n",
      "Initialize PipestatBackend\n",
      "Initialize FileBackend\n",
      "Initialize PipestatMgrProject\n"
     ]
    }
   ],
   "source": [
    "psb = pipestat.PipestatBoss(pipeline_list=['sample', 'project',], \n",
    "                   schema_path=\"../tests/data/sample_output_schema.yaml\", results_file_path=temp_file)"
   ]
  },
  {
   "cell_type": "code",
   "execution_count": 41,
   "metadata": {},
   "outputs": [
    {
     "data": {
      "text/plain": [
       "[\"Reported records for 'sample1' in 'default_pipeline_name' :\\n - output_file: {'path': '/home/user/path.csv', 'title': 'CSV file with some data'}\",\n",
       " \"Reported records for 'sample1' in 'default_pipeline_name' :\\n - pipestat_created_time: 2023-11-07 17:31:18\",\n",
       " \"Reported records for 'sample1' in 'default_pipeline_name' :\\n - pipestat_modified_time: 2023-11-07 17:31:18\"]"
      ]
     },
     "execution_count": 41,
     "metadata": {},
     "output_type": "execute_result"
    }
   ],
   "source": [
    "psb.samplemanager.report(record_identifier=\"sample1\",values={\n",
    "        \"output_file\": {\n",
    "            \"path\": \"/home/user/path.csv\",\n",
    "            \"title\": \"CSV file with some data\",\n",
    "        }\n",
    "    })"
   ]
  },
  {
   "cell_type": "code",
   "execution_count": null,
   "metadata": {},
   "outputs": [],
   "source": []
  }
 ],
 "metadata": {
  "interpreter": {
   "hash": "ac2eaa0ea0ebeafcc7822e65e46aa9d4f966f30b695406963e145ea4a91cd4fc"
  },
  "kernelspec": {
   "display_name": "Python 3 (ipykernel)",
   "language": "python",
   "name": "python3"
  },
  "language_info": {
   "codemirror_mode": {
    "name": "ipython",
    "version": 3
   },
   "file_extension": ".py",
   "mimetype": "text/x-python",
   "name": "python",
   "nbconvert_exporter": "python",
   "pygments_lexer": "ipython3",
   "version": "3.10.12"
  }
 },
 "nbformat": 4,
 "nbformat_minor": 2
}
