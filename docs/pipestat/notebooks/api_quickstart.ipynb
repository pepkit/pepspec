{
 "cells": [
  {
   "cell_type": "markdown",
   "id": "52cf5f9c",
   "metadata": {},
   "source": [
    "# Pipestat API Quickstart Guide\n",
    "\n",
    "This example is for quickly reporting results to a results.yaml filebackend."
   ]
  },
  {
   "cell_type": "code",
   "execution_count": 6,
   "id": "426c0155",
   "metadata": {},
   "outputs": [],
   "source": [
    "from pipestat import PipestatManager\n",
    "\n",
    "#File Backend requires a results.yaml file\n",
    "result_file = \"../tests/data/results_docs_example.yaml\"\n",
    "\n",
    "#Every pipestat manager requires an output schema to know the format of results\n",
    "schema_file = \"../tests/data/sample_output_schema.yaml\"\n",
    "\n",
    "# With these two files, we can initialize a PipestatManager object and begin reporting results"
   ]
  },
  {
   "cell_type": "code",
   "execution_count": 7,
   "id": "3b2f3ad2",
   "metadata": {},
   "outputs": [
    {
     "name": "stderr",
     "output_type": "stream",
     "text": [
      "Initialize PipestatBackend\n",
      "Initialize FileBackend\n"
     ]
    }
   ],
   "source": [
    "psm = PipestatManager(results_file_path=result_file, schema_path=schema_file)"
   ]
  },
  {
   "cell_type": "code",
   "execution_count": 11,
   "id": "d886a2c9",
   "metadata": {},
   "outputs": [
    {
     "name": "stdout",
     "output_type": "stream",
     "text": [
      "ParsedSchemaDB (default_pipeline_name)\n",
      " Project Level Data:\n",
      " Sample Level Data:\n",
      " -  number_of_things : {'type': 'integer', 'description': 'Number of things'}\n",
      " -  percentage_of_things : {'type': 'number', 'description': 'Percentage of things'}\n",
      " -  name_of_something : {'type': 'string', 'description': 'Name of something'}\n",
      " -  switch_value : {'type': 'boolean', 'description': 'Is the switch on or off'}\n",
      " -  output_file : {'description': 'This a path to the output file', 'type': 'object', 'object_type': 'file', 'properties': {'path': {'type': 'string'}, 'title': {'type': 'string'}}, 'required': ['path', 'title']}\n",
      " -  output_image : {'description': 'This a path to the output image', 'type': 'object', 'object_type': 'image', 'properties': {'path': {'type': 'string'}, 'thumbnail_path': {'type': 'string'}, 'title': {'type': 'string'}}, 'required': ['path', 'thumbnail_path', 'title']}\n",
      " -  md5sum : {'type': 'string', 'description': 'MD5SUM of an object', 'highlight': True}\n",
      " Status Data:\n"
     ]
    }
   ],
   "source": [
    "# Let's look at our output schema. Notice that the schema is only for reporting sample-level results\n",
    "print(psm.schema)"
   ]
  },
  {
   "cell_type": "code",
   "execution_count": 14,
   "id": "1900c74f",
   "metadata": {},
   "outputs": [
    {
     "data": {
      "text/plain": [
       "[\"Reported records for 'my_sample_name_1' in 'default_pipeline_name' :\\n - percentage_of_things: 100\",\n",
       " \"Reported records for 'my_sample_name_1' in 'default_pipeline_name' :\\n - pipestat_created_time: 2023-11-08 09:52:20\",\n",
       " \"Reported records for 'my_sample_name_1' in 'default_pipeline_name' :\\n - pipestat_modified_time: 2023-11-08 09:52:20\"]"
      ]
     },
     "execution_count": 14,
     "metadata": {},
     "output_type": "execute_result"
    }
   ],
   "source": [
    "# Let's report a result. The result_identifier (e.g. percentage_of_things) must be in the output schema.\n",
    "# When reporting a result, a record_identifier must be provided either at the time of reporting \n",
    "# or upon PipestatManager creation.\n",
    "\n",
    "psm.report(record_identifier=\"my_sample_name_1\", values={\"percentage_of_things\": 100})"
   ]
  },
  {
   "cell_type": "code",
   "execution_count": 25,
   "id": "7f63b386",
   "metadata": {},
   "outputs": [
    {
     "name": "stderr",
     "output_type": "stream",
     "text": [
      "These results exist for 'my_sample_name_1': percentage_of_things\n",
      "Overwriting existing results: percentage_of_things\n"
     ]
    },
    {
     "data": {
      "text/plain": [
       "[\"Reported records for 'my_sample_name_1' in 'default_pipeline_name' :\\n - percentage_of_things: 50\",\n",
       " \"Reported records for 'my_sample_name_1' in 'default_pipeline_name' :\\n - pipestat_modified_time: 2023-11-08 10:13:18\"]"
      ]
     },
     "execution_count": 25,
     "metadata": {},
     "output_type": "execute_result"
    }
   ],
   "source": [
    "# Pipestat reports the result as well as a created time and a modified time.\n",
    "# We can overwrite the modified time by reporting a new result. However, we MUST set the force_overwrite flag.\n",
    "psm.report(record_identifier=\"my_sample_name_1\", values={\"percentage_of_things\": 50}, force_overwrite=True)"
   ]
  },
  {
   "cell_type": "code",
   "execution_count": 26,
   "id": "330c4447",
   "metadata": {},
   "outputs": [
    {
     "data": {
      "text/plain": [
       "default_pipeline_name:\n",
       "  project: {}\n",
       "  sample:\n",
       "    my_sample_name_1:\n",
       "      percentage_of_things: 50\n",
       "      pipestat_created_time: '2023-11-08 09:52:20'\n",
       "      pipestat_modified_time: '2023-11-08 10:13:18'\n"
      ]
     },
     "execution_count": 26,
     "metadata": {},
     "output_type": "execute_result"
    }
   ],
   "source": [
    "# Let's look at the reported data\n",
    "psm.data"
   ]
  },
  {
   "cell_type": "code",
   "execution_count": 27,
   "id": "762eec6f",
   "metadata": {},
   "outputs": [
    {
     "name": "stdout",
     "output_type": "stream",
     "text": [
      "{'percentage_of_things': 50, 'pipestat_created_time': '2023-11-08 09:52:20', 'pipestat_modified_time': '2023-11-08 10:13:18', 'record_identifier': 'my_sample_name_1'}\n"
     ]
    }
   ],
   "source": [
    "# You can also retrieve a result:\n",
    "result = psm.retrieve_one(record_identifier=\"my_sample_name_1\")\n",
    "print(result)"
   ]
  },
  {
   "cell_type": "code",
   "execution_count": null,
   "id": "4eddc225",
   "metadata": {},
   "outputs": [],
   "source": []
  }
 ],
 "metadata": {
  "kernelspec": {
   "display_name": "Python 3 (ipykernel)",
   "language": "python",
   "name": "python3"
  },
  "language_info": {
   "codemirror_mode": {
    "name": "ipython",
    "version": 3
   },
   "file_extension": ".py",
   "mimetype": "text/x-python",
   "name": "python",
   "nbconvert_exporter": "python",
   "pygments_lexer": "ipython3",
   "version": "3.10.12"
  }
 },
 "nbformat": 4,
 "nbformat_minor": 5
}
