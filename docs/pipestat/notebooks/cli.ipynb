{
 "cells": [
  {
   "cell_type": "markdown",
   "metadata": {},
   "source": [
    "# Pipestat CLI\n",
    "\n",
    "This tutorial demonstrates how to use the pipeline command-line interface (CLI). You should have already installed pipestat. **Before following this tutorial please make sure you're familiar with more information-rich \"Pipestat Python API\" tutorial.** \n",
    "Also, for the following tutorial, you will need to point to a **sample_output_schema.yaml** in the schema path. An example file can be found here:\n",
    "\n",
    "https://github.com/pepkit/pipestat/blob/master/tests/data/sample_output_schema.yaml"
   ]
  },
  {
   "cell_type": "markdown",
   "metadata": {},
   "source": [
    "Report results from the command line by calling `pipestat` and passing in all relevant information:"
   ]
  },
  {
   "cell_type": "code",
   "execution_count": 35,
   "metadata": {},
   "outputs": [
    {
     "name": "stdout",
     "output_type": "stream",
     "text": [
      "Reported records for 'sample_name' in 'pipeline_name' namespace:\n",
      " - percentage_of_things: 12\n"
     ]
    }
   ],
   "source": [
    "rm ../tests/data/test_results_1.yaml\n",
    "touch ../tests/data/test_results_1.yaml\n",
    "pipestat report \\\n",
    "    --record-identifier sample_name \\\n",
    "    --result-identifier percentage_of_things \\\n",
    "    --value 12 \\\n",
    "    --results-file ../tests/data/test_results_1.yaml \\\n",
    "    --schema ../tests/data/sample_output_schema.yaml"
   ]
  },
  {
   "cell_type": "markdown",
   "metadata": {},
   "source": [
    "But this is obviously pretty cumbersome, since you have to pass lots of constant information to every call to report a result. So instead, you have an option to set up environment variables for a particular pipeline run:"
   ]
  },
  {
   "cell_type": "markdown",
   "metadata": {},
   "source": [
    "## Prepare environment"
   ]
  },
  {
   "cell_type": "markdown",
   "metadata": {},
   "source": [
    "Pipestat environment variables avoid copious repetition of arguments in subsequent `pipestat` calls. Refer to the [Environment variables reference](http://pipestat.databio.org/en/latest/env_vars/) for the complete list of supported environment variables. We will set a few for this tutorial:"
   ]
  },
  {
   "cell_type": "code",
   "execution_count": 36,
   "metadata": {},
   "outputs": [],
   "source": [
    "export PIPESTAT_RESULTS_SCHEMA=../tests/data/sample_output_schema.yaml\n",
    "export PIPESTAT_RECORD_IDENTIFIER=sample1\n",
    "export PIPESTAT_RESULTS_FILE=`mktemp` # temporary file for results storage"
   ]
  },
  {
   "cell_type": "markdown",
   "metadata": {},
   "source": [
    "Before we dive in, let's take a quick glance at the schema. This is the file that describes what sort of results are reported by this pipeline:"
   ]
  },
  {
   "cell_type": "code",
   "execution_count": 37,
   "metadata": {},
   "outputs": [
    {
     "name": "stdout",
     "output_type": "stream",
     "text": [
      "number_of_things:\n",
      "  type: integer\n",
      "  description: \"Number of things\"\n",
      "percentage_of_things:\n",
      "  type: number\n",
      "  description: \"Percentage of things\"\n",
      "name_of_something:\n",
      "  type: string\n",
      "  description: \"Name of something\"\n",
      "swtich_value:\n",
      "  type: boolean\n",
      "  description: \"Is the switch on of off\"\n",
      "collection_of_things:\n",
      "  type: array\n",
      "  description: \"This store collection of values\"\n",
      "output_object:\n",
      "  type: object\n",
      "  description: \"Object output\"\n",
      "output_file:\n",
      "  type: file\n",
      "  description: \"This a path to the output file\"\n",
      "output_image:\n",
      "  type: image\n",
      "  description: \"This a path to the output image\"\n",
      "md5sum:\n",
      "  type: string\n",
      "  description: \"MD5SUM of an object\"\n",
      "  highlight: true\n"
     ]
    }
   ],
   "source": [
    "cat $PIPESTAT_RESULTS_SCHEMA"
   ]
  },
  {
   "cell_type": "markdown",
   "metadata": {},
   "source": [
    "### Reporting\n",
    "\n",
    "Naturally, the command line interface provides access to all the Python API functionalities of `pipestat`. So, for example, to report a result and back the object by a file use:"
   ]
  },
  {
   "cell_type": "code",
   "execution_count": 38,
   "metadata": {},
   "outputs": [
    {
     "name": "stdout",
     "output_type": "stream",
     "text": [
      "Reported records for 'sample1' in 'test' namespace:\n",
      " - number_of_things: 100\n"
     ]
    }
   ],
   "source": [
    "pipestat report -i number_of_things -v 100"
   ]
  },
  {
   "cell_type": "markdown",
   "metadata": {},
   "source": [
    "The result has been reported and the database file has been updated:"
   ]
  },
  {
   "cell_type": "code",
   "execution_count": 39,
   "metadata": {},
   "outputs": [
    {
     "name": "stdout",
     "output_type": "stream",
     "text": [
      "test:\n",
      "  sample1:\n",
      "    number_of_things: 100\n"
     ]
    }
   ],
   "source": [
    "cat $PIPESTAT_RESULTS_FILE"
   ]
  },
  {
   "cell_type": "markdown",
   "metadata": {},
   "source": [
    "Let's report another result:"
   ]
  },
  {
   "cell_type": "code",
   "execution_count": 40,
   "metadata": {},
   "outputs": [
    {
     "name": "stdout",
     "output_type": "stream",
     "text": [
      "Reported records for 'sample1' in 'test' namespace:\n",
      " - percentage_of_things: 1.1\n"
     ]
    }
   ],
   "source": [
    "pipestat report -i percentage_of_things -v 1.1"
   ]
  },
  {
   "cell_type": "code",
   "execution_count": 41,
   "metadata": {},
   "outputs": [
    {
     "name": "stdout",
     "output_type": "stream",
     "text": [
      "test:\n",
      "  sample1:\n",
      "    number_of_things: 100\n",
      "    percentage_of_things: 1.1\n"
     ]
    }
   ],
   "source": [
    "cat $PIPESTAT_RESULTS_FILE"
   ]
  },
  {
   "cell_type": "markdown",
   "metadata": {},
   "source": [
    "### Inspection\n",
    "\n",
    "`pipestat inspect` command is a way to briefly look at the general `PipestatManager` state, like number of records, type of backend etc."
   ]
  },
  {
   "cell_type": "code",
   "execution_count": 42,
   "metadata": {},
   "outputs": [
    {
     "name": "stdout",
     "output_type": "stream",
     "text": [
      "\n",
      "\n",
      "PipestatManager (test)\n",
      "Backend: File \n",
      " - results: /var/folders/h8/8npwnh2s4rb8lr6hsy2ydrsh0000gp/T/tmp.hk8q23wT\n",
      " - status: /var/folders/h8/8npwnh2s4rb8lr6hsy2ydrsh0000gp/T)\n",
      "Results schema source: ../tests/data/sample_output_schema.yaml\n",
      "Status schema source: /usr/local/lib/python3.9/site-packages/pipestat/schemas/status_schema.yaml\n",
      "Records count: 1\n",
      "Highlighted results: md5sum\n"
     ]
    }
   ],
   "source": [
    "pipestat inspect"
   ]
  },
  {
   "cell_type": "markdown",
   "metadata": {},
   "source": [
    "In order to display the contents of the results file or database table associated with the indicated namespace, add `--data` flag:"
   ]
  },
  {
   "cell_type": "code",
   "execution_count": 43,
   "metadata": {},
   "outputs": [
    {
     "name": "stdout",
     "output_type": "stream",
     "text": [
      "\n",
      "\n",
      "PipestatManager (test)\n",
      "Backend: File \n",
      " - results: /var/folders/h8/8npwnh2s4rb8lr6hsy2ydrsh0000gp/T/tmp.hk8q23wT\n",
      " - status: /var/folders/h8/8npwnh2s4rb8lr6hsy2ydrsh0000gp/T)\n",
      "Results schema source: ../tests/data/sample_output_schema.yaml\n",
      "Status schema source: /usr/local/lib/python3.9/site-packages/pipestat/schemas/status_schema.yaml\n",
      "Records count: 1\n",
      "Highlighted results: md5sum\n",
      "\n",
      "Data:\n",
      "test:\n",
      "  sample1:\n",
      "    number_of_things: 100\n",
      "    percentage_of_things: 1.1\n"
     ]
    }
   ],
   "source": [
    "pipestat inspect --data"
   ]
  },
  {
   "cell_type": "markdown",
   "metadata": {},
   "source": [
    "### Retrieval\n",
    "\n",
    "Naturally, the reported results can be retrieved. Just call `pipestat retrieve` to do so:"
   ]
  },
  {
   "cell_type": "code",
   "execution_count": 44,
   "metadata": {},
   "outputs": [
    {
     "name": "stdout",
     "output_type": "stream",
     "text": [
      "1.1\n"
     ]
    }
   ],
   "source": [
    "pipestat retrieve -i percentage_of_things"
   ]
  },
  {
   "cell_type": "markdown",
   "metadata": {},
   "source": [
    "### Removal\n",
    "\n",
    "In order to remove a result call `pipestat remove`:"
   ]
  },
  {
   "cell_type": "code",
   "execution_count": 45,
   "metadata": {},
   "outputs": [
    {
     "name": "stdout",
     "output_type": "stream",
     "text": [
      "Removed result 'percentage_of_things' for record 'sample1' from 'test' namespace\n"
     ]
    }
   ],
   "source": [
    "pipestat remove -i percentage_of_things"
   ]
  },
  {
   "cell_type": "markdown",
   "metadata": {},
   "source": [
    "The results file and the state of the `PipestatManager` object reflect the removal:"
   ]
  },
  {
   "cell_type": "code",
   "execution_count": 46,
   "metadata": {},
   "outputs": [
    {
     "name": "stdout",
     "output_type": "stream",
     "text": [
      "test:\n",
      "  sample1:\n",
      "    number_of_things: 100\n"
     ]
    }
   ],
   "source": [
    "cat $PIPESTAT_RESULTS_FILE"
   ]
  },
  {
   "cell_type": "code",
   "execution_count": 47,
   "metadata": {},
   "outputs": [
    {
     "name": "stdout",
     "output_type": "stream",
     "text": [
      "\n",
      "\n",
      "PipestatManager (test)\n",
      "Backend: File \n",
      " - results: /var/folders/h8/8npwnh2s4rb8lr6hsy2ydrsh0000gp/T/tmp.hk8q23wT\n",
      " - status: /var/folders/h8/8npwnh2s4rb8lr6hsy2ydrsh0000gp/T)\n",
      "Results schema source: ../tests/data/sample_output_schema.yaml\n",
      "Status schema source: /usr/local/lib/python3.9/site-packages/pipestat/schemas/status_schema.yaml\n",
      "Records count: 1\n",
      "Highlighted results: md5sum\n",
      "\n",
      "Data:\n",
      "test:\n",
      "  sample1:\n",
      "    number_of_things: 100\n"
     ]
    }
   ],
   "source": [
    "pipestat inspect --data"
   ]
  },
  {
   "cell_type": "markdown",
   "metadata": {},
   "source": [
    "## Status management\n",
    "\n",
    "To manage pipeline status call `pipestat status <subcommand>`:\n",
    "\n",
    "- `set` to set pipeline statuses\n",
    "- `get` to retrieve pipeline statuses\n",
    "\n",
    "Starting with `pipestat 0.0.3` the `--schema` argument is not required for status management."
   ]
  },
  {
   "cell_type": "code",
   "execution_count": 48,
   "metadata": {},
   "outputs": [],
   "source": [
    "pipestat status set running"
   ]
  },
  {
   "cell_type": "code",
   "execution_count": 49,
   "metadata": {},
   "outputs": [
    {
     "name": "stdout",
     "output_type": "stream",
     "text": [
      "running\n"
     ]
    }
   ],
   "source": [
    "pipestat status get"
   ]
  },
  {
   "cell_type": "markdown",
   "metadata": {},
   "source": [
    "Note that only statuses defined in the status schema are supported:"
   ]
  },
  {
   "cell_type": "code",
   "execution_count": 50,
   "metadata": {},
   "outputs": [
    {
     "name": "stdout",
     "output_type": "stream",
     "text": [
      "running:\n",
      "  description: \"the pipeline is running\"\n",
      "  color: [30, 144, 255] # dodgerblue\n",
      "completed:\n",
      "  description: \"the pipeline has completed\"\n",
      "  color: [50, 205, 50] # limegreen\n",
      "failed:\n",
      "  description: \"the pipeline has failed\"\n",
      "  color: [220, 20, 60] # crimson\n",
      "waiting:\n",
      "  description: \"the pipeline is waiting\"\n",
      "  color: [240, 230, 140] # khaki\n",
      "partial:\n",
      "  description: \"the pipeline stopped before completion point\"\n",
      "  color: [169, 169, 169] # darkgray\n"
     ]
    }
   ],
   "source": [
    "cat /usr/local/lib/python3.9/site-packages/pipestat/schemas/status_schema.yaml"
   ]
  },
  {
   "cell_type": "markdown",
   "metadata": {},
   "source": [
    "## HTML Report Generation\n",
    "\n",
    "To generate a static html report, call `pipestat summarize --results-file PIPESTAT_RESULTS_FILE --schema PIPESTAT_RESULTS_SCHEMA`"
   ]
  },
  {
   "cell_type": "code",
   "execution_count": 51,
   "metadata": {},
   "outputs": [],
   "source": [
    "rm $PIPESTAT_RESULTS_FILE"
   ]
  }
 ],
 "metadata": {
  "kernelspec": {
   "display_name": "Python 3 (ipykernel)",
   "language": "python",
   "name": "python3"
  },
  "language_info": {
   "codemirror_mode": {
    "name": "ipython",
    "version": 3
   },
   "file_extension": ".py",
   "mimetype": "text/x-python",
   "name": "python",
   "nbconvert_exporter": "python",
   "pygments_lexer": "ipython3",
   "version": "3.10.12"
  }
 },
 "nbformat": 4,
 "nbformat_minor": 2
}
