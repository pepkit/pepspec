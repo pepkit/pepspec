{
 "cells": [
  {
   "cell_type": "markdown",
   "id": "67fc2596",
   "metadata": {},
   "source": [
    "# Tutorial of usage geofetch as python package"
   ]
  },
  {
   "cell_type": "markdown",
   "id": "3ced4b1e",
   "metadata": {},
   "source": [
    "♪♫*•♪♪♫*•♪♪♫*•♪♪♫*•♪♪♫*"
   ]
  },
  {
   "cell_type": "markdown",
   "id": "0093b8ef",
   "metadata": {},
   "source": [
    "Geofetch provides python fuctions to fetch metadata and metadata from GEO and SRA by using python language. `get_project` function returns dictionary of peppy projects that were found using filters and input you specified.\n",
    " peppy is a Python package that provides an API for handling standardized project and sample metadata. \n",
    " \n",
    "More information you can get here:\n",
    " \n",
    "http://peppy.databio.org/en/latest/\n",
    "\n",
    "http://pep.databio.org/en/2.0.0/"
   ]
  },
  {
   "cell_type": "markdown",
   "id": "64746e18",
   "metadata": {},
   "source": [
    "### First let's import geofetch"
   ]
  },
  {
   "cell_type": "code",
   "execution_count": 1,
   "id": "60b65668",
   "metadata": {},
   "outputs": [],
   "source": [
    "from geofetch import Geofetcher"
   ]
  },
  {
   "cell_type": "markdown",
   "id": "b6edbdd7",
   "metadata": {},
   "source": [
    "### Initiate Geofetch object by specifing parameters that you want to use for downloading metadata/data"
   ]
  },
  {
   "cell_type": "markdown",
   "id": "dc107c16",
   "metadata": {},
   "source": [
    "1) If you won't specify any parameters, defaul parameters will be used"
   ]
  },
  {
   "cell_type": "code",
   "execution_count": 2,
   "id": "af268078",
   "metadata": {
    "scrolled": false
   },
   "outputs": [
    {
     "name": "stderr",
     "output_type": "stream",
     "text": [
      "Metadata folder: /home/bnt4me/Virginia/repos/geof2/geofetch/docs_jupyter/project_name\n"
     ]
    }
   ],
   "source": [
    "geof = Geofetcher()"
   ]
  },
  {
   "cell_type": "markdown",
   "id": "1916922e",
   "metadata": {},
   "source": [
    "2) To download processed data with samples and series specify this two arguments:"
   ]
  },
  {
   "cell_type": "code",
   "execution_count": 3,
   "id": "d451856a",
   "metadata": {
    "scrolled": false
   },
   "outputs": [
    {
     "name": "stderr",
     "output_type": "stream",
     "text": [
      "Metadata folder: /home/bnt4me/Virginia/repos/geof2/geofetch/docs_jupyter/project_name\n"
     ]
    }
   ],
   "source": [
    "geof = Geofetcher(processed=True, data_source=\"all\")"
   ]
  },
  {
   "cell_type": "markdown",
   "id": "8debdd11",
   "metadata": {},
   "source": [
    "3) To tune project parameter, where metadata should be stored use next parameters:"
   ]
  },
  {
   "cell_type": "code",
   "execution_count": 4,
   "id": "f8edb462",
   "metadata": {
    "scrolled": true
   },
   "outputs": [
    {
     "name": "stderr",
     "output_type": "stream",
     "text": [
      "Metadata folder: /home/bnt4me/Virginia/repos/geof2/geofetch/docs_jupyter/project_name\n"
     ]
    }
   ],
   "source": [
    "geof = Geofetcher(processed=True, data_source=\"all\", const_limit_project = 20, const_limit_discard = 500, attr_limit_truncate = 10000 )"
   ]
  },
  {
   "cell_type": "markdown",
   "id": "d2739b13",
   "metadata": {},
   "source": [
    "4) To add more filter of other options see documentation"
   ]
  },
  {
   "cell_type": "markdown",
   "id": "00b66d4a",
   "metadata": {},
   "source": [
    "## Run Geofetch"
   ]
  },
  {
   "cell_type": "markdown",
   "id": "5e6c5df8",
   "metadata": {},
   "source": [
    "### By default: \n",
    "1) No actual data will be downloaded (just_metadata=True)\n",
    "\n",
    "2) No soft files will be saved on the disc (discard_soft=True)"
   ]
  },
  {
   "cell_type": "code",
   "execution_count": 6,
   "id": "12d70387",
   "metadata": {},
   "outputs": [
    {
     "name": "stderr",
     "output_type": "stream",
     "text": [
      "Trying GSE95654 (not a file) as accession...\n",
      "Trying GSE95654 (not a file) as accession...\n"
     ]
    },
    {
     "data": {
      "application/vnd.jupyter.widget-view+json": {
       "model_id": "0f96c1a1ee8c48f4af31e0dc939fe116",
       "version_major": 2,
       "version_minor": 0
      },
      "text/plain": [
       "Output()"
      ]
     },
     "metadata": {},
     "output_type": "display_data"
    },
    {
     "name": "stderr",
     "output_type": "stream",
     "text": [
      "Skipped 0 accessions. Starting now.\n",
      "\u001b[38;5;200mProcessing accession 1 of 1: 'GSE95654'\u001b[0m\n",
      "\n",
      "Total number of processed SAMPLES files found is: 40\n",
      "Total number of processed SERIES files found is: 0\n",
      "Expanding metadata list...\n",
      "Expanding metadata list...\n"
     ]
    },
    {
     "data": {
      "text/html": [
       "<pre style=\"white-space:pre;overflow-x:auto;line-height:normal;font-family:Menlo,'DejaVu Sans Mono',consolas,'Courier New',monospace\"></pre>\n"
      ],
      "text/plain": []
     },
     "metadata": {},
     "output_type": "display_data"
    },
    {
     "data": {
      "text/html": [
       "<pre style=\"white-space:pre;overflow-x:auto;line-height:normal;font-family:Menlo,'DejaVu Sans Mono',consolas,'Courier New',monospace\">\n",
       "</pre>\n"
      ],
      "text/plain": [
       "\n"
      ]
     },
     "metadata": {},
     "output_type": "display_data"
    },
    {
     "name": "stderr",
     "output_type": "stream",
     "text": [
      "Finished processing 1 accession(s)\n",
      "Cleaning soft files ...\n",
      "Unifying and saving of metadata... \n"
     ]
    },
    {
     "data": {
      "application/vnd.jupyter.widget-view+json": {
       "model_id": "b2c4c738728b4b43938fa6e7f29615ef",
       "version_major": 2,
       "version_minor": 0
      },
      "text/plain": [
       "Output()"
      ]
     },
     "metadata": {},
     "output_type": "display_data"
    },
    {
     "data": {
      "text/html": [
       "<pre style=\"white-space:pre;overflow-x:auto;line-height:normal;font-family:Menlo,'DejaVu Sans Mono',consolas,'Courier New',monospace\"></pre>\n"
      ],
      "text/plain": []
     },
     "metadata": {},
     "output_type": "display_data"
    },
    {
     "data": {
      "text/html": [
       "<pre style=\"white-space:pre;overflow-x:auto;line-height:normal;font-family:Menlo,'DejaVu Sans Mono',consolas,'Courier New',monospace\">\n",
       "</pre>\n"
      ],
      "text/plain": [
       "\n"
      ]
     },
     "metadata": {},
     "output_type": "display_data"
    },
    {
     "data": {
      "text/html": [
       "<pre style=\"white-space:pre;overflow-x:auto;line-height:normal;font-family:Menlo,'DejaVu Sans Mono',consolas,'Courier New',monospace\">\n",
       "</pre>\n"
      ],
      "text/plain": [
       "\n"
      ]
     },
     "metadata": {},
     "output_type": "display_data"
    },
    {
     "data": {
      "application/vnd.jupyter.widget-view+json": {
       "model_id": "02401b3d938a4a588052ba99af677f84",
       "version_major": 2,
       "version_minor": 0
      },
      "text/plain": [
       "Output()"
      ]
     },
     "metadata": {},
     "output_type": "display_data"
    },
    {
     "data": {
      "text/html": [
       "<pre style=\"white-space:pre;overflow-x:auto;line-height:normal;font-family:Menlo,'DejaVu Sans Mono',consolas,'Courier New',monospace\"></pre>\n"
      ],
      "text/plain": []
     },
     "metadata": {},
     "output_type": "display_data"
    },
    {
     "data": {
      "text/html": [
       "<pre style=\"white-space:pre;overflow-x:auto;line-height:normal;font-family:Menlo,'DejaVu Sans Mono',consolas,'Courier New',monospace\">\n",
       "</pre>\n"
      ],
      "text/plain": [
       "\n"
      ]
     },
     "metadata": {},
     "output_type": "display_data"
    },
    {
     "data": {
      "text/html": [
       "<pre style=\"white-space:pre;overflow-x:auto;line-height:normal;font-family:Menlo,'DejaVu Sans Mono',consolas,'Courier New',monospace\">\n",
       "</pre>\n"
      ],
      "text/plain": [
       "\n"
      ]
     },
     "metadata": {},
     "output_type": "display_data"
    },
    {
     "name": "stderr",
     "output_type": "stream",
     "text": [
      "No files found. No data to save. File /home/bnt4me/Virginia/repos/geof2/geofetch/docs_jupyter/project_name/GSE95654_series/GSE95654_series.csv won't be created\n"
     ]
    }
   ],
   "source": [
    "projects = geof.get_projects(\"GSE95654\")"
   ]
  },
  {
   "cell_type": "markdown",
   "id": "bc198009",
   "metadata": {},
   "source": [
    "Check if projects were created by checking dict keys:"
   ]
  },
  {
   "cell_type": "code",
   "execution_count": 7,
   "id": "95896f25",
   "metadata": {
    "scrolled": false
   },
   "outputs": [
    {
     "data": {
      "text/plain": [
       "dict_keys(['GSE95654_samples'])"
      ]
     },
     "execution_count": 7,
     "metadata": {},
     "output_type": "execute_result"
    }
   ],
   "source": [
    "projects.keys()"
   ]
  },
  {
   "cell_type": "markdown",
   "id": "4e27f971",
   "metadata": {},
   "source": [
    "project for smaples was created! Now let's look into it."
   ]
  },
  {
   "cell_type": "markdown",
   "id": "fa2d0bda",
   "metadata": {},
   "source": [
    "\\* the values of the dictionary are peppy projects. More information about peppy Project you can find in the documentation: http://peppy.databio.org/en/latest/"
   ]
  },
  {
   "cell_type": "code",
   "execution_count": 9,
   "id": "e8642711",
   "metadata": {},
   "outputs": [
    {
     "data": {
      "text/plain": [
       "40"
      ]
     },
     "execution_count": 9,
     "metadata": {},
     "output_type": "execute_result"
    }
   ],
   "source": [
    "len(projects['GSE95654_samples'].samples)"
   ]
  },
  {
   "cell_type": "markdown",
   "id": "a4d50082",
   "metadata": {},
   "source": [
    "We got 40 samples from GSE95654 project. If you want to check if it's correct information go into: https://www.ncbi.nlm.nih.gov/geo/query/acc.cgi?acc=GSE95654"
   ]
  },
  {
   "cell_type": "markdown",
   "id": "d0cd958a",
   "metadata": {},
   "source": [
    "Now let's see actuall data. first 15 project and 5 clolumns:"
   ]
  },
  {
   "cell_type": "code",
   "execution_count": 10,
   "id": "ba7be762",
   "metadata": {},
   "outputs": [
    {
     "data": {
      "text/html": [
       "<div>\n",
       "<style scoped>\n",
       "    .dataframe tbody tr th:only-of-type {\n",
       "        vertical-align: middle;\n",
       "    }\n",
       "\n",
       "    .dataframe tbody tr th {\n",
       "        vertical-align: top;\n",
       "    }\n",
       "\n",
       "    .dataframe thead th {\n",
       "        text-align: right;\n",
       "    }\n",
       "</style>\n",
       "<table border=\"1\" class=\"dataframe\">\n",
       "  <thead>\n",
       "    <tr style=\"text-align: right;\">\n",
       "      <th></th>\n",
       "      <th>sample_name</th>\n",
       "      <th>sample_library_strategy</th>\n",
       "      <th>genome_build</th>\n",
       "      <th>tissue</th>\n",
       "      <th>sample_organism_ch1</th>\n",
       "    </tr>\n",
       "    <tr>\n",
       "      <th>sample_name</th>\n",
       "      <th></th>\n",
       "      <th></th>\n",
       "      <th></th>\n",
       "      <th></th>\n",
       "      <th></th>\n",
       "    </tr>\n",
       "  </thead>\n",
       "  <tbody>\n",
       "    <tr>\n",
       "      <th>RRBS_on_CRC_patient_8</th>\n",
       "      <td>RRBS_on_CRC_patient_8</td>\n",
       "      <td>Bisulfite-Seq</td>\n",
       "      <td>hg19</td>\n",
       "      <td>primary tumor</td>\n",
       "      <td>Homo sapiens</td>\n",
       "    </tr>\n",
       "    <tr>\n",
       "      <th>RRBS_on_adjacent_normal_colon_patient_8</th>\n",
       "      <td>RRBS_on_adjacent_normal_colon_patient_8</td>\n",
       "      <td>Bisulfite-Seq</td>\n",
       "      <td>hg19</td>\n",
       "      <td>adjacent normal colon</td>\n",
       "      <td>Homo sapiens</td>\n",
       "    </tr>\n",
       "    <tr>\n",
       "      <th>RRBS_on_CRC_patient_32</th>\n",
       "      <td>RRBS_on_CRC_patient_32</td>\n",
       "      <td>Bisulfite-Seq</td>\n",
       "      <td>hg19</td>\n",
       "      <td>primary tumor</td>\n",
       "      <td>Homo sapiens</td>\n",
       "    </tr>\n",
       "    <tr>\n",
       "      <th>RRBS_on_adjacent_normal_colon_patient_32</th>\n",
       "      <td>RRBS_on_adjacent_normal_colon_patient_32</td>\n",
       "      <td>Bisulfite-Seq</td>\n",
       "      <td>hg19</td>\n",
       "      <td>adjacent normal colon</td>\n",
       "      <td>Homo sapiens</td>\n",
       "    </tr>\n",
       "    <tr>\n",
       "      <th>RRBS_on_CRC_patient_41</th>\n",
       "      <td>RRBS_on_CRC_patient_41</td>\n",
       "      <td>Bisulfite-Seq</td>\n",
       "      <td>hg19</td>\n",
       "      <td>primary tumor</td>\n",
       "      <td>Homo sapiens</td>\n",
       "    </tr>\n",
       "    <tr>\n",
       "      <th>RRBS_on_adjacent_normal_colon_patient_41</th>\n",
       "      <td>RRBS_on_adjacent_normal_colon_patient_41</td>\n",
       "      <td>Bisulfite-Seq</td>\n",
       "      <td>hg19</td>\n",
       "      <td>adjacent normal colon</td>\n",
       "      <td>Homo sapiens</td>\n",
       "    </tr>\n",
       "    <tr>\n",
       "      <th>RRBS_on_CRC_patient_42</th>\n",
       "      <td>RRBS_on_CRC_patient_42</td>\n",
       "      <td>Bisulfite-Seq</td>\n",
       "      <td>hg19</td>\n",
       "      <td>primary tumor</td>\n",
       "      <td>Homo sapiens</td>\n",
       "    </tr>\n",
       "    <tr>\n",
       "      <th>RRBS_on_adjacent_normal_colon_patient_42</th>\n",
       "      <td>RRBS_on_adjacent_normal_colon_patient_42</td>\n",
       "      <td>Bisulfite-Seq</td>\n",
       "      <td>hg19</td>\n",
       "      <td>adjacent normal colon</td>\n",
       "      <td>Homo sapiens</td>\n",
       "    </tr>\n",
       "    <tr>\n",
       "      <th>RRBS_on_ACF_patient_173</th>\n",
       "      <td>RRBS_on_ACF_patient_173</td>\n",
       "      <td>Bisulfite-Seq</td>\n",
       "      <td>hg19</td>\n",
       "      <td>aberrant crypt foci</td>\n",
       "      <td>Homo sapiens</td>\n",
       "    </tr>\n",
       "    <tr>\n",
       "      <th>RRBS_on_ACF_patient_515</th>\n",
       "      <td>RRBS_on_ACF_patient_515</td>\n",
       "      <td>Bisulfite-Seq</td>\n",
       "      <td>hg19</td>\n",
       "      <td>aberrant crypt foci</td>\n",
       "      <td>Homo sapiens</td>\n",
       "    </tr>\n",
       "    <tr>\n",
       "      <th>RRBS_on_normal_crypts_patient_139</th>\n",
       "      <td>RRBS_on_normal_crypts_patient_139</td>\n",
       "      <td>Bisulfite-Seq</td>\n",
       "      <td>hg19</td>\n",
       "      <td>normal colonic crypt</td>\n",
       "      <td>Homo sapiens</td>\n",
       "    </tr>\n",
       "    <tr>\n",
       "      <th>RRBS_on_ACF_patient_143</th>\n",
       "      <td>RRBS_on_ACF_patient_143</td>\n",
       "      <td>Bisulfite-Seq</td>\n",
       "      <td>hg19</td>\n",
       "      <td>aberrant crypt foci</td>\n",
       "      <td>Homo sapiens</td>\n",
       "    </tr>\n",
       "    <tr>\n",
       "      <th>RRBS_on_normal_crypts_patient_143</th>\n",
       "      <td>RRBS_on_normal_crypts_patient_143</td>\n",
       "      <td>Bisulfite-Seq</td>\n",
       "      <td>hg19</td>\n",
       "      <td>normal colonic crypt</td>\n",
       "      <td>Homo sapiens</td>\n",
       "    </tr>\n",
       "    <tr>\n",
       "      <th>RRBS_on_normal_crypts_patient_165</th>\n",
       "      <td>RRBS_on_normal_crypts_patient_165</td>\n",
       "      <td>Bisulfite-Seq</td>\n",
       "      <td>hg19</td>\n",
       "      <td>normal colonic crypt</td>\n",
       "      <td>Homo sapiens</td>\n",
       "    </tr>\n",
       "    <tr>\n",
       "      <th>RRBS_on_ACF_patient_165</th>\n",
       "      <td>RRBS_on_ACF_patient_165</td>\n",
       "      <td>Bisulfite-Seq</td>\n",
       "      <td>hg19</td>\n",
       "      <td>aberrant crypt foci</td>\n",
       "      <td>Homo sapiens</td>\n",
       "    </tr>\n",
       "  </tbody>\n",
       "</table>\n",
       "</div>"
      ],
      "text/plain": [
       "                                                                       sample_name  \\\n",
       "sample_name                                                                          \n",
       "RRBS_on_CRC_patient_8                                        RRBS_on_CRC_patient_8   \n",
       "RRBS_on_adjacent_normal_colon_patient_8    RRBS_on_adjacent_normal_colon_patient_8   \n",
       "RRBS_on_CRC_patient_32                                      RRBS_on_CRC_patient_32   \n",
       "RRBS_on_adjacent_normal_colon_patient_32  RRBS_on_adjacent_normal_colon_patient_32   \n",
       "RRBS_on_CRC_patient_41                                      RRBS_on_CRC_patient_41   \n",
       "RRBS_on_adjacent_normal_colon_patient_41  RRBS_on_adjacent_normal_colon_patient_41   \n",
       "RRBS_on_CRC_patient_42                                      RRBS_on_CRC_patient_42   \n",
       "RRBS_on_adjacent_normal_colon_patient_42  RRBS_on_adjacent_normal_colon_patient_42   \n",
       "RRBS_on_ACF_patient_173                                    RRBS_on_ACF_patient_173   \n",
       "RRBS_on_ACF_patient_515                                    RRBS_on_ACF_patient_515   \n",
       "RRBS_on_normal_crypts_patient_139                RRBS_on_normal_crypts_patient_139   \n",
       "RRBS_on_ACF_patient_143                                    RRBS_on_ACF_patient_143   \n",
       "RRBS_on_normal_crypts_patient_143                RRBS_on_normal_crypts_patient_143   \n",
       "RRBS_on_normal_crypts_patient_165                RRBS_on_normal_crypts_patient_165   \n",
       "RRBS_on_ACF_patient_165                                    RRBS_on_ACF_patient_165   \n",
       "\n",
       "                                         sample_library_strategy genome_build  \\\n",
       "sample_name                                                                     \n",
       "RRBS_on_CRC_patient_8                              Bisulfite-Seq         hg19   \n",
       "RRBS_on_adjacent_normal_colon_patient_8            Bisulfite-Seq         hg19   \n",
       "RRBS_on_CRC_patient_32                             Bisulfite-Seq         hg19   \n",
       "RRBS_on_adjacent_normal_colon_patient_32           Bisulfite-Seq         hg19   \n",
       "RRBS_on_CRC_patient_41                             Bisulfite-Seq         hg19   \n",
       "RRBS_on_adjacent_normal_colon_patient_41           Bisulfite-Seq         hg19   \n",
       "RRBS_on_CRC_patient_42                             Bisulfite-Seq         hg19   \n",
       "RRBS_on_adjacent_normal_colon_patient_42           Bisulfite-Seq         hg19   \n",
       "RRBS_on_ACF_patient_173                            Bisulfite-Seq         hg19   \n",
       "RRBS_on_ACF_patient_515                            Bisulfite-Seq         hg19   \n",
       "RRBS_on_normal_crypts_patient_139                  Bisulfite-Seq         hg19   \n",
       "RRBS_on_ACF_patient_143                            Bisulfite-Seq         hg19   \n",
       "RRBS_on_normal_crypts_patient_143                  Bisulfite-Seq         hg19   \n",
       "RRBS_on_normal_crypts_patient_165                  Bisulfite-Seq         hg19   \n",
       "RRBS_on_ACF_patient_165                            Bisulfite-Seq         hg19   \n",
       "\n",
       "                                                         tissue  \\\n",
       "sample_name                                                       \n",
       "RRBS_on_CRC_patient_8                             primary tumor   \n",
       "RRBS_on_adjacent_normal_colon_patient_8   adjacent normal colon   \n",
       "RRBS_on_CRC_patient_32                            primary tumor   \n",
       "RRBS_on_adjacent_normal_colon_patient_32  adjacent normal colon   \n",
       "RRBS_on_CRC_patient_41                            primary tumor   \n",
       "RRBS_on_adjacent_normal_colon_patient_41  adjacent normal colon   \n",
       "RRBS_on_CRC_patient_42                            primary tumor   \n",
       "RRBS_on_adjacent_normal_colon_patient_42  adjacent normal colon   \n",
       "RRBS_on_ACF_patient_173                     aberrant crypt foci   \n",
       "RRBS_on_ACF_patient_515                     aberrant crypt foci   \n",
       "RRBS_on_normal_crypts_patient_139          normal colonic crypt   \n",
       "RRBS_on_ACF_patient_143                     aberrant crypt foci   \n",
       "RRBS_on_normal_crypts_patient_143          normal colonic crypt   \n",
       "RRBS_on_normal_crypts_patient_165          normal colonic crypt   \n",
       "RRBS_on_ACF_patient_165                     aberrant crypt foci   \n",
       "\n",
       "                                         sample_organism_ch1  \n",
       "sample_name                                                   \n",
       "RRBS_on_CRC_patient_8                           Homo sapiens  \n",
       "RRBS_on_adjacent_normal_colon_patient_8         Homo sapiens  \n",
       "RRBS_on_CRC_patient_32                          Homo sapiens  \n",
       "RRBS_on_adjacent_normal_colon_patient_32        Homo sapiens  \n",
       "RRBS_on_CRC_patient_41                          Homo sapiens  \n",
       "RRBS_on_adjacent_normal_colon_patient_41        Homo sapiens  \n",
       "RRBS_on_CRC_patient_42                          Homo sapiens  \n",
       "RRBS_on_adjacent_normal_colon_patient_42        Homo sapiens  \n",
       "RRBS_on_ACF_patient_173                         Homo sapiens  \n",
       "RRBS_on_ACF_patient_515                         Homo sapiens  \n",
       "RRBS_on_normal_crypts_patient_139               Homo sapiens  \n",
       "RRBS_on_ACF_patient_143                         Homo sapiens  \n",
       "RRBS_on_normal_crypts_patient_143               Homo sapiens  \n",
       "RRBS_on_normal_crypts_patient_165               Homo sapiens  \n",
       "RRBS_on_ACF_patient_165                         Homo sapiens  "
      ]
     },
     "execution_count": 10,
     "metadata": {},
     "output_type": "execute_result"
    }
   ],
   "source": [
    "projects['GSE95654_samples'].sample_table.iloc[:15 , :5]"
   ]
  }
 ],
 "metadata": {
  "kernelspec": {
   "display_name": "Python 3 (ipykernel)",
   "language": "python",
   "name": "python3"
  },
  "language_info": {
   "codemirror_mode": {
    "name": "ipython",
    "version": 3
   },
   "file_extension": ".py",
   "mimetype": "text/x-python",
   "name": "python",
   "nbconvert_exporter": "python",
   "pygments_lexer": "ipython3",
   "version": "3.8.10"
  }
 },
 "nbformat": 4,
 "nbformat_minor": 5
}
